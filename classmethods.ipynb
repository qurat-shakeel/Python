{
  "nbformat": 4,
  "nbformat_minor": 0,
  "metadata": {
    "colab": {
      "provenance": []
    },
    "kernelspec": {
      "name": "python3",
      "display_name": "Python 3"
    },
    "language_info": {
      "name": "python"
    }
  },
  "cells": [
    {
      "cell_type": "code",
      "execution_count": 2,
      "metadata": {
        "colab": {
          "base_uri": "https://localhost:8080/"
        },
        "id": "1yQBRNClibku",
        "outputId": "703d72b6-06cb-416c-8805-13086c430ccc"
      },
      "outputs": [
        {
          "output_type": "stream",
          "name": "stdout",
          "text": [
            "the name is Harry and company is Apple\n",
            "the name is Harry and company is Tesla\n"
          ]
        }
      ],
      "source": [
        "class employee:\n",
        "  company = \"Apple\"\n",
        "  def show(self):\n",
        "    print(f\"the name is {self.name} and company is {self.company}\")\n",
        "\n",
        "  def changecompany(cls, newcompany):\n",
        "    cls.company = newcompany\n",
        "\n",
        "e1 = employee()\n",
        "e1.name = \"Harry\"\n",
        "e1.show()\n",
        "e1.changecompany(\"Tesla\")\n",
        "\n",
        "e1.show()"
      ]
    },
    {
      "cell_type": "code",
      "source": [
        "class employee:\n",
        "  company = \"Apple\"\n",
        "  def show(self):\n",
        "    print(f\"the name is {self.name} and company is {self.company}\")\n",
        "\n",
        "  def changecompany(cls, newcompany):\n",
        "    cls.company = newcompany\n",
        "\n",
        "e1 = employee()\n",
        "e1.name = \"Harry\"\n",
        "e1.show()\n",
        "e1.changecompany(\"Tesla\")\n",
        "e1.show()\n",
        "print(employee.company)      # it will print apple here"
      ],
      "metadata": {
        "colab": {
          "base_uri": "https://localhost:8080/"
        },
        "id": "2uzsYroXmPKy",
        "outputId": "537060d3-427d-4217-f72e-f05d5b41c9d9"
      },
      "execution_count": 4,
      "outputs": [
        {
          "output_type": "stream",
          "name": "stdout",
          "text": [
            "the name is Harry and company is Apple\n",
            "the name is Harry and company is Tesla\n",
            "Apple\n"
          ]
        }
      ]
    },
    {
      "cell_type": "code",
      "source": [
        "class employee:\n",
        "  company = \"Apple\"\n",
        "  def show(self):\n",
        "    print(f\"the name is {self.name} and company is {self.company}\")\n",
        "  @classmethod\n",
        "  def changecompany(cls, newcompany):\n",
        "    cls.company = newcompany\n",
        "\n",
        "e1 = employee()\n",
        "e1.name = \"Harry\"\n",
        "e1.show()\n",
        "e1.changecompany(\"Tesla\")\n",
        "e1.show()"
      ],
      "metadata": {
        "colab": {
          "base_uri": "https://localhost:8080/"
        },
        "id": "x8PsyvVjmic9",
        "outputId": "2cc702bd-a14c-4a2e-9664-ded4547219bb"
      },
      "execution_count": 5,
      "outputs": [
        {
          "output_type": "stream",
          "name": "stdout",
          "text": [
            "the name is Harry and company is Apple\n",
            "the name is Harry and company is Tesla\n"
          ]
        }
      ]
    }
  ]
}