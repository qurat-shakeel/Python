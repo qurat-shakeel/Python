{
  "nbformat": 4,
  "nbformat_minor": 0,
  "metadata": {
    "colab": {
      "provenance": []
    },
    "kernelspec": {
      "name": "python3",
      "display_name": "Python 3"
    },
    "language_info": {
      "name": "python"
    }
  },
  "cells": [
    {
      "cell_type": "code",
      "execution_count": 1,
      "metadata": {
        "colab": {
          "base_uri": "https://localhost:8080/"
        },
        "id": "SeqDSWVLtOcI",
        "outputId": "e36612ba-3f62-449b-e07d-80b826765bc7"
      },
      "outputs": [
        {
          "output_type": "stream",
          "name": "stdout",
          "text": [
            "qurat\n"
          ]
        }
      ],
      "source": [
        "class person:\n",
        "  name = \"qurat\"\n",
        "  occupation = \"developer\"\n",
        "  networth = 10\n",
        "\n",
        "a = person()\n",
        "print(a.name)"
      ]
    },
    {
      "cell_type": "code",
      "source": [
        "class person:\n",
        "  name = \"qurat\"\n",
        "  occupation = \"developer\"\n",
        "  networth = 10\n",
        "\n",
        "a = person()\n",
        "a.name = \"aisha\"\n",
        "a.occupation = \"student\"\n",
        "print(a.name, a.occupation)"
      ],
      "metadata": {
        "colab": {
          "base_uri": "https://localhost:8080/"
        },
        "id": "etPc7fydtupa",
        "outputId": "28c9da61-03f4-47b1-8d7d-b47de595afdd"
      },
      "execution_count": 3,
      "outputs": [
        {
          "output_type": "stream",
          "name": "stdout",
          "text": [
            "aisha student\n"
          ]
        }
      ]
    },
    {
      "cell_type": "code",
      "source": [
        "class person:\n",
        "  name = \"qurat\"\n",
        "  occupation = \"developer\"\n",
        "  networth = 10\n",
        "  def info(self):\n",
        "    print(f\"{self.name} is a {self.occupation}\")\n",
        "a = person()\n",
        "a.info()"
      ],
      "metadata": {
        "colab": {
          "base_uri": "https://localhost:8080/"
        },
        "id": "54eJ9EA8uHEK",
        "outputId": "047d0f27-3ea9-4fea-8e07-e572c19875f1"
      },
      "execution_count": 4,
      "outputs": [
        {
          "output_type": "stream",
          "name": "stdout",
          "text": [
            "qurat is a developer\n"
          ]
        }
      ]
    },
    {
      "cell_type": "code",
      "source": [
        "class person:\n",
        "  name = \"qurat\"\n",
        "  occupation = \"developer\"\n",
        "  networth = 10\n",
        "  def info(self):\n",
        "    print(f\"{self.name} is a {self.occupation}\")\n",
        "a = person()\n",
        "a.name = \"aisha\"\n",
        "a.occupation = \"student\"\n",
        "a.info()"
      ],
      "metadata": {
        "colab": {
          "base_uri": "https://localhost:8080/"
        },
        "id": "Z8TylmOeukNN",
        "outputId": "93235962-80ea-489b-bd54-0c8afa128a73"
      },
      "execution_count": 5,
      "outputs": [
        {
          "output_type": "stream",
          "name": "stdout",
          "text": [
            "aisha is a student\n"
          ]
        }
      ]
    },
    {
      "cell_type": "code",
      "source": [
        " class person:\n",
        "  name = \"qurat\"\n",
        "  occupation = \"developer\"\n",
        "  networth = 10\n",
        "  def info(self):\n",
        "    print(f\"{self.name} is a {self.occupation}\")\n",
        "a = person()\n",
        "b = person()\n",
        "c = person()\n",
        "a.name = \"aisha\"\n",
        "a.occupation = \"student\"\n",
        "\n",
        "b.name = \"insha\"\n",
        "b.occupation = \"accountant\"\n",
        "a.info()\n",
        "b.info()\n",
        "c.info()"
      ],
      "metadata": {
        "colab": {
          "base_uri": "https://localhost:8080/"
        },
        "id": "2Cdp7hnCu6m1",
        "outputId": "fc485171-871e-4925-c204-ea16450ef701"
      },
      "execution_count": 8,
      "outputs": [
        {
          "output_type": "stream",
          "name": "stdout",
          "text": [
            "aisha is a student\n",
            "insha is a accountant\n",
            "qurat is a developer\n"
          ]
        }
      ]
    }
  ]
}