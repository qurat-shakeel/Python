{
  "nbformat": 4,
  "nbformat_minor": 0,
  "metadata": {
    "colab": {
      "provenance": []
    },
    "kernelspec": {
      "name": "python3",
      "display_name": "Python 3"
    },
    "language_info": {
      "name": "python"
    }
  },
  "cells": [
    {
      "cell_type": "code",
      "execution_count": 2,
      "metadata": {
        "id": "Qz2BHeyW6du2",
        "colab": {
          "base_uri": "https://localhost:8080/"
        },
        "outputId": "90ce81f4-0abe-4d0c-af19-e4fb31d9e038"
      },
      "outputs": [
        {
          "output_type": "stream",
          "name": "stdout",
          "text": [
            "Qurat\n"
          ]
        }
      ],
      "source": [
        "# magic methods or dunder methods -- starts with double underscore (__)\n",
        "class  employee:\n",
        "  name = \"Qurat\"\n",
        "\n",
        "e = employee()\n",
        "print(e.name)\n"
      ]
    },
    {
      "cell_type": "code",
      "source": [
        "class  employee:\n",
        "  name = \"Qurat\"\n",
        "  def __len__(self):\n",
        "    i = 0\n",
        "    for c in self.name:\n",
        "      i = i + 1\n",
        "    return i\n",
        "\n",
        "e = employee()\n",
        "print(e.name)\n",
        "print(len(e))"
      ],
      "metadata": {
        "colab": {
          "base_uri": "https://localhost:8080/"
        },
        "id": "Vnbo0sHJ0q5x",
        "outputId": "02c2f81a-b75f-498c-dc23-7344234cef89"
      },
      "execution_count": 7,
      "outputs": [
        {
          "output_type": "stream",
          "name": "stdout",
          "text": [
            "Qurat\n",
            "5\n"
          ]
        }
      ]
    },
    {
      "cell_type": "code",
      "source": [
        "class  employee:\n",
        "  def __init__(self,name):\n",
        "    self.name = name\n",
        "\n",
        "  def __len__(self):\n",
        "    i = 0\n",
        "    for c in self.name:\n",
        "      i = i + 1\n",
        "    return i\n",
        "\n",
        "e = employee(\"Qurat\")\n",
        "print(e.name)\n",
        "print(len(e))"
      ],
      "metadata": {
        "colab": {
          "base_uri": "https://localhost:8080/"
        },
        "id": "3yGHZee31eXV",
        "outputId": "76ad9193-b591-4d57-a2c3-e1eda8458e7e"
      },
      "execution_count": 10,
      "outputs": [
        {
          "output_type": "stream",
          "name": "stdout",
          "text": [
            "Qurat\n",
            "5\n"
          ]
        }
      ]
    },
    {
      "cell_type": "code",
      "source": [],
      "metadata": {
        "id": "ZvoULlUE4suH"
      },
      "execution_count": null,
      "outputs": []
    }
  ]
}