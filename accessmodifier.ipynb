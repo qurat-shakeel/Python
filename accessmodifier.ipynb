{
  "nbformat": 4,
  "nbformat_minor": 0,
  "metadata": {
    "colab": {
      "provenance": []
    },
    "kernelspec": {
      "name": "python3",
      "display_name": "Python 3"
    },
    "language_info": {
      "name": "python"
    }
  },
  "cells": [
    {
      "cell_type": "code",
      "execution_count": 3,
      "metadata": {
        "colab": {
          "base_uri": "https://localhost:8080/"
        },
        "id": "JakjWG004j0B",
        "outputId": "f4f5d16b-41cd-48a9-928d-ce3ace8b86b7"
      },
      "outputs": [
        {
          "output_type": "stream",
          "name": "stdout",
          "text": [
            "harry\n"
          ]
        }
      ],
      "source": [
        "class Employee:\n",
        "  def __init__(self):\n",
        "    self.name = \"harry\"\n",
        "\n",
        "a = Employee()\n",
        "print(a.name)\n",
        "# by default, all methods are public and publically accessible"
      ]
    },
    {
      "cell_type": "code",
      "source": [
        "class Employee:\n",
        "  def __init__(self):\n",
        "    self.__name = \"Sam\" ## private variable __name\n",
        "\n",
        "a = Employee()\n",
        "# print(a.__name)    cannot be accessed directly\n",
        "print(a._Employee__name) # can be accessed indirectly  , name mangling\n",
        "print(a.__dir__())\n",
        "\n"
      ],
      "metadata": {
        "colab": {
          "base_uri": "https://localhost:8080/"
        },
        "id": "fjv0KFQp573S",
        "outputId": "e26203e4-6134-44f6-ceac-a6f1206c3688"
      },
      "execution_count": 14,
      "outputs": [
        {
          "output_type": "stream",
          "name": "stdout",
          "text": [
            "Sam\n",
            "['_Employee__name', '__module__', '__init__', '__dict__', '__weakref__', '__doc__', '__new__', '__repr__', '__hash__', '__str__', '__getattribute__', '__setattr__', '__delattr__', '__lt__', '__le__', '__eq__', '__ne__', '__gt__', '__ge__', '__reduce_ex__', '__reduce__', '__subclasshook__', '__init_subclass__', '__format__', '__sizeof__', '__dir__', '__class__']\n"
          ]
        }
      ]
    },
    {
      "cell_type": "code",
      "source": [
        "class student:\n",
        "  def __init__(self):\n",
        "    self._name = \"Harry\"\n",
        "\n",
        "  def _funname(self):   #protected method\n",
        "   return \"codewithharry\"\n",
        "\n",
        "class subject(student):    #inherited class\n",
        "  pass\n",
        "obj = student()\n",
        "obj1 = subject()\n",
        "print(dir(obj))\n",
        " # calling by object of student class\n",
        "print(obj._name)\n",
        "print(obj._funname)\n",
        "# calling by object of subject class\n",
        "print(obj1._name)\n",
        "print(obj1._funname)"
      ],
      "metadata": {
        "colab": {
          "base_uri": "https://localhost:8080/"
        },
        "id": "2yJq0cgS81O3",
        "outputId": "69e3c9ff-4f58-4c33-a1e2-2398f60e78d3"
      },
      "execution_count": 18,
      "outputs": [
        {
          "output_type": "stream",
          "name": "stdout",
          "text": [
            "['__class__', '__delattr__', '__dict__', '__dir__', '__doc__', '__eq__', '__format__', '__ge__', '__getattribute__', '__gt__', '__hash__', '__init__', '__init_subclass__', '__le__', '__lt__', '__module__', '__ne__', '__new__', '__reduce__', '__reduce_ex__', '__repr__', '__setattr__', '__sizeof__', '__str__', '__subclasshook__', '__weakref__', '_funname', '_name']\n",
            "Harry\n",
            "<bound method student._funname of <__main__.student object at 0x7d839fb531c0>>\n",
            "Harry\n",
            "<bound method student._funname of <__main__.subject object at 0x7d839fb52e00>>\n"
          ]
        }
      ]
    }
  ]
}