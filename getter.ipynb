{
  "nbformat": 4,
  "nbformat_minor": 0,
  "metadata": {
    "colab": {
      "provenance": []
    },
    "kernelspec": {
      "name": "python3",
      "display_name": "Python 3"
    },
    "language_info": {
      "name": "python"
    }
  },
  "cells": [
    {
      "cell_type": "code",
      "execution_count": 1,
      "metadata": {
        "colab": {
          "base_uri": "https://localhost:8080/"
        },
        "id": "kM3v0GuzBHSj",
        "outputId": "e1a7de85-a981-4895-867b-e11e868347a6"
      },
      "outputs": [
        {
          "output_type": "stream",
          "name": "stdout",
          "text": [
            "value is 10\n"
          ]
        }
      ],
      "source": [
        "class Myclass:\n",
        "  def __init__(self,value):\n",
        "    self._value = value\n",
        "  def show(self):\n",
        "    print(f\"value is {self._value}\")\n",
        "  @property\n",
        "  def value(self):\n",
        "    return self._value\n",
        "\n",
        "obj = Myclass(10)\n",
        "obj.show()"
      ]
    },
    {
      "cell_type": "code",
      "source": [
        "class Myclass:\n",
        "  def __init__(self,value):\n",
        "    self._value = value\n",
        "  def show(self):\n",
        "    print(f\"value is {self._value}\")\n",
        "  @property\n",
        "  def value(self):\n",
        "    return self._value\n",
        "\n",
        "obj = Myclass(10)\n",
        "print(obj._value)\n",
        "obj.show()"
      ],
      "metadata": {
        "colab": {
          "base_uri": "https://localhost:8080/"
        },
        "id": "2qBfAmDWCBQQ",
        "outputId": "2e3c0779-db04-4e13-d044-ee84d94a88e0"
      },
      "execution_count": 2,
      "outputs": [
        {
          "output_type": "stream",
          "name": "stdout",
          "text": [
            "10\n",
            "value is 10\n"
          ]
        }
      ]
    },
    {
      "cell_type": "code",
      "source": [
        "class Myclass:\n",
        "  def __init__(self,value):\n",
        "    self._value = value\n",
        "  def show(self):\n",
        "    print(f\"value is {self._value}\")\n",
        "  @property\n",
        "  def ten_value(self):\n",
        "    return 10*self._value\n",
        "\n",
        "obj = Myclass(10)\n",
        "print(obj.ten_value)\n",
        "obj.show()"
      ],
      "metadata": {
        "colab": {
          "base_uri": "https://localhost:8080/"
        },
        "id": "6m7ba4cECMen",
        "outputId": "fb21d796-b745-468c-b8b6-5d7ee60e2aca"
      },
      "execution_count": 5,
      "outputs": [
        {
          "output_type": "stream",
          "name": "stdout",
          "text": [
            "100\n",
            "value is 10\n"
          ]
        }
      ]
    },
    {
      "cell_type": "code",
      "source": [
        "class Myclass:\n",
        "  def __init__(self,value):\n",
        "    self._value = value\n",
        "  def show(self):\n",
        "    print(f\"value is {self._value}\")\n",
        "  @property\n",
        "  def ten_value(self):\n",
        "    return 10*self._value\n",
        "  @ten_value.setter\n",
        "  def ten_value(self,new_value):\n",
        "    self._value = new_value/10\n",
        "\n",
        "obj = Myclass(10)\n",
        "obj.ten_value = 67\n",
        "print(obj.ten_value)\n",
        "obj.show()"
      ],
      "metadata": {
        "colab": {
          "base_uri": "https://localhost:8080/"
        },
        "id": "Q3d73Gh3Cgft",
        "outputId": "f2c463d1-63b3-4e8c-ba6b-823e7ce53abc"
      },
      "execution_count": 6,
      "outputs": [
        {
          "output_type": "stream",
          "name": "stdout",
          "text": [
            "67.0\n",
            "value is 6.7\n"
          ]
        }
      ]
    }
  ]
}