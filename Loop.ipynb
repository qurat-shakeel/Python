{
  "nbformat": 4,
  "nbformat_minor": 0,
  "metadata": {
    "colab": {
      "provenance": []
    },
    "kernelspec": {
      "name": "python3",
      "display_name": "Python 3"
    },
    "language_info": {
      "name": "python"
    }
  },
  "cells": [
    {
      "cell_type": "code",
      "source": [
        "# while loop\n",
        "x = 0\n",
        "while (x < 3):\n",
        "    x = x + 1\n",
        "    print(\"Hello World\")"
      ],
      "metadata": {
        "colab": {
          "base_uri": "https://localhost:8080/"
        },
        "id": "OZrZDCPYRjAm",
        "outputId": "2aa4b3ef-0d1c-49b8-dbd8-8408d0eb36c3"
      },
      "execution_count": 5,
      "outputs": [
        {
          "output_type": "stream",
          "name": "stdout",
          "text": [
            "Hello World\n",
            "Hello World\n",
            "Hello World\n"
          ]
        }
      ]
    },
    {
      "cell_type": "code",
      "source": [
        "# while else loop\n",
        "y = 0\n",
        "while (y < 3):\n",
        "    y = y + 1\n",
        "    print(\"Hello World\")\n",
        "else:\n",
        "    print(\"In Else Block\")"
      ],
      "metadata": {
        "colab": {
          "base_uri": "https://localhost:8080/"
        },
        "id": "QZ5d7XsYUIGI",
        "outputId": "57b9d256-76e3-4d12-a2dc-129d9cdfdbaf"
      },
      "execution_count": 6,
      "outputs": [
        {
          "output_type": "stream",
          "name": "stdout",
          "text": [
            "Hello World\n",
            "Hello World\n",
            "Hello World\n",
            "In Else Block\n"
          ]
        }
      ]
    },
    {
      "cell_type": "code",
      "source": [
        "\n",
        "\n",
        "x = 0\n",
        "while (x == 0):             # it is suggested not to use this loop as it is never ending (infinite loop)\n",
        "    print(\"Hello World\")"
      ],
      "metadata": {
        "id": "r3YkMbPuUhPv"
      },
      "execution_count": null,
      "outputs": []
    },
    {
      "cell_type": "code",
      "source": [
        "n = 4\n",
        "for i in range(0, n):\n",
        "    print(i)"
      ],
      "metadata": {
        "colab": {
          "base_uri": "https://localhost:8080/"
        },
        "id": "r9mcF25FU_K0",
        "outputId": "8afa731c-b9f0-4549-9d69-75829d17e07f"
      },
      "execution_count": 8,
      "outputs": [
        {
          "output_type": "stream",
          "name": "stdout",
          "text": [
            "0\n",
            "1\n",
            "2\n",
            "3\n"
          ]
        }
      ]
    },
    {
      "cell_type": "code",
      "source": [
        "list = [\"Hello\", \"World\"]\n",
        "for index in range(len(list)):\n",
        "    print(list[index])"
      ],
      "metadata": {
        "colab": {
          "base_uri": "https://localhost:8080/"
        },
        "id": "fowCz_G_VSYm",
        "outputId": "ef93bd0f-f6f2-491f-aa76-c6153e0e5932"
      },
      "execution_count": 9,
      "outputs": [
        {
          "output_type": "stream",
          "name": "stdout",
          "text": [
            "Hello\n",
            "World\n"
          ]
        }
      ]
    },
    {
      "cell_type": "code",
      "source": [],
      "metadata": {
        "id": "Y2-tqWChVvE2"
      },
      "execution_count": null,
      "outputs": []
    },
    {
      "cell_type": "code",
      "source": [
        "list = [\"Hello\", \"World\"]\n",
        "for index in range(len(list)):\n",
        "    print(list[index])\n",
        "else:\n",
        "    print(\"Inside Else Block\")"
      ],
      "metadata": {
        "colab": {
          "base_uri": "https://localhost:8080/"
        },
        "id": "za8RV2YGVvT8",
        "outputId": "d83242a9-224f-4f0e-b4a8-86146b7c6345"
      },
      "execution_count": 10,
      "outputs": [
        {
          "output_type": "stream",
          "name": "stdout",
          "text": [
            "Hello\n",
            "World\n",
            "Inside Else Block\n"
          ]
        }
      ]
    },
    {
      "cell_type": "code",
      "source": [
        "#  continue statement returns the control to the beginning of the loop.\n",
        "for letter in 'HelloWorld':\n",
        "    if letter == 'o' or letter == 'l':\n",
        "        continue\n",
        "    print('Current Letter :', letter)"
      ],
      "metadata": {
        "colab": {
          "base_uri": "https://localhost:8080/"
        },
        "id": "LPCO53nyWEPF",
        "outputId": "3ef57c71-2aa8-464f-ac24-9ce727b5862d"
      },
      "execution_count": 12,
      "outputs": [
        {
          "output_type": "stream",
          "name": "stdout",
          "text": [
            "Current Letter : H\n",
            "Current Letter : e\n",
            "Current Letter : W\n",
            "Current Letter : r\n",
            "Current Letter : d\n"
          ]
        }
      ]
    },
    {
      "cell_type": "code",
      "source": [
        "# Break statement brings control out of the loop.\n",
        "for letter in 'HelloWorld':\n",
        "    if letter == 'e' or letter == 's':\n",
        "        break\n",
        "\n",
        "print('Current Letter :', letter)\n"
      ],
      "metadata": {
        "colab": {
          "base_uri": "https://localhost:8080/"
        },
        "id": "dlrKSHZ4fOm9",
        "outputId": "b3c8dcbf-ac89-4bac-f92d-cff90c91f0e8"
      },
      "execution_count": 13,
      "outputs": [
        {
          "output_type": "stream",
          "name": "stdout",
          "text": [
            "Current Letter : e\n"
          ]
        }
      ]
    },
    {
      "cell_type": "code",
      "source": [
        "# pass statement to write empty loops\n",
        "for letter in 'helloworld':\n",
        "    pass\n",
        "print('Last Letter :', letter)"
      ],
      "metadata": {
        "colab": {
          "base_uri": "https://localhost:8080/"
        },
        "id": "jKN8FZ6yf6nz",
        "outputId": "5b6a8c3d-6a40-45cc-f07f-3b6844a32a10"
      },
      "execution_count": 14,
      "outputs": [
        {
          "output_type": "stream",
          "name": "stdout",
          "text": [
            "Last Letter : d\n"
          ]
        }
      ]
    },
    {
      "cell_type": "code",
      "source": [
        "fruits = [\"apple\", \"orange\", \"kiwi\"]\n",
        "\n",
        "for fruit in fruits:\n",
        "\n",
        "    print(fruit)"
      ],
      "metadata": {
        "colab": {
          "base_uri": "https://localhost:8080/"
        },
        "id": "prU9e8CLgndd",
        "outputId": "cf2284fc-e683-4306-8bcc-8edaa16004e8"
      },
      "execution_count": 15,
      "outputs": [
        {
          "output_type": "stream",
          "name": "stdout",
          "text": [
            "apple\n",
            "orange\n",
            "kiwi\n"
          ]
        }
      ]
    }
  ]
}