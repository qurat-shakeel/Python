{
  "nbformat": 4,
  "nbformat_minor": 0,
  "metadata": {
    "colab": {
      "provenance": []
    },
    "kernelspec": {
      "name": "python3",
      "display_name": "Python 3"
    },
    "language_info": {
      "name": "python"
    }
  },
  "cells": [
    {
      "cell_type": "code",
      "execution_count": 3,
      "metadata": {
        "colab": {
          "base_uri": "https://localhost:8080/"
        },
        "id": "hKXgsmB_wkcV",
        "outputId": "9b19c202-4fd6-4407-e58b-b70f9688274d"
      },
      "outputs": [
        {
          "output_type": "stream",
          "name": "stdout",
          "text": [
            "abc\n",
            "12000\n",
            "john\n",
            "12000\n"
          ]
        }
      ],
      "source": [
        "class employee:\n",
        "  def __init__(self, name, salary):\n",
        "    self.name = name\n",
        "    self.salary = salary\n",
        "\n",
        "e = employee(\"abc\",12000)\n",
        "print(e.name)\n",
        "print(e.salary)\n",
        "string = \"john-12000\"\n",
        "e = employee(string.split(\"-\")[0],string.split(\"-\")[1])\n",
        "print(e.name)\n",
        "print(e.salary)"
      ]
    },
    {
      "cell_type": "code",
      "source": [
        "# creating class instance\n",
        "class employee:\n",
        "  def __init__(self, name, salary):\n",
        "    self.name = name\n",
        "    self.salary = salary\n",
        "  @classmethod\n",
        "  def fromstr(cls,string):\n",
        "    return cls(string.split(\"-\")[0], string.split(\"-\")[1])\n",
        "\n",
        "\n",
        "e1 = employee(\"abc\",12000)\n",
        "print(e1.name)\n",
        "print(e1.salary)\n",
        "\n",
        "string = \"john-12000\"\n",
        "e2 = employee.fromstr(string)\n",
        "print(e2.name)\n",
        "print(e2.salary)"
      ],
      "metadata": {
        "colab": {
          "base_uri": "https://localhost:8080/"
        },
        "id": "VbdQ9peuyBpF",
        "outputId": "d833ad6b-838d-4324-c048-6fe3c94895f1"
      },
      "execution_count": 5,
      "outputs": [
        {
          "output_type": "stream",
          "name": "stdout",
          "text": [
            "abc\n",
            "12000\n",
            "john\n",
            "12000\n"
          ]
        }
      ]
    },
    {
      "cell_type": "code",
      "source": [
        "class person:\n",
        "  def __init__(self, name, age):\n",
        "    self.name = name\n",
        "    self.age = age\n",
        "\n",
        "  @classmethod\n",
        "  def from_string(cls,string):\n",
        "    name,age = string.split(',')\n",
        "    return cls(name, int(age))\n",
        "\n",
        "person = person.from_string(\"john doe, 30\")\n",
        "print(person.name, person.age)"
      ],
      "metadata": {
        "colab": {
          "base_uri": "https://localhost:8080/"
        },
        "id": "Ulfm7cmEznGF",
        "outputId": "a7fa4eef-a26d-4ba8-c7cf-a7f1ccf13478"
      },
      "execution_count": 6,
      "outputs": [
        {
          "output_type": "stream",
          "name": "stdout",
          "text": [
            "john doe 30\n"
          ]
        }
      ]
    }
  ]
}