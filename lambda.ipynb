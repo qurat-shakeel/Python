{
  "nbformat": 4,
  "nbformat_minor": 0,
  "metadata": {
    "colab": {
      "provenance": []
    },
    "kernelspec": {
      "name": "python3",
      "display_name": "Python 3"
    },
    "language_info": {
      "name": "python"
    }
  },
  "cells": [
    {
      "cell_type": "code",
      "execution_count": 2,
      "metadata": {
        "colab": {
          "base_uri": "https://localhost:8080/",
          "height": 0
        },
        "id": "OCzB6iRk6kwp",
        "outputId": "402b64c5-b9df-42cb-fc03-f65989607e1f"
      },
      "outputs": [
        {
          "output_type": "stream",
          "name": "stdout",
          "text": [
            "15\n"
          ]
        }
      ],
      "source": [
        "def triple(x):\n",
        "  return x*3\n",
        "\n",
        "print(triple(5))"
      ]
    },
    {
      "cell_type": "code",
      "source": [
        "cube = lambda x: x*x*x\n",
        "triple = lambda x: x*3\n",
        "print(triple(4))\n",
        "print(cube(5))"
      ],
      "metadata": {
        "colab": {
          "base_uri": "https://localhost:8080/",
          "height": 0
        },
        "id": "ir62sOab8P7j",
        "outputId": "6c2a2e71-8331-4204-ef9d-360a43860522"
      },
      "execution_count": 4,
      "outputs": [
        {
          "output_type": "stream",
          "name": "stdout",
          "text": [
            "12\n",
            "125\n"
          ]
        }
      ]
    },
    {
      "cell_type": "code",
      "source": [
        "avg = lambda x,y,z:(x+y+z)/3\n",
        "print(avg(1,2,3))"
      ],
      "metadata": {
        "colab": {
          "base_uri": "https://localhost:8080/",
          "height": 0
        },
        "id": "nKVSHVX79J7R",
        "outputId": "69ed216d-cb4d-419f-f527-0e2338940218"
      },
      "execution_count": 8,
      "outputs": [
        {
          "output_type": "stream",
          "name": "stdout",
          "text": [
            "2.0\n"
          ]
        }
      ]
    },
    {
      "cell_type": "code",
      "source": [
        "#function passed to a function\n",
        "\n",
        "# cube function without name cube (anonymous)\n",
        "def apple(fx,value):\n",
        "  return  fx(value)\n",
        "\n",
        "print(apple(lambda x:x*x*x,2))"
      ],
      "metadata": {
        "colab": {
          "base_uri": "https://localhost:8080/",
          "height": 0
        },
        "id": "KiXh_Ywl9_dR",
        "outputId": "7b81644f-9349-45e7-b6bc-980e8dfd3140"
      },
      "execution_count": 11,
      "outputs": [
        {
          "output_type": "stream",
          "name": "stdout",
          "text": [
            "8\n"
          ]
        }
      ]
    },
    {
      "cell_type": "code",
      "source": [],
      "metadata": {
        "id": "IMPf0Dw8-JVU"
      },
      "execution_count": null,
      "outputs": []
    }
  ]
}