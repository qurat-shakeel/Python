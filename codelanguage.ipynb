{
  "nbformat": 4,
  "nbformat_minor": 0,
  "metadata": {
    "colab": {
      "provenance": []
    },
    "kernelspec": {
      "name": "python3",
      "display_name": "Python 3"
    },
    "language_info": {
      "name": "python"
    }
  },
  "cells": [
    {
      "cell_type": "code",
      "execution_count": null,
      "metadata": {
        "id": "qrTdVCKIgNoV"
      },
      "outputs": [],
      "source": [
        "st = input(\"enter message\")\n",
        "words = st.split(\" \")\n",
        "coding = True\n",
        "if(coding):\n",
        "  nwords = []\n",
        "  for word in words:\n",
        "    if(len(word)>=3):\n",
        "     r1 = \"dsf\"\n",
        "     r2 = \"jkr\"\n",
        "     stnew = r1+ word[1:] + word[0] +r2\n",
        "     nwords.append(stnew)\n",
        "    else:\n",
        "      nwords.append(word[::-1])\n",
        "\n",
        "  print(\"  \".join(nwords))\n",
        "\n",
        "\n",
        "\n",
        "else:\n",
        "\n",
        "  pass"
      ]
    },
    {
      "cell_type": "code",
      "source": [],
      "metadata": {
        "id": "vxtmOrQDm5X_"
      },
      "execution_count": null,
      "outputs": []
    }
  ]
}