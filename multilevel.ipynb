{
  "nbformat": 4,
  "nbformat_minor": 0,
  "metadata": {
    "colab": {
      "provenance": []
    },
    "kernelspec": {
      "name": "python3",
      "display_name": "Python 3"
    },
    "language_info": {
      "name": "python"
    }
  },
  "cells": [
    {
      "cell_type": "code",
      "execution_count": 2,
      "metadata": {
        "id": "Kot4AnsUArcO"
      },
      "outputs": [],
      "source": [
        "class Animal:\n",
        "    def __init__(self, name, species):\n",
        "        self.name = name\n",
        "        self.species = species\n",
        "\n",
        "    def show_details(self):\n",
        "        print(f\"Name: {self.name}\")\n",
        "        print(f\"Species: {self.species}\")\n",
        "\n",
        "class Dog(Animal):\n",
        "    def __init__(self, name, breed):\n",
        "        Animal.__init__(self, name, species=\"Dog\")\n",
        "        self.breed = breed\n",
        "\n",
        "    def show_details(self):\n",
        "        Animal.show_details(self)\n",
        "        print(f\"Breed: {self.breed}\")\n",
        "\n",
        "class GoldenRetriever(Dog):\n",
        "    def __init__(self, name, color):\n",
        "        Dog.__init__(self, name, breed=\"Golden Retriever\")\n",
        "        self.color = color\n",
        "\n",
        "    def show_details(self):\n",
        "        Dog.show_details(self)\n",
        "        print(f\"Color: {self.color}\")"
      ]
    },
    {
      "cell_type": "code",
      "source": [
        "dog = GoldenRetriever(\"Max\", \"Golden\")\n",
        "dog.show_details()"
      ],
      "metadata": {
        "colab": {
          "base_uri": "https://localhost:8080/"
        },
        "id": "-GaT7TqoBA5H",
        "outputId": "41a44c21-52c1-4f48-b3f7-4ad262f1dc8f"
      },
      "execution_count": 3,
      "outputs": [
        {
          "output_type": "stream",
          "name": "stdout",
          "text": [
            "Name: Max\n",
            "Species: Dog\n",
            "Breed: Golden Retriever\n",
            "Color: Golden\n"
          ]
        }
      ]
    },
    {
      "cell_type": "code",
      "source": [],
      "metadata": {
        "id": "E7mnN6ghBE4b"
      },
      "execution_count": null,
      "outputs": []
    }
  ]
}