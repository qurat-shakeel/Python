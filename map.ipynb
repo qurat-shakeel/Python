{
  "nbformat": 4,
  "nbformat_minor": 0,
  "metadata": {
    "colab": {
      "provenance": []
    },
    "kernelspec": {
      "name": "python3",
      "display_name": "Python 3"
    },
    "language_info": {
      "name": "python"
    }
  },
  "cells": [
    {
      "cell_type": "code",
      "execution_count": 1,
      "metadata": {
        "colab": {
          "base_uri": "https://localhost:8080/"
        },
        "id": "lPUlWorOBgjO",
        "outputId": "cf252c4c-d742-4fe6-ae76-5f4c5440dcf9"
      },
      "outputs": [
        {
          "output_type": "stream",
          "name": "stdout",
          "text": [
            "8\n"
          ]
        }
      ],
      "source": [
        "def cube(x):\n",
        "  return x*x*x\n",
        "print(cube(2))"
      ]
    },
    {
      "cell_type": "code",
      "source": [
        "def cube(x):\n",
        "  return x*x*x\n",
        "print(cube(2))\n",
        "l = [1,2,4,6,4]\n",
        "newl = []\n",
        "for item in l:\n",
        "  newl.append(cube(item))\n",
        "print(newl)"
      ],
      "metadata": {
        "colab": {
          "base_uri": "https://localhost:8080/"
        },
        "id": "QDi6IT5MZbhb",
        "outputId": "6d9fdc07-83f0-4d55-aa9f-288045d49f3b"
      },
      "execution_count": 1,
      "outputs": [
        {
          "output_type": "stream",
          "name": "stdout",
          "text": [
            "8\n",
            "[1, 8, 64, 216, 64]\n"
          ]
        }
      ]
    },
    {
      "cell_type": "code",
      "source": [
        "#map\n",
        "def cube(x):\n",
        "  return x*x*x\n",
        "\n",
        "print(cube)\n",
        "\n",
        "l = [1,2,4,6,4,3]\n",
        "newl = list(map(cube,l))\n",
        "print(newl)"
      ],
      "metadata": {
        "colab": {
          "base_uri": "https://localhost:8080/"
        },
        "id": "baDw13DQc5dH",
        "outputId": "b7cbdc38-5cee-45ec-c2bc-380ad58fa899"
      },
      "execution_count": 3,
      "outputs": [
        {
          "output_type": "stream",
          "name": "stdout",
          "text": [
            "<function cube at 0x7d34b76235b0>\n",
            "[1, 8, 64, 216, 64, 27]\n"
          ]
        }
      ]
    },
    {
      "cell_type": "code",
      "source": [
        "\n",
        "l = [1,2,4,6,4,3]\n",
        "newl = list(map(lambda x:x*x*x,l))\n",
        "print(newl)"
      ],
      "metadata": {
        "colab": {
          "base_uri": "https://localhost:8080/"
        },
        "id": "3I45JPcNjuEf",
        "outputId": "d43a4080-8f19-49cc-8d68-0d62b04aed7b"
      },
      "execution_count": 8,
      "outputs": [
        {
          "output_type": "stream",
          "name": "stdout",
          "text": [
            "[1, 8, 64, 216, 64, 27]\n"
          ]
        }
      ]
    },
    {
      "cell_type": "code",
      "source": [
        "# filter\n",
        "def filter_funct(a):\n",
        "  return a>2\n",
        "\n",
        "newnewl = list(filter(filter_funct,l))\n",
        "print(newnewl)\n"
      ],
      "metadata": {
        "colab": {
          "base_uri": "https://localhost:8080/"
        },
        "id": "ILYYY-IPfcLe",
        "outputId": "2e71e872-d3e1-4fee-d745-8b60217e3d39"
      },
      "execution_count": 7,
      "outputs": [
        {
          "output_type": "stream",
          "name": "stdout",
          "text": [
            "[4, 6, 4, 3]\n"
          ]
        }
      ]
    },
    {
      "cell_type": "code",
      "source": [
        "#reduce\n",
        "from functools import reduce\n",
        "\n",
        "num = [1,2,3,4,5]\n",
        "sum = reduce(lambda x,y: x+y,num)\n",
        "print(sum)"
      ],
      "metadata": {
        "colab": {
          "base_uri": "https://localhost:8080/"
        },
        "id": "QQt-1lqLjfrr",
        "outputId": "3e907024-93f5-4e45-ae64-09515b7cc481"
      },
      "execution_count": 9,
      "outputs": [
        {
          "output_type": "stream",
          "name": "stdout",
          "text": [
            "15\n"
          ]
        }
      ]
    }
  ]
}