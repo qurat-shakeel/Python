{
  "nbformat": 4,
  "nbformat_minor": 0,
  "metadata": {
    "colab": {
      "provenance": []
    },
    "kernelspec": {
      "name": "python3",
      "display_name": "Python 3"
    },
    "language_info": {
      "name": "python"
    }
  },
  "cells": [
    {
      "cell_type": "code",
      "execution_count": 1,
      "metadata": {
        "colab": {
          "base_uri": "https://localhost:8080/"
        },
        "id": "rMjmt48O1fdb",
        "outputId": "52576971-355b-45b9-e43e-a6efd918c6f1"
      },
      "outputs": [
        {
          "output_type": "stream",
          "name": "stdout",
          "text": [
            "this is the child_method\n",
            "this is the parent method\n"
          ]
        }
      ],
      "source": [
        "# super keyword\n",
        "class parentclass:\n",
        "  def parent_method(self):\n",
        "    print(\"this is the parent method\")\n",
        "\n",
        "class childclass(parentclass):\n",
        "  def parent_method(self):\n",
        "    print(\"harry\")\n",
        "    super().parent_method()\n",
        "  def child_method(self):\n",
        "    print(\"this is the child_method\")\n",
        "\n",
        "    super().parent_method()\n",
        "\n",
        "child_object = childclass()\n",
        "child_object.child_method()"
      ]
    },
    {
      "cell_type": "code",
      "source": [
        "class parentclass:\n",
        "  def parent_method(self):   # this one\n",
        "    print(\"this is the parent method1\")\n",
        "\n",
        "class childclass(parentclass):\n",
        "  def parent_method(self):\n",
        "    print(\"harry\")\n",
        "    super().parent_method()\n",
        "\n",
        "  def child_method(self):\n",
        "    print(\"this is the child_method2\")\n",
        "\n",
        "    super().parent_method()\n",
        "\n",
        "\n",
        "child_object = childclass()\n",
        "child_object.child_method()\n",
        "child_object.parent_method()  #first parent method gets invoked"
      ],
      "metadata": {
        "colab": {
          "base_uri": "https://localhost:8080/"
        },
        "id": "AuYaBwM8215S",
        "outputId": "8f612022-dd05-44dc-f5b3-9628275bfc8f"
      },
      "execution_count": 3,
      "outputs": [
        {
          "output_type": "stream",
          "name": "stdout",
          "text": [
            "this is the child_method2\n",
            "this is the parent method1\n",
            "harry\n",
            "this is the parent method1\n"
          ]
        }
      ]
    },
    {
      "cell_type": "code",
      "source": [
        "class employee:\n",
        "  def __init__(self,name,id):\n",
        "    self.name = name\n",
        "    self.id = id\n",
        "\n",
        "class programmer:\n",
        "  def __init__(self,name, id,lang):\n",
        "    self.name = name\n",
        "    self.id = id\n",
        "    self.lang = lang\n",
        "\n",
        "rohan = employee(\"Rohan das\", \"420\")\n",
        "harry = programmer(\"harry\", \"659\",\"python\")\n",
        "print(rohan.name)\n"
      ],
      "metadata": {
        "colab": {
          "base_uri": "https://localhost:8080/"
        },
        "id": "O1PjwsEN3ZkP",
        "outputId": "90bfc39c-2a99-4d9c-b1ba-a11a7f1f7cb5"
      },
      "execution_count": 6,
      "outputs": [
        {
          "output_type": "stream",
          "name": "stdout",
          "text": [
            "Rohan das\n"
          ]
        }
      ]
    },
    {
      "cell_type": "code",
      "source": [
        "class employee:\n",
        "  def __init__(self,name,id):\n",
        "    self.name = name\n",
        "    self.id = id\n",
        "\n",
        "# sub class\n",
        "class programmer(employee):\n",
        "  def __init__(self,name, id,lang):\n",
        "    super().__init__(name, id)\n",
        "    self.lang = lang\n",
        "\n",
        "rohan = employee(\"Rohan das\", \"420\")\n",
        "harry = programmer(\"harry\", \"659\",\"python\")\n",
        "print(harry.name)\n",
        "print(harry.id)\n",
        "print(harry.lang)"
      ],
      "metadata": {
        "colab": {
          "base_uri": "https://localhost:8080/"
        },
        "id": "pomYUm-P5EX6",
        "outputId": "17b4e010-e680-4d54-c2e7-5095e91aeeeb"
      },
      "execution_count": 11,
      "outputs": [
        {
          "output_type": "stream",
          "name": "stdout",
          "text": [
            "harry\n",
            "659\n",
            "python\n"
          ]
        }
      ]
    }
  ]
}