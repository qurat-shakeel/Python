{
  "nbformat": 4,
  "nbformat_minor": 0,
  "metadata": {
    "colab": {
      "provenance": []
    },
    "kernelspec": {
      "name": "python3",
      "display_name": "Python 3"
    },
    "language_info": {
      "name": "python"
    }
  },
  "cells": [
    {
      "cell_type": "code",
      "execution_count": null,
      "metadata": {
        "id": "Xp8KIbijIb1B"
      },
      "outputs": [],
      "source": [
        "classMarksEnglish=[18,19,17,16,20,12,13]"
      ]
    },
    {
      "cell_type": "code",
      "source": [
        "## python -0 based indexing!\n",
        "\n",
        "##  Access an element of a list\n",
        "print(classMarksEnglish[0])\n",
        "\n"
      ],
      "metadata": {
        "colab": {
          "base_uri": "https://localhost:8080/"
        },
        "id": "lQ53O0ixI9n7",
        "outputId": "0a0b46b9-5a5d-484d-cc9f-ff6e008cdabb"
      },
      "execution_count": null,
      "outputs": [
        {
          "output_type": "stream",
          "name": "stdout",
          "text": [
            "18\n"
          ]
        }
      ]
    },
    {
      "cell_type": "code",
      "source": [
        "classMarksEnglish[1]"
      ],
      "metadata": {
        "colab": {
          "base_uri": "https://localhost:8080/"
        },
        "id": "Z9Wh7sBzJ0GX",
        "outputId": "db6919e2-f1f3-40c4-9f61-81a9e6ac55b0"
      },
      "execution_count": null,
      "outputs": [
        {
          "output_type": "execute_result",
          "data": {
            "text/plain": [
              "19"
            ]
          },
          "metadata": {},
          "execution_count": 9
        }
      ]
    },
    {
      "cell_type": "code",
      "source": [
        "print(classMarksEnglish[4])"
      ],
      "metadata": {
        "colab": {
          "base_uri": "https://localhost:8080/"
        },
        "id": "X86BgKoeJfsL",
        "outputId": "26820936-3cc3-4449-a28a-115ff01b5f72"
      },
      "execution_count": null,
      "outputs": [
        {
          "output_type": "stream",
          "name": "stdout",
          "text": [
            "20\n"
          ]
        }
      ]
    },
    {
      "cell_type": "code",
      "source": [
        "## changing elements of a list\n",
        "print(classMarksEnglish)"
      ],
      "metadata": {
        "colab": {
          "base_uri": "https://localhost:8080/"
        },
        "id": "FWcoRyD6J_aL",
        "outputId": "5e834574-4382-4abd-e9a5-943309c5ce12"
      },
      "execution_count": null,
      "outputs": [
        {
          "output_type": "stream",
          "name": "stdout",
          "text": [
            "[18, 19, 17, 16, 20, 12, 13]\n"
          ]
        }
      ]
    },
    {
      "cell_type": "code",
      "source": [
        "classMarksEnglish[5]=20"
      ],
      "metadata": {
        "id": "0VrdglHpKh2K"
      },
      "execution_count": null,
      "outputs": []
    },
    {
      "cell_type": "code",
      "source": [
        "print(classMarksEnglish[5])"
      ],
      "metadata": {
        "colab": {
          "base_uri": "https://localhost:8080/"
        },
        "id": "KZ1ulTutKsbD",
        "outputId": "366669d1-7665-47d9-9ff4-c220d2ad5c25"
      },
      "execution_count": null,
      "outputs": [
        {
          "output_type": "stream",
          "name": "stdout",
          "text": [
            "20\n"
          ]
        }
      ]
    },
    {
      "cell_type": "code",
      "source": [
        "print(classMarksEnglish)"
      ],
      "metadata": {
        "colab": {
          "base_uri": "https://localhost:8080/"
        },
        "id": "ghmr1ZVYK6vn",
        "outputId": "269a963f-cb5b-4930-a2dd-27c66b945347"
      },
      "execution_count": null,
      "outputs": [
        {
          "output_type": "stream",
          "name": "stdout",
          "text": [
            "[18, 19, 17, 16, 20, 20, 13]\n"
          ]
        }
      ]
    },
    {
      "cell_type": "code",
      "source": [
        "len(classMarksEnglish)"
      ],
      "metadata": {
        "colab": {
          "base_uri": "https://localhost:8080/"
        },
        "id": "VmSC649OLQQO",
        "outputId": "474d5e5c-ecd6-4673-bacf-bda66374e6c5"
      },
      "execution_count": null,
      "outputs": [
        {
          "output_type": "execute_result",
          "data": {
            "text/plain": [
              "7"
            ]
          },
          "metadata": {},
          "execution_count": 15
        }
      ]
    },
    {
      "cell_type": "code",
      "source": [
        "##Range of values\n",
        "## day 2  -> day 6\n",
        "\n",
        "print(classMarksEnglish[2:6])"
      ],
      "metadata": {
        "colab": {
          "base_uri": "https://localhost:8080/"
        },
        "id": "TN08KKYOL9ys",
        "outputId": "55a0b34b-9198-4156-8915-c33b1992a380"
      },
      "execution_count": null,
      "outputs": [
        {
          "output_type": "stream",
          "name": "stdout",
          "text": [
            "[17, 16, 20, 20]\n"
          ]
        }
      ]
    },
    {
      "cell_type": "code",
      "source": [
        "## appending the elements\n",
        "## list.append (value)\n",
        "## it always gets appended to the last\n",
        "classMarksEnglish.append(10)"
      ],
      "metadata": {
        "id": "2I8bwEyJMmSM"
      },
      "execution_count": null,
      "outputs": []
    },
    {
      "cell_type": "code",
      "source": [
        "print(classMarksEnglish)"
      ],
      "metadata": {
        "colab": {
          "base_uri": "https://localhost:8080/"
        },
        "id": "tBdhoix1Mwxp",
        "outputId": "54759ac0-afd0-41ff-ff20-d924e8787555"
      },
      "execution_count": null,
      "outputs": [
        {
          "output_type": "stream",
          "name": "stdout",
          "text": [
            "[18, 19, 17, 16, 20, 20, 13, 10]\n"
          ]
        }
      ]
    },
    {
      "cell_type": "code",
      "source": [
        "## inserting an element at a specific index\n",
        "## list.insert(index at which you want to insert , value to be inserted)\n",
        "classMarksEnglish=[18,19,17,16,20,12,13]\n",
        "classMarksEnglish.insert(2,10)\n",
        "print(classMarksEnglish)"
      ],
      "metadata": {
        "colab": {
          "base_uri": "https://localhost:8080/"
        },
        "id": "Z15sUtaoM3Ho",
        "outputId": "e96df98a-89f6-444f-cded-6aa507445e77"
      },
      "execution_count": null,
      "outputs": [
        {
          "output_type": "stream",
          "name": "stdout",
          "text": [
            "[18, 19, 10, 17, 16, 20, 12, 13]\n"
          ]
        }
      ]
    },
    {
      "cell_type": "code",
      "source": [
        "print(classMarksEnglish)"
      ],
      "metadata": {
        "colab": {
          "base_uri": "https://localhost:8080/"
        },
        "id": "qSRt-YuXNVPT",
        "outputId": "46d26a23-addc-4121-bd20-a206b6f8c0a7"
      },
      "execution_count": null,
      "outputs": [
        {
          "output_type": "stream",
          "name": "stdout",
          "text": [
            "[18, 19, 17, 16, 20, 20, 13, 10]\n"
          ]
        }
      ]
    },
    {
      "cell_type": "code",
      "source": [
        "## remove\n",
        "\n",
        "classMarksEnglish=[18,19,17,16,20,12,13]\n",
        "\n",
        "classMarksEnglish.remove(19)\n",
        "print(classMarksEnglish)"
      ],
      "metadata": {
        "colab": {
          "base_uri": "https://localhost:8080/"
        },
        "id": "YsAKi1k0OHiM",
        "outputId": "4af340cb-3464-473b-b904-15375ffeca91"
      },
      "execution_count": 4,
      "outputs": [
        {
          "output_type": "stream",
          "name": "stdout",
          "text": [
            "[18, 17, 16, 20, 12, 13]\n"
          ]
        }
      ]
    },
    {
      "cell_type": "code",
      "source": [],
      "metadata": {
        "id": "ZAg36hUsBb8V"
      },
      "execution_count": null,
      "outputs": []
    }
  ]
}