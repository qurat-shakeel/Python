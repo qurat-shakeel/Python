{
  "nbformat": 4,
  "nbformat_minor": 0,
  "metadata": {
    "colab": {
      "provenance": []
    },
    "kernelspec": {
      "name": "python3",
      "display_name": "Python 3"
    },
    "language_info": {
      "name": "python"
    }
  },
  "cells": [
    {
      "cell_type": "code",
      "execution_count": 3,
      "metadata": {
        "colab": {
          "base_uri": "https://localhost:8080/"
        },
        "id": "yc79aI4ZNV7j",
        "outputId": "c652b7db-cfd9-4675-8408-a90fb38717a4"
      },
      "outputs": [
        {
          "output_type": "stream",
          "name": "stdout",
          "text": [
            "Hello World\n",
            "Hello World\n",
            "Hello World\n",
            "Hello World\n",
            "Hello World\n"
          ]
        }
      ],
      "source": [
        "# while loop\n",
        "x = 0\n",
        "while (x < 5):\n",
        "    x = x + 1\n",
        "    print(\"Hello World\")"
      ]
    },
    {
      "cell_type": "code",
      "source": [
        "# while loop with else statment\n",
        "a = 0\n",
        "while (a < 3):\n",
        "    a = a + 1\n",
        "    print(\"Hello World\")\n",
        "else:\n",
        "    print(\"In Else Block\")"
      ],
      "metadata": {
        "colab": {
          "base_uri": "https://localhost:8080/"
        },
        "id": "0vR-zfJUORdw",
        "outputId": "7352108c-8f16-4117-a1a3-2bff7f4670ec"
      },
      "execution_count": 4,
      "outputs": [
        {
          "output_type": "stream",
          "name": "stdout",
          "text": [
            "Hello World\n",
            "Hello World\n",
            "Hello World\n",
            "In Else Block\n"
          ]
        }
      ]
    },
    {
      "cell_type": "code",
      "source": [
        "# Prints out 0,1,2,3,4\n",
        "\n",
        "count = 0\n",
        "while True:\n",
        "    print(count)\n",
        "    count += 1\n",
        "    if count >= 5:\n",
        "        break\n",
        "\n"
      ],
      "metadata": {
        "colab": {
          "base_uri": "https://localhost:8080/"
        },
        "id": "cdeNiDGCPlku",
        "outputId": "a6878c6d-b8b1-4e9a-a745-9e60d508874e"
      },
      "execution_count": 8,
      "outputs": [
        {
          "output_type": "stream",
          "name": "stdout",
          "text": [
            "0\n",
            "1\n",
            "2\n",
            "3\n",
            "4\n"
          ]
        }
      ]
    },
    {
      "cell_type": "code",
      "source": [
        "# Prints out only odd numbers - 1,3,5,7,9\n",
        "for x in range(10):\n",
        "    # Check if x is even\n",
        "    if x % 2 == 0:\n",
        "        continue\n",
        "    print(x)"
      ],
      "metadata": {
        "colab": {
          "base_uri": "https://localhost:8080/"
        },
        "id": "Z3HabUMpRrQc",
        "outputId": "c1a37f5c-d880-49c1-efa4-37b32480af69"
      },
      "execution_count": 11,
      "outputs": [
        {
          "output_type": "stream",
          "name": "stdout",
          "text": [
            "1\n",
            "3\n",
            "5\n",
            "7\n",
            "9\n"
          ]
        }
      ]
    },
    {
      "cell_type": "code",
      "source": [
        "# Prints out only even numbers - 0,2,4,6,8\n",
        "for x in range(10):\n",
        "    # Check if x is even\n",
        "    if x % 2 == 1:\n",
        "        continue\n",
        "    print(x)"
      ],
      "metadata": {
        "colab": {
          "base_uri": "https://localhost:8080/"
        },
        "id": "cG9AYsMIR38c",
        "outputId": "c01c12a3-d933-4195-befd-b2afc063370e"
      },
      "execution_count": 10,
      "outputs": [
        {
          "output_type": "stream",
          "name": "stdout",
          "text": [
            "0\n",
            "2\n",
            "4\n",
            "6\n",
            "8\n"
          ]
        }
      ]
    },
    {
      "cell_type": "code",
      "source": [
        "# Python program to demonstrate ternary operator\n",
        "a, b = 10, 20\n",
        "\n",
        "print( (b, a) [a < b] )"
      ],
      "metadata": {
        "colab": {
          "base_uri": "https://localhost:8080/"
        },
        "id": "hhzzmJiRSOmx",
        "outputId": "9296a6de-a42c-432e-f9f5-728bbd385dea"
      },
      "execution_count": 13,
      "outputs": [
        {
          "output_type": "stream",
          "name": "stdout",
          "text": [
            "10\n"
          ]
        }
      ]
    }
  ]
}