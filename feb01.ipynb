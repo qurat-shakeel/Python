{
  "nbformat": 4,
  "nbformat_minor": 0,
  "metadata": {
    "colab": {
      "provenance": []
    },
    "kernelspec": {
      "name": "python3",
      "display_name": "Python 3"
    },
    "language_info": {
      "name": "python"
    }
  },
  "cells": [
    {
      "cell_type": "code",
      "execution_count": 7,
      "metadata": {
        "colab": {
          "base_uri": "https://localhost:8080/"
        },
        "id": "41onefgdJ4LY",
        "outputId": "2f366d04-d371-4699-c574-59c1c0d749e4"
      },
      "outputs": [
        {
          "output_type": "stream",
          "name": "stdout",
          "text": [
            "type of a =  <class 'int'>\n",
            "type of b =  <class 'float'>\n",
            "type of c =  <class 'complex'>\n"
          ]
        }
      ],
      "source": [
        "'''different datatypes\n",
        "integer\n",
        "float\n",
        "complex\n",
        "'''\n",
        "a = 5\n",
        "print(\"type of a = \",type(a))\n",
        "b = 6.6\n",
        "print(\"type of b = \",type(b))\n",
        "c = 2+4j\n",
        "print(\"type of c = \",type(c))"
      ]
    },
    {
      "cell_type": "code",
      "source": [
        "#string\n",
        "str1 = 'HelloWorld'\n",
        "print('string with single quotes')\n",
        "print(str1)\n",
        "print(type(str1))"
      ],
      "metadata": {
        "colab": {
          "base_uri": "https://localhost:8080/"
        },
        "id": "DnGOUa5SK3Um",
        "outputId": "ce4c1de2-53ba-47f3-98e0-fc47761f5372"
      },
      "execution_count": 12,
      "outputs": [
        {
          "output_type": "stream",
          "name": "stdout",
          "text": [
            "string with single quotes\n",
            "HelloWorld\n",
            "<class 'str'>\n"
          ]
        }
      ]
    },
    {
      "cell_type": "code",
      "source": [
        "#list\n",
        "classlist = []\n",
        "\n",
        "print(\"initial blank list\")\n",
        "print(classlist)\n",
        "list2 = [10,20,30,40,50]\n",
        "print(list2)\n",
        "list3 = ['welcome','here']\n",
        "print(list3)\n",
        "list4 = [\"print with double quotes\"]\n",
        "print(list4)\n",
        "list5 = ['hello'+'world']\n",
        "print(list5)\n",
        "list6 = ['hello'+' '+'world']\n",
        "print(list6)\n",
        "list7 =  [\"1,2,3,4,5,6,7\"]\n",
        "print(list7)"
      ],
      "metadata": {
        "colab": {
          "base_uri": "https://localhost:8080/"
        },
        "id": "0Esme7kBMP0h",
        "outputId": "123fd93c-a45e-4792-80de-766cd10b3873"
      },
      "execution_count": 25,
      "outputs": [
        {
          "output_type": "stream",
          "name": "stdout",
          "text": [
            "initial blank list\n",
            "[]\n",
            "[10, 20, 30, 40, 50]\n",
            "['welcome', 'here']\n",
            "['print with double quotes']\n",
            "['helloworld']\n",
            "['hello world']\n",
            "['1,2,3,4,5,6,7']\n"
          ]
        }
      ]
    },
    {
      "cell_type": "code",
      "source": [
        "#tuple\n",
        "tuple1 = []\n",
        "print(tuple1)\n",
        "tuple2 = [\"2\",\"3\",\"abc\"]\n",
        "print(tuple2)\n",
        "coordinates = (3,7)\n",
        "print(\"x-coordinate:\",coordinates[0])\n",
        "print(\"y-coordinate:\",coordinates[1])"
      ],
      "metadata": {
        "colab": {
          "base_uri": "https://localhost:8080/"
        },
        "id": "IuVbOWckPkAt",
        "outputId": "26e211d8-6396-4b92-ba72-c10c941beae1"
      },
      "execution_count": 41,
      "outputs": [
        {
          "output_type": "stream",
          "name": "stdout",
          "text": [
            "[]\n",
            "['2', '3', 'abc']\n",
            "x-coordinate: 3\n",
            "y-coordinate: 7\n"
          ]
        }
      ]
    },
    {
      "cell_type": "code",
      "source": [
        "#boolean\n",
        "print(type(True))\n",
        "print(type(False))"
      ],
      "metadata": {
        "colab": {
          "base_uri": "https://localhost:8080/"
        },
        "id": "sC32k8XFQPHH",
        "outputId": "e6e73d55-90ff-4e24-aca8-b780efcc9d6b"
      },
      "execution_count": 33,
      "outputs": [
        {
          "output_type": "stream",
          "name": "stdout",
          "text": [
            "<class 'bool'>\n",
            "<class 'bool'>\n"
          ]
        }
      ]
    },
    {
      "cell_type": "code",
      "source": [
        "#dictionary\n",
        "dict = {}\n",
        "print(dict)\n",
        "dict2 ={1 : \"welcome\",2 : \"world\"}\n",
        "print(dict2)"
      ],
      "metadata": {
        "colab": {
          "base_uri": "https://localhost:8080/"
        },
        "id": "o05QKDE0Qcel",
        "outputId": "2bbb1ffb-8724-49f1-ffea-92e0aff93d6a"
      },
      "execution_count": 37,
      "outputs": [
        {
          "output_type": "stream",
          "name": "stdout",
          "text": [
            "{}\n",
            "{1: 'welcome', 2: 'world'}\n"
          ]
        }
      ]
    },
    {
      "cell_type": "code",
      "source": [],
      "metadata": {
        "id": "jpWqFAvhPmrn"
      },
      "execution_count": null,
      "outputs": []
    }
  ]
}