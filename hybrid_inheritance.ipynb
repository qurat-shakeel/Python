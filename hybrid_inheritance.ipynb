{
  "nbformat": 4,
  "nbformat_minor": 0,
  "metadata": {
    "colab": {
      "provenance": []
    },
    "kernelspec": {
      "name": "python3",
      "display_name": "Python 3"
    },
    "language_info": {
      "name": "python"
    }
  },
  "cells": [
    {
      "cell_type": "code",
      "execution_count": 1,
      "metadata": {
        "id": "7-4DE3lsBrQf"
      },
      "outputs": [],
      "source": [
        "class Human:\n",
        "  def __init__(self, name, age):\n",
        "    self.name = name\n",
        "    self.age = age\n",
        "\n",
        "  def show_details(self):\n",
        "    print(\"Name:\", self.name)\n",
        "    print(\"Age:\", self.age)\n",
        "\n",
        "class Person(Human):\n",
        "  def __init__(self, name, age, address):\n",
        "    Human.__init__(self, name, age)\n",
        "    self.address = address\n",
        "\n",
        "  def show_details(self):\n",
        "    Human.show_details(self)\n",
        "    print(\"Address:\", self.address)\n",
        "\n",
        "class Program:\n",
        "  def __init__(self, program_name, duration):\n",
        "    self.program_name = program_name\n",
        "    self.duration = duration\n",
        "\n",
        "  def show_details(self):\n",
        "    print(\"Program Name:\", self.program_name)\n",
        "    print(\"Duration:\", self.duration)\n",
        "\n",
        "class Student(Person):\n",
        "  def __init__(self, name, age, address, program):\n",
        "    Person.__init__(self, name, age, address)\n",
        "    self.program = program\n",
        "\n",
        "  def show_details(self):\n",
        "    Person.show_details(self)\n",
        "    self.program.show_details()"
      ]
    },
    {
      "cell_type": "code",
      "source": [
        "program = Program(\"Computer Science\", 4)\n",
        "student = Student(\"John Doe\", 25, \"123 Main St.\", program)\n",
        "student.show_details()"
      ],
      "metadata": {
        "colab": {
          "base_uri": "https://localhost:8080/"
        },
        "id": "KmN1sP0KB1Mb",
        "outputId": "48930bbf-3c72-4006-f4a4-60c550040c94"
      },
      "execution_count": 2,
      "outputs": [
        {
          "output_type": "stream",
          "name": "stdout",
          "text": [
            "Name: John Doe\n",
            "Age: 25\n",
            "Address: 123 Main St.\n",
            "Program Name: Computer Science\n",
            "Duration: 4\n"
          ]
        }
      ]
    }
  ]
}