{
  "nbformat": 4,
  "nbformat_minor": 0,
  "metadata": {
    "colab": {
      "provenance": []
    },
    "kernelspec": {
      "name": "python3",
      "display_name": "Python 3"
    },
    "language_info": {
      "name": "python"
    }
  },
  "cells": [
    {
      "cell_type": "code",
      "execution_count": 1,
      "metadata": {
        "colab": {
          "base_uri": "https://localhost:8080/"
        },
        "id": "Lk-Xj5dgWx7T",
        "outputId": "17de80a2-9835-454f-c896-21b9eb90174b"
      },
      "outputs": [
        {
          "output_type": "stream",
          "name": "stdout",
          "text": [
            "shivani\n",
            "kathak\n"
          ]
        }
      ],
      "source": [
        "class employee:\n",
        "  def __init__(self, name):\n",
        "    self.name = name\n",
        "\n",
        "class dancer:\n",
        "  def __init__(self, dance):\n",
        "    self.dance = dance\n",
        "\n",
        "class danceremployee(employee, dancer):\n",
        "  def __init__(self, dance, name):\n",
        "    self.dance = dance\n",
        "    self.name = name\n",
        "\n",
        "o = danceremployee(\"kathak\", \"shivani\")\n",
        "print(o.name)\n",
        "print(o.dance)\n"
      ]
    },
    {
      "cell_type": "code",
      "source": [
        "class employee:\n",
        "  def __init__(self, name):\n",
        "    self.name = name\n",
        "\n",
        "  def show(self):\n",
        "    print(f\"the name is {self.name}\")\n",
        "\n",
        "class dancer:\n",
        "  def __init__(self, dance):\n",
        "    self.dance = dance\n",
        "\n",
        "  def show(self):\n",
        "    print(f\"the name is {self.dance}\")\n",
        "\n",
        "class danceremployee(employee, dancer):   #if we will change order here,mro will changenge\n",
        "  def __init__(self, dance, name):\n",
        "    self.dance = dance\n",
        "    self.name = name\n",
        "\n",
        "o = danceremployee(\"kathak\", \"shivani\")\n",
        "print(o.name)\n",
        "print(o.dance)\n",
        "o.show()\n",
        "\n",
        "print(danceremployee.mro())"
      ],
      "metadata": {
        "colab": {
          "base_uri": "https://localhost:8080/"
        },
        "id": "Gf3ABJQTX43i",
        "outputId": "322e3ff7-a62c-4fbe-9ab9-94b93f443bfd"
      },
      "execution_count": 8,
      "outputs": [
        {
          "output_type": "stream",
          "name": "stdout",
          "text": [
            "shivani\n",
            "kathak\n",
            "the name is shivani\n",
            "[<class '__main__.danceremployee'>, <class '__main__.employee'>, <class '__main__.dancer'>, <class 'object'>]\n"
          ]
        }
      ]
    },
    {
      "cell_type": "code",
      "source": [],
      "metadata": {
        "id": "pUazcEC_Z3-z"
      },
      "execution_count": null,
      "outputs": []
    },
    {
      "cell_type": "code",
      "source": [
        "class dancer:\n",
        "  def __init__(self, dance):\n",
        "    self.dance = dance\n",
        "\n",
        "  def show(self):\n",
        "    print(f\"the name is {self.dance}\")\n",
        "\n",
        "class danceremployee(dancer, employee):   #if we will change order here,mro will changenge\n",
        "  def __init__(self, dance, name):\n",
        "    self.dance = dance\n",
        "    self.name = name\n",
        "\n",
        "o = danceremployee(\"kathak\", \"shivani\")\n",
        "print(o.name)\n",
        "print(o.dance)\n",
        "o.show()\n",
        "\n",
        "print(danceremployee.mro())"
      ],
      "metadata": {
        "colab": {
          "base_uri": "https://localhost:8080/"
        },
        "id": "FnZd8UBSZ4OO",
        "outputId": "9d236a59-f104-4a5c-d78a-ce58bda2359c"
      },
      "execution_count": 9,
      "outputs": [
        {
          "output_type": "stream",
          "name": "stdout",
          "text": [
            "shivani\n",
            "kathak\n",
            "the name is kathak\n",
            "[<class '__main__.danceremployee'>, <class '__main__.dancer'>, <class '__main__.employee'>, <class 'object'>]\n"
          ]
        }
      ]
    }
  ]
}