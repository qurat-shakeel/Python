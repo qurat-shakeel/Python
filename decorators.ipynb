{
  "nbformat": 4,
  "nbformat_minor": 0,
  "metadata": {
    "colab": {
      "provenance": []
    },
    "kernelspec": {
      "name": "python3",
      "display_name": "Python 3"
    },
    "language_info": {
      "name": "python"
    }
  },
  "cells": [
    {
      "cell_type": "code",
      "execution_count": 9,
      "metadata": {
        "colab": {
          "base_uri": "https://localhost:8080/"
        },
        "id": "KeO9zcFu5fUj",
        "outputId": "fcee3d29-0a42-47d8-b6dd-c576715a2570"
      },
      "outputs": [
        {
          "output_type": "stream",
          "name": "stdout",
          "text": [
            "hello world\n"
          ]
        }
      ],
      "source": [
        "def hello():\n",
        "  print(\"hello world\")\n",
        "\n",
        "def greet(fx):\n",
        "  def mfx():\n",
        "    print(\"Good Morning\")\n",
        "    fx()\n",
        "    print(\"thanks for using this function\")\n",
        "  return mfx\n",
        "hello()"
      ]
    },
    {
      "cell_type": "code",
      "source": [
        "def greet(fx):\n",
        "  def mfx():\n",
        "    print(\"Good Morning\")\n",
        "    fx()\n",
        "    print(\"thanks for using this function\")\n",
        "\n",
        "  return mfx\n",
        "@greet\n",
        "def hello():\n",
        "   print(\"hello world\")\n",
        "\n",
        "\n",
        "hello()\n"
      ],
      "metadata": {
        "colab": {
          "base_uri": "https://localhost:8080/"
        },
        "id": "MpCvYilO9xTf",
        "outputId": "588b4502-0bd8-426e-bd66-fa9d5957246b"
      },
      "execution_count": 15,
      "outputs": [
        {
          "output_type": "stream",
          "name": "stdout",
          "text": [
            "Good Morning\n",
            "hello world\n",
            "thanks for using this function\n"
          ]
        }
      ]
    },
    {
      "cell_type": "code",
      "source": [
        "def greet(fx):\n",
        "  def mfx():\n",
        "    print(\"Good Morning\")\n",
        "    fx()\n",
        "    print(\"thanks for using this function\")\n",
        "\n",
        "  return mfx\n",
        "@greet\n",
        "def hello():\n",
        "   print(\"hello world\")\n",
        "\n",
        "def greet(fx):\n",
        "  def mfx(*args, **kwargs):\n",
        "    print(\"Good Morning\")\n",
        "    fx(*args, **kwargs)\n",
        "    print(\"thanks for using this function\")\n",
        "\n",
        "  return mfx\n",
        "@greet\n",
        "def hello():\n",
        "   print(\"hello world\")\n",
        "\n",
        "\n",
        "def add(a,b):\n",
        "  print(a+b)\n",
        "hello()\n",
        "greet(add)(1,2)"
      ],
      "metadata": {
        "colab": {
          "base_uri": "https://localhost:8080/"
        },
        "id": "jUrGB5ur_PBh",
        "outputId": "b18d3f85-dc45-4b61-920c-94b4a06eb381"
      },
      "execution_count": 19,
      "outputs": [
        {
          "output_type": "stream",
          "name": "stdout",
          "text": [
            "Good Morning\n",
            "hello world\n",
            "thanks for using this function\n",
            "Good Morning\n",
            "3\n",
            "thanks for using this function\n"
          ]
        }
      ]
    },
    {
      "cell_type": "code",
      "source": [
        "def greet(fx):\n",
        "  def mfx():\n",
        "    print(\"Good Morning\")\n",
        "    fx()\n",
        "    print(\"thanks for using this function\")\n",
        "\n",
        "  return mfx\n",
        "@greet\n",
        "def hello():\n",
        "   print(\"hello world\")\n",
        "\n",
        "def greet(fx):\n",
        "  def mfx(*args, **kwargs):\n",
        "    print(\"Good Morning\")\n",
        "    fx(*args, **kwargs)\n",
        "    print(\"thanks for using this function\")\n",
        "\n",
        "  return mfx\n",
        "@greet\n",
        "def hello():\n",
        "   print(\"hello world\")\n",
        "\n",
        "@greet\n",
        "def add(a,b):\n",
        "  print(a+b)\n",
        "hello()\n",
        "#greet(add)(1,2)"
      ],
      "metadata": {
        "colab": {
          "base_uri": "https://localhost:8080/"
        },
        "id": "exDf7qiuABOZ",
        "outputId": "81514432-2eba-404b-fb7a-76f6719efedd"
      },
      "execution_count": 22,
      "outputs": [
        {
          "output_type": "stream",
          "name": "stdout",
          "text": [
            "Good Morning\n",
            "hello world\n",
            "thanks for using this function\n"
          ]
        }
      ]
    },
    {
      "cell_type": "code",
      "source": [],
      "metadata": {
        "id": "KuxhL6V3-gLy"
      },
      "execution_count": null,
      "outputs": []
    }
  ]
}