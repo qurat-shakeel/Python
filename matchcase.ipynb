{
  "nbformat": 4,
  "nbformat_minor": 0,
  "metadata": {
    "colab": {
      "provenance": []
    },
    "kernelspec": {
      "name": "python3",
      "display_name": "Python 3"
    },
    "language_info": {
      "name": "python"
    }
  },
  "cells": [
    {
      "cell_type": "code",
      "execution_count": 9,
      "metadata": {
        "colab": {
          "base_uri": "https://localhost:8080/"
        },
        "id": "GPPYcgPCvo6e",
        "outputId": "642c481e-4341-44a3-967a-fa28c051d629"
      },
      "outputs": [
        {
          "output_type": "stream",
          "name": "stdout",
          "text": [
            "Enter the value of x from 1-7 : 6\n",
            "It is Saturday\n"
          ]
        }
      ],
      "source": [
        "x = int(input(\"Enter the value of x from 1-7 : \"))\n",
        "match x:\n",
        "  case 1:\n",
        "    print(\"It is Monday\")\n",
        "  case 2:\n",
        "    print(\"It is Tuesday\")\n",
        "  case 3:\n",
        "    print(\"It is Wednesday\")\n",
        "  case 4:\n",
        "    print(\"It is Thursday\")\n",
        "  case 5:\n",
        "    print(\"It is Friday\")\n",
        "  case 6:\n",
        "    print(\"It is Saturday\")\n",
        "  case _:\n",
        "    print(\"It is Sunday\")\n",
        "\n",
        "\n",
        "\n",
        "\n",
        "\n",
        "\n"
      ]
    }
  ]
}