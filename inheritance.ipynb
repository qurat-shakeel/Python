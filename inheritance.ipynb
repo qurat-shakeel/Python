{
  "nbformat": 4,
  "nbformat_minor": 0,
  "metadata": {
    "colab": {
      "provenance": []
    },
    "kernelspec": {
      "name": "python3",
      "display_name": "Python 3"
    },
    "language_info": {
      "name": "python"
    }
  },
  "cells": [
    {
      "cell_type": "code",
      "execution_count": 7,
      "metadata": {
        "colab": {
          "base_uri": "https://localhost:8080/"
        },
        "id": "_a2nmWMWydff",
        "outputId": "70693d5c-c53f-4d52-e1b2-27e61635cc38"
      },
      "outputs": [
        {
          "output_type": "stream",
          "name": "stdout",
          "text": [
            "the name of the employee: 40 is Rohan\n"
          ]
        }
      ],
      "source": [
        "class employee:\n",
        "  def __init__(self, name, id):\n",
        "    self.name = name\n",
        "    self.id = id\n",
        "\n",
        "  def showdetails(self):\n",
        "    print(f\"the name of the employee: {self.id} is {self.name}\")\n",
        "e = employee(\"Rohan\",40)\n",
        "e.showdetails()"
      ]
    },
    {
      "cell_type": "code",
      "source": [
        "class employee:\n",
        "  def __init__(self, name, id):\n",
        "    self.name = name\n",
        "    self.id = id\n",
        "\n",
        "  def showdetails(self):\n",
        "    print(f\"the name of the employee: {self.id} is {self.name}\")\n",
        "\n",
        "class programmer(employee):    # programmer is made from employee class\n",
        "  def showlanguage(self):\n",
        "    print(\"the default language is python\")\n",
        "\n",
        "e1 = employee(\"Rohan\",40)\n",
        "e1.showdetails()\n",
        "e2 = programmer(\"Sam\",56)     # it will inherit property/methods from employee\n",
        "e2.showdetails()\n",
        "e2.showlanguage()"
      ],
      "metadata": {
        "colab": {
          "base_uri": "https://localhost:8080/"
        },
        "id": "-_aePhdU1mOT",
        "outputId": "774c7eb1-048d-43e6-a5f3-636383a780f0"
      },
      "execution_count": 10,
      "outputs": [
        {
          "output_type": "stream",
          "name": "stdout",
          "text": [
            "the name of the employee: 40 is Rohan\n",
            "the name of the employee: 56 is Sam\n",
            "the default language is python\n"
          ]
        }
      ]
    }
  ]
}