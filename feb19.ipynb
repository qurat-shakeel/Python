{
  "nbformat": 4,
  "nbformat_minor": 0,
  "metadata": {
    "colab": {
      "provenance": []
    },
    "kernelspec": {
      "name": "python3",
      "display_name": "Python 3"
    },
    "language_info": {
      "name": "python"
    }
  },
  "cells": [
    {
      "cell_type": "code",
      "execution_count": 3,
      "metadata": {
        "colab": {
          "base_uri": "https://localhost:8080/"
        },
        "id": "19_Lulv9YqWd",
        "outputId": "96c2957d-0317-40d2-aac9-74a5c9d0c9a3"
      },
      "outputs": [
        {
          "output_type": "stream",
          "name": "stdout",
          "text": [
            "<class 'tuple'> (1, 2, 3, 4, 5)\n"
          ]
        }
      ],
      "source": [
        "# tuple value cant be changed, length cant be changed\n",
        "# tuples, strings and lists are immutable\n",
        "tup = (1,2,3,4,5)\n",
        "print(type(tup),tup)"
      ]
    },
    {
      "cell_type": "code",
      "source": [
        "tup = (15)\n",
        "print(type(tup),tup)"
      ],
      "metadata": {
        "colab": {
          "base_uri": "https://localhost:8080/"
        },
        "id": "mLxCTnz2Z51W",
        "outputId": "bc704359-2f35-4459-833d-06c2bfa22f74"
      },
      "execution_count": 4,
      "outputs": [
        {
          "output_type": "stream",
          "name": "stdout",
          "text": [
            "<class 'int'> 15\n"
          ]
        }
      ]
    },
    {
      "cell_type": "code",
      "source": [
        "tup = (1,)\n",
        "print(type(tup),tup)"
      ],
      "metadata": {
        "colab": {
          "base_uri": "https://localhost:8080/"
        },
        "id": "m2flBrJAaAMm",
        "outputId": "dd7913d9-d622-4a8e-8aeb-34b18828cb79"
      },
      "execution_count": 5,
      "outputs": [
        {
          "output_type": "stream",
          "name": "stdout",
          "text": [
            "<class 'tuple'> (1,)\n"
          ]
        }
      ]
    },
    {
      "cell_type": "code",
      "source": [
        "tup = (1,2,\"red\",True)\n",
        "print(type(tup),tup)\n",
        "print(tup[0])\n",
        "print(tup[1])\n",
        "print(tup[2])\n",
        "print(tup[3])\n",
        "#print(tup[40]) --- will show  error as there is no such value\n",
        "print(tup[2])\n",
        "print(len(tup))\n",
        "print(tup[-1])\n",
        "print(tup[-2])\n",
        "print(tup[-3])\n",
        "print(tup[-4])\n",
        "\n",
        "\n",
        "\n"
      ],
      "metadata": {
        "colab": {
          "base_uri": "https://localhost:8080/"
        },
        "id": "SMtb6ENuaFCu",
        "outputId": "25ee1ddf-f7df-4bc6-89c0-58677f05f005"
      },
      "execution_count": 14,
      "outputs": [
        {
          "output_type": "stream",
          "name": "stdout",
          "text": [
            "<class 'tuple'> (1, 2, 'red', True)\n",
            "1\n",
            "2\n",
            "red\n",
            "True\n",
            "red\n",
            "4\n",
            "True\n",
            "red\n",
            "2\n",
            "1\n"
          ]
        }
      ]
    },
    {
      "cell_type": "code",
      "source": [
        "if 2 in tup:\n",
        "  print(\"yes 2 is present in this tuple\")"
      ],
      "metadata": {
        "colab": {
          "base_uri": "https://localhost:8080/"
        },
        "id": "4AbbJu4vaqEU",
        "outputId": "6451ea36-465a-487e-83f7-6440ff7e2bc9"
      },
      "execution_count": 15,
      "outputs": [
        {
          "output_type": "stream",
          "name": "stdout",
          "text": [
            "yes 2 is present in this tuple\n"
          ]
        }
      ]
    },
    {
      "cell_type": "code",
      "source": [
        "if 22 in tup:\n",
        "  print(\"yes 2 is present in this tuple\")"
      ],
      "metadata": {
        "id": "22zC5z09cCch"
      },
      "execution_count": 16,
      "outputs": []
    },
    {
      "cell_type": "code",
      "source": [
        " tup2 = tup[0:2]    # prints index 0 to index1, excluding the index 2\n",
        " print(tup2)"
      ],
      "metadata": {
        "colab": {
          "base_uri": "https://localhost:8080/"
        },
        "id": "f40qIfVzcGYe",
        "outputId": "ad206bb6-b197-4077-8f67-806a826b65d9"
      },
      "execution_count": 17,
      "outputs": [
        {
          "output_type": "stream",
          "name": "stdout",
          "text": [
            "(1, 2)\n"
          ]
        }
      ]
    },
    {
      "cell_type": "code",
      "source": [
        "tup3 = tup[:3]    # means index 0 to index 3\n",
        "print(tup3)"
      ],
      "metadata": {
        "colab": {
          "base_uri": "https://localhost:8080/"
        },
        "id": "nMArM6o9cvMH",
        "outputId": "2132d957-0d56-44f9-835f-76553c222e32"
      },
      "execution_count": 18,
      "outputs": [
        {
          "output_type": "stream",
          "name": "stdout",
          "text": [
            "(1, 2, 'red')\n"
          ]
        }
      ]
    },
    {
      "cell_type": "code",
      "source": [
        "tup3 = tup[2:]    # means index 2 to length of tup\n",
        "print(tup3)"
      ],
      "metadata": {
        "colab": {
          "base_uri": "https://localhost:8080/"
        },
        "id": "v_oigLPTdKjl",
        "outputId": "f394117b-47bb-4af0-8d10-660615ec03f8"
      },
      "execution_count": 19,
      "outputs": [
        {
          "output_type": "stream",
          "name": "stdout",
          "text": [
            "('red', True)\n"
          ]
        }
      ]
    },
    {
      "cell_type": "code",
      "source": [
        "#tuple methods\n",
        "countries = ('spain','Italy', 'Russia','India','Germany','Canada')\n",
        "temp = list(countries)\n",
        "temp.append('England')\n",
        "temp.pop(3)\n",
        "temp[2] = 'Finland'    # at index 2\n",
        "countries = tuple(temp)\n",
        "print(countries)"
      ],
      "metadata": {
        "colab": {
          "base_uri": "https://localhost:8080/"
        },
        "id": "DrgaifcDdg4-",
        "outputId": "fc57590e-569f-4329-afbd-1d7733aba003"
      },
      "execution_count": 23,
      "outputs": [
        {
          "output_type": "stream",
          "name": "stdout",
          "text": [
            "('spain', 'Italy', 'Finland', 'Germany', 'Canada', 'England')\n"
          ]
        }
      ]
    },
    {
      "cell_type": "code",
      "source": [
        "country = (\"Spain\", \"Italy\", \"India\", \"England\", \"Germany\")\n",
        "#            [0]      [1]      [2]       [3]        [4]\n",
        "print(country[-1])\n",
        "print(country[-3])\n",
        "print(country[-4])"
      ],
      "metadata": {
        "colab": {
          "base_uri": "https://localhost:8080/"
        },
        "id": "-yzjLlXYh5zV",
        "outputId": "facd5ece-8f26-42b9-fcb3-6b31f08f29ea"
      },
      "execution_count": 24,
      "outputs": [
        {
          "output_type": "stream",
          "name": "stdout",
          "text": [
            "Germany\n",
            "India\n",
            "Italy\n"
          ]
        }
      ]
    },
    {
      "cell_type": "code",
      "source": [
        "country = (\"Spain\", \"Italy\", \"India\", \"England\", \"Germany\")\n",
        "if \"Germany\" in country:\n",
        "    print(\"Germany is present.\")\n",
        "else:\n",
        "    print(\"Germany is absent.\")"
      ],
      "metadata": {
        "colab": {
          "base_uri": "https://localhost:8080/"
        },
        "id": "6zN6B6B4iF2Y",
        "outputId": "128bad4e-2079-4f6f-8822-9040d3034c2a"
      },
      "execution_count": 25,
      "outputs": [
        {
          "output_type": "stream",
          "name": "stdout",
          "text": [
            "Germany is present.\n"
          ]
        }
      ]
    },
    {
      "cell_type": "code",
      "source": [
        "country = (\"Spain\", \"Italy\", \"India\", \"England\", \"Germany\")\n",
        "if \"Russia\" in country:\n",
        "    print(\"Russia is present.\")\n",
        "else:\n",
        "    print(\"Russia is absent.\")"
      ],
      "metadata": {
        "colab": {
          "base_uri": "https://localhost:8080/"
        },
        "id": "ezudhlHCiLO6",
        "outputId": "6ce3a7ca-1bb5-463a-e504-1a0bc850aaec"
      },
      "execution_count": 26,
      "outputs": [
        {
          "output_type": "stream",
          "name": "stdout",
          "text": [
            "Russia is absent.\n"
          ]
        }
      ]
    },
    {
      "cell_type": "code",
      "source": [
        "animals = (\"cat\", \"dog\", \"bat\", \"mouse\", \"horse\", \"donkey\", \"goat\", \"cow\")\n",
        "print(animals[3:6])     #using positive indexes\n",
        "print(animals[-6:-2])   #using negative indexes"
      ],
      "metadata": {
        "colab": {
          "base_uri": "https://localhost:8080/"
        },
        "id": "hdR84isBiSrb",
        "outputId": "cc1f2b88-e913-4f71-ba32-05a1648c1ced"
      },
      "execution_count": 28,
      "outputs": [
        {
          "output_type": "stream",
          "name": "stdout",
          "text": [
            "('mouse', 'horse', 'donkey')\n",
            "('bat', 'mouse', 'horse', 'donkey')\n"
          ]
        }
      ]
    },
    {
      "cell_type": "code",
      "source": [
        "animals = (\"cat\", \"dog\", \"bat\", \"mouse\", \"horse\", \"donkey\", \"goat\", \"cow\")\n",
        "print(animals[:6])      #using positive indexes\n",
        "print(animals[:-3])"
      ],
      "metadata": {
        "colab": {
          "base_uri": "https://localhost:8080/"
        },
        "id": "zodCv-tOilRy",
        "outputId": "343ba2aa-4b2d-491a-d1e1-bccc090a1756"
      },
      "execution_count": 29,
      "outputs": [
        {
          "output_type": "stream",
          "name": "stdout",
          "text": [
            "('cat', 'dog', 'bat', 'mouse', 'horse', 'donkey')\n",
            "('cat', 'dog', 'bat', 'mouse', 'horse')\n"
          ]
        }
      ]
    },
    {
      "cell_type": "code",
      "source": [
        "animals = (\"cat\", \"dog\", \"bat\", \"mouse\", \"pig\", \"horse\", \"donkey\", \"goat\", \"cow\")\n",
        "print(animals[::2])     #using positive indexes\n",
        "print(animals[-8:-1:2]) #using negative indexes"
      ],
      "metadata": {
        "colab": {
          "base_uri": "https://localhost:8080/"
        },
        "id": "SqRGIn4li0dF",
        "outputId": "f613c954-bd82-4238-befb-fc29e4dc4b78"
      },
      "execution_count": 30,
      "outputs": [
        {
          "output_type": "stream",
          "name": "stdout",
          "text": [
            "('cat', 'bat', 'pig', 'donkey', 'cow')\n",
            "('dog', 'mouse', 'horse', 'goat')\n"
          ]
        }
      ]
    },
    {
      "cell_type": "code",
      "source": [
        "countries = (\"Pakistan\", \"Afghanistan\", \"Bangladesh\", \"ShriLanka\")\n",
        "countries2 = (\"Vietnam\", \"India\", \"China\")\n",
        "southEastAsia = countries + countries2\n",
        "print(southEastAsia)"
      ],
      "metadata": {
        "colab": {
          "base_uri": "https://localhost:8080/"
        },
        "id": "_yedshZxjWb8",
        "outputId": "e53cb17a-2deb-42e2-8415-b45821ea5842"
      },
      "execution_count": 31,
      "outputs": [
        {
          "output_type": "stream",
          "name": "stdout",
          "text": [
            "('Pakistan', 'Afghanistan', 'Bangladesh', 'ShriLanka', 'Vietnam', 'India', 'China')\n"
          ]
        }
      ]
    }
  ]
}