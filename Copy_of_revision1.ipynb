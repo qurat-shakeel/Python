{
  "nbformat": 4,
  "nbformat_minor": 0,
  "metadata": {
    "colab": {
      "provenance": []
    },
    "kernelspec": {
      "name": "python3",
      "display_name": "Python 3"
    },
    "language_info": {
      "name": "python"
    }
  },
  "cells": [
    {
      "cell_type": "code",
      "execution_count": null,
      "metadata": {
        "colab": {
          "base_uri": "https://localhost:8080/"
        },
        "id": "D_vwSVRBev_V",
        "outputId": "befc5eb1-388b-4f0e-e13f-a2ecee2e2240"
      },
      "outputs": [
        {
          "output_type": "stream",
          "name": "stdout",
          "text": [
            "hello world\n"
          ]
        }
      ],
      "source": [
        "print(\"hello world\")"
      ]
    },
    {
      "cell_type": "code",
      "source": [
        "print('3')"
      ],
      "metadata": {
        "colab": {
          "base_uri": "https://localhost:8080/"
        },
        "id": "Opwa0J5TiaQv",
        "outputId": "82add18b-1266-40ef-e946-9025ca6e5c4d"
      },
      "execution_count": null,
      "outputs": [
        {
          "output_type": "stream",
          "name": "stdout",
          "text": [
            "3\n"
          ]
        }
      ]
    },
    {
      "cell_type": "code",
      "source": [
        "var =10\n",
        "print(var)"
      ],
      "metadata": {
        "colab": {
          "base_uri": "https://localhost:8080/"
        },
        "id": "IByYz1oXi5Vq",
        "outputId": "88a2ffad-491b-485a-82b7-475b8118dc62"
      },
      "execution_count": null,
      "outputs": [
        {
          "output_type": "stream",
          "name": "stdout",
          "text": [
            "10\n"
          ]
        }
      ]
    },
    {
      "cell_type": "code",
      "source": [
        "varr = \"Qalb\"\n",
        "print(varr)"
      ],
      "metadata": {
        "colab": {
          "base_uri": "https://localhost:8080/"
        },
        "id": "gbHHHgXRjLPb",
        "outputId": "ba617b2a-4402-4148-9d52-e7c870f8991f"
      },
      "execution_count": null,
      "outputs": [
        {
          "output_type": "stream",
          "name": "stdout",
          "text": [
            "Qalb\n"
          ]
        }
      ]
    },
    {
      "cell_type": "code",
      "source": [
        "## _ is the only alphanumeric character that can be included in variable name\n",
        "var_ =\"qurat\"\n",
        "print(var_)"
      ],
      "metadata": {
        "colab": {
          "base_uri": "https://localhost:8080/"
        },
        "id": "LpsB8B0jjv4y",
        "outputId": "19f6376c-25b2-4563-a540-48812f422d7a"
      },
      "execution_count": null,
      "outputs": [
        {
          "output_type": "stream",
          "name": "stdout",
          "text": [
            "qurat\n"
          ]
        }
      ]
    },
    {
      "cell_type": "code",
      "source": [
        "## variable names cannnot start with number but it may include numbers\n",
        "## keywords are predefined words and keywords cannot be used as variable name"
      ],
      "metadata": {
        "id": "zjtivFV-kUSB"
      },
      "execution_count": null,
      "outputs": []
    }
  ]
}