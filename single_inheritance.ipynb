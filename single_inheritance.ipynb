{
  "nbformat": 4,
  "nbformat_minor": 0,
  "metadata": {
    "colab": {
      "provenance": []
    },
    "kernelspec": {
      "name": "python3",
      "display_name": "Python 3"
    },
    "language_info": {
      "name": "python"
    }
  },
  "cells": [
    {
      "cell_type": "code",
      "execution_count": 3,
      "metadata": {
        "colab": {
          "base_uri": "https://localhost:8080/"
        },
        "id": "trYGqHF4UF3e",
        "outputId": "2bf4baf0-3349-44ba-8896-a13b30e40286"
      },
      "outputs": [
        {
          "output_type": "stream",
          "name": "stdout",
          "text": [
            "Bark!\n",
            "Sound made by the Animal\n"
          ]
        }
      ],
      "source": [
        "class Animal:\n",
        "  def __init__(self, name, species):\n",
        "    self.name = name\n",
        "    self.species = species\n",
        "\n",
        "  def make_sound(self):\n",
        "    print(\"Sound made by the Animal\")\n",
        "\n",
        "class Dog(Animal):\n",
        "  def __init__(self, name, breed):\n",
        "    Animal.__init__(self, name, species = \"Dog\")\n",
        "    self.breed = breed\n",
        "\n",
        "  def make_sound(self):\n",
        "    print(\"Bark!\")\n",
        "\n",
        "  d = Dog(\"Dog\", \"Doggerman\")\n",
        "  d.make_sound()\n",
        "\n",
        "  a = Animal(\"Dog\", \"Dog\")\n",
        "  a.make_sound()"
      ]
    }
  ]
}