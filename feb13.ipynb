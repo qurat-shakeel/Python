{
  "nbformat": 4,
  "nbformat_minor": 0,
  "metadata": {
    "colab": {
      "provenance": []
    },
    "kernelspec": {
      "name": "python3",
      "display_name": "Python 3"
    },
    "language_info": {
      "name": "python"
    }
  },
  "cells": [
    {
      "cell_type": "code",
      "source": [
        "# Python program to get average of a list\n",
        "def calc_average(lst):\n",
        "    return sum(lst) / len(lst)\n",
        "lst = [1,2,3,4,5,6,7,8,9,10]\n",
        "average = calc_average(lst)\n",
        "# Printing the average value of the list\n",
        "print(\"The average of the list is \", round(average, 3))\n"
      ],
      "metadata": {
        "colab": {
          "base_uri": "https://localhost:8080/"
        },
        "id": "ojOmAv91S1l_",
        "outputId": "27755ab0-d5d1-432b-f9a3-416d86dfe2ab"
      },
      "execution_count": 6,
      "outputs": [
        {
          "output_type": "stream",
          "name": "stdout",
          "text": [
            "The average of the list is  5.5\n"
          ]
        }
      ]
    },
    {
      "cell_type": "code",
      "source": [
        "P = \"python \"\n",
        "Q = \"cloud \"\n",
        "\n",
        "print (\"Variables Value Before Swapping: \")\n",
        "print (\"Value of P: \", P)\n",
        "print (\"Value of Q: \", Q)\n",
        "\n",
        "# Method to swap 'P' and 'Q'\n",
        "P, Q = Q, P\n",
        "\n",
        "print (\"Variables Value After Swapping: \")\n",
        "print (\"Value of P: \", P)\n",
        "print (\"Value of Q: \", Q)"
      ],
      "metadata": {
        "colab": {
          "base_uri": "https://localhost:8080/"
        },
        "id": "TXsURQeHVc0h",
        "outputId": "f567b385-6cc8-49f0-811d-3f758e315170"
      },
      "execution_count": 9,
      "outputs": [
        {
          "output_type": "stream",
          "name": "stdout",
          "text": [
            "Variables Value Before Swapping: \n",
            "Value of P:  python \n",
            "Value of Q:  cloud \n",
            "Variables Value After Swapping: \n",
            "Value of P:  cloud \n",
            "Value of Q:  python \n"
          ]
        }
      ]
    },
    {
      "cell_type": "code",
      "source": [
        "print(round(16))\n",
        "\n",
        "# For floating point\n",
        "print(round(25.8))\n",
        "print(round(25.4))"
      ],
      "metadata": {
        "colab": {
          "base_uri": "https://localhost:8080/"
        },
        "id": "im1V8Y2YV0ld",
        "outputId": "a98c03ea-07f3-4ecf-ebb1-d3abf677fb5b"
      },
      "execution_count": 11,
      "outputs": [
        {
          "output_type": "stream",
          "name": "stdout",
          "text": [
            "16\n",
            "26\n",
            "25\n"
          ]
        }
      ]
    }
  ]
}