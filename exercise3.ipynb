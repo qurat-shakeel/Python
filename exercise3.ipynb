{
  "nbformat": 4,
  "nbformat_minor": 0,
  "metadata": {
    "colab": {
      "provenance": []
    },
    "kernelspec": {
      "name": "python3",
      "display_name": "Python 3"
    },
    "language_info": {
      "name": "python"
    }
  },
  "cells": [
    {
      "cell_type": "code",
      "execution_count": 1,
      "metadata": {
        "colab": {
          "base_uri": "https://localhost:8080/"
        },
        "id": "z1W_ECsaQbCM",
        "outputId": "c941ea54-26f8-40b1-f86e-87bada57e44c"
      },
      "outputs": [
        {
          "output_type": "stream",
          "name": "stdout",
          "text": [
            "Let's play the Game!!!\n",
            "1.Who is the PM of India?\n",
            "a.Narendra Modib.Rahul Gandhic.Arvind Kejriwald.Amit Shah\n",
            "1000\n",
            "Enter the correct option: a\n",
            "You entered the correct option\n",
            " 2.What is the national game of India?\n",
            "a.Hockeyb.Cricketc.Rubgyd.Chess\n",
            "10000\n",
            "Enter the correct option: b\n",
            "You entered the wrong option and have lost the game!!!\n",
            "1000\n"
          ]
        }
      ],
      "source": [
        "print(\"Let's play the Game!!!\")\n",
        "questions =[\"1.Who is the PM of India?\" , \" 2.What is the national game of India?\" , \" 3.What is the Capital of India?\"]\n",
        "options=[\"a.Narendra Modi\" \"b.Rahul Gandhi\" \"c.Arvind Kejriwal\" \"d.Amit Shah\" , \"a.Hockey\" \"b.Cricket\" \"c.Rubgy\" \"d.Chess\" , \"a.Mumbai \" \"b.New Delhi \" \"c.Pune \" \"d.Punjab \"]\n",
        "correct_options=[\"a\" , \"a\" ,\"b\" ]\n",
        "prize_money =[1000 , 10000,25000]\n",
        "Prize_earned =0\n",
        "for i in range(0,len(questions)):\n",
        "  print(questions[i])\n",
        "  print(options[i])\n",
        "  print(prize_money[i])\n",
        "  user_input=input(\"Enter the correct option: \")\n",
        "  if(user_input == correct_options[i]):\n",
        "    print(\"You entered the correct option\")\n",
        "    Prize_earned = Prize_earned + prize_money[i]\n",
        "  else:\n",
        "    print(\"You entered the wrong option and have lost the game!!!\")\n",
        "    break\n",
        "print(Prize_earned)\n"
      ]
    }
  ]
}