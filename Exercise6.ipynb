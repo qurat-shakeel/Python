{
  "nbformat": 4,
  "nbformat_minor": 0,
  "metadata": {
    "colab": {
      "provenance": []
    },
    "kernelspec": {
      "name": "python3",
      "display_name": "Python 3"
    },
    "language_info": {
      "name": "python"
    }
  },
  "cells": [
    {
      "cell_type": "code",
      "execution_count": 4,
      "metadata": {
        "colab": {
          "base_uri": "https://localhost:8080/"
        },
        "id": "HjiZFI4lUy7g",
        "outputId": "b9c568ef-07ed-42c9-fe29-a0191be5cabe"
      },
      "outputs": [
        {
          "output_type": "stream",
          "name": "stdout",
          "text": [
            "the library has 3 books\n",
            "harry potter2\n",
            "harry potter3\n",
            "harry potter4\n"
          ]
        }
      ],
      "source": [
        "class library:\n",
        "  def __init__(self):\n",
        "    self.nobooks = 0\n",
        "    self.books = []\n",
        "\n",
        "  def addbook(self, book):\n",
        "    self.books.append(book)\n",
        "    self.nobooks = len(self.books)\n",
        "\n",
        "  def showinfo(self):\n",
        "    print(f\"the library has {self.nobooks} books\")\n",
        "\n",
        "    for book in self.books:\n",
        "      print(book)\n",
        "l1 = library()\n",
        "l1.addbook(\"harry potter2\")\n",
        "l1.addbook(\"harry potter3\")\n",
        "l1.addbook(\"harry potter4\")\n",
        "l1.showinfo()"
      ]
    }
  ]
}