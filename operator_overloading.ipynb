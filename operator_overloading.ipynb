{
  "nbformat": 4,
  "nbformat_minor": 0,
  "metadata": {
    "colab": {
      "provenance": []
    },
    "kernelspec": {
      "name": "python3",
      "display_name": "Python 3"
    },
    "language_info": {
      "name": "python"
    }
  },
  "cells": [
    {
      "cell_type": "code",
      "execution_count": 12,
      "metadata": {
        "colab": {
          "base_uri": "https://localhost:8080/"
        },
        "id": "YatjCxjqOm3p",
        "outputId": "27c289ea-7382-4620-af1c-de47017c3c22"
      },
      "outputs": [
        {
          "output_type": "stream",
          "name": "stdout",
          "text": [
            "3 i + 5 j + 6 k\n",
            "1 i + 2 j + 9 k\n",
            "4i + 7j + 15k\n",
            "<class 'str'>\n"
          ]
        }
      ],
      "source": [
        "class vector:\n",
        "  def __init__(self, i, j, k):\n",
        "    self.i = i\n",
        "    self.j = j\n",
        "    self.k = k\n",
        "\n",
        "  def __str__(self):\n",
        "    return f\"{self.i} i + {self.j} j + {self.k} k\"\n",
        "  def __add__(self, x):\n",
        "    return f\"{self.i + x.i}i + {self.j + x.j}j + {self.k + x.k}k\"\n",
        "v1 = vector(3, 5, 6)\n",
        "print(v1)\n",
        "v2 = vector(1, 2, 9)\n",
        "print(v2)\n",
        "\n",
        "print(v1 + v2)\n",
        "print(type(v1 + v2))"
      ]
    },
    {
      "cell_type": "code",
      "source": [
        "class vector:\n",
        "  def __init__(self, i, j, k):\n",
        "    self.i = i\n",
        "    self.j = j\n",
        "    self.k = k\n",
        "\n",
        "  def __str__(self):\n",
        "    return f\"{self.i} i + {self.j} j + {self.k} k\"\n",
        "  def __add__(self, x):\n",
        "    return vector(self.i + x.i, self.j + x.j, self.k + x.k)\n",
        "v1 = vector(3, 5, 6)\n",
        "print(v1)\n",
        "v2 = vector(1, 2, 9)\n",
        "print(v2)\n",
        "\n",
        "print(v1 + v2)\n",
        "print(type(v1 + v2))"
      ],
      "metadata": {
        "colab": {
          "base_uri": "https://localhost:8080/"
        },
        "id": "g3GqUGofSk-o",
        "outputId": "36094ae6-051d-42d9-d055-32a3b6a2205e"
      },
      "execution_count": 13,
      "outputs": [
        {
          "output_type": "stream",
          "name": "stdout",
          "text": [
            "3 i + 5 j + 6 k\n",
            "1 i + 2 j + 9 k\n",
            "4 i + 7 j + 15 k\n",
            "<class '__main__.vector'>\n"
          ]
        }
      ]
    }
  ]
}