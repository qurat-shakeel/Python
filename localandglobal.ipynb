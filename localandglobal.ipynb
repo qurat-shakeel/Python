{
  "nbformat": 4,
  "nbformat_minor": 0,
  "metadata": {
    "colab": {
      "provenance": []
    },
    "kernelspec": {
      "name": "python3",
      "display_name": "Python 3"
    },
    "language_info": {
      "name": "python"
    }
  },
  "cells": [
    {
      "cell_type": "code",
      "execution_count": 2,
      "metadata": {
        "colab": {
          "base_uri": "https://localhost:8080/"
        },
        "id": "UY6F_xforzlw",
        "outputId": "69c37ac8-14d6-4ac5-f381-222daf10df5f"
      },
      "outputs": [
        {
          "output_type": "stream",
          "name": "stdout",
          "text": [
            "4\n",
            "4\n",
            "hey\n"
          ]
        }
      ],
      "source": [
        "x=4\n",
        "print(x)\n",
        "\n",
        "def hello():\n",
        "  print(x)\n",
        "  print(\"hey\")\n",
        "\n",
        "hello()"
      ]
    },
    {
      "cell_type": "code",
      "source": [
        "x=4\n",
        "print(x)\n",
        "\n",
        "def hello():\n",
        "  x=9\n",
        "  print(f\"the local x is {x}\")\n",
        "  print(\"hey\")\n",
        "print(f\"the global x is {x}\")   #this gets printed first\n",
        "hello()\n",
        "print(f\"the global x is {x}\")"
      ],
      "metadata": {
        "colab": {
          "base_uri": "https://localhost:8080/"
        },
        "id": "Oa5dvPSdsH5e",
        "outputId": "417963c4-3d34-4058-fa88-7ef6a9b4c2bb"
      },
      "execution_count": 5,
      "outputs": [
        {
          "output_type": "stream",
          "name": "stdout",
          "text": [
            "4\n",
            "the global x is 4\n",
            "the local x is 9\n",
            "hey\n",
            "the global x is 4\n"
          ]
        }
      ]
    },
    {
      "cell_type": "code",
      "source": [
        "x = 2  #global variable\n",
        "\n",
        "def name():\n",
        "  y=5 #local variable\n",
        "  print(y)\n",
        "\n",
        "name()\n",
        "print(x)"
      ],
      "metadata": {
        "colab": {
          "base_uri": "https://localhost:8080/"
        },
        "id": "32X0jU-0txGy",
        "outputId": "55f4261b-34cd-4277-aa72-7cc18bd5a0bd"
      },
      "execution_count": 7,
      "outputs": [
        {
          "output_type": "stream",
          "name": "stdout",
          "text": [
            "5\n",
            "4\n"
          ]
        }
      ]
    },
    {
      "cell_type": "code",
      "source": [
        "x = 2  #global variable\n",
        "\n",
        "def name():\n",
        "  y=5 #local variable\n",
        "  print(y)\n",
        "\n",
        "name()\n",
        "print(x)\n",
        "\n",
        " #print(y)  #it will cause error as y is local here and cannot be accessed outside the function"
      ],
      "metadata": {
        "colab": {
          "base_uri": "https://localhost:8080/"
        },
        "id": "mRzaCtHjuQJ9",
        "outputId": "5bac2fac-436c-47ec-eee7-dd51c34d1569"
      },
      "execution_count": 10,
      "outputs": [
        {
          "output_type": "stream",
          "name": "stdout",
          "text": [
            "5\n",
            "2\n"
          ]
        }
      ]
    },
    {
      "cell_type": "code",
      "source": [],
      "metadata": {
        "id": "SgXGO9Cqu7dU"
      },
      "execution_count": null,
      "outputs": []
    },
    {
      "cell_type": "code",
      "source": [
        "x = 2  #global variable\n",
        "\n",
        "def name():\n",
        "  global x   # changes the value of global x\n",
        "  x=7\n",
        "  y=5 #local variable\n",
        "  print(y)\n",
        "\n",
        "name()\n",
        "print(x)"
      ],
      "metadata": {
        "colab": {
          "base_uri": "https://localhost:8080/"
        },
        "id": "5BRU_MgRu7sh",
        "outputId": "6088a352-d47c-4f08-c383-a9346135386f"
      },
      "execution_count": 11,
      "outputs": [
        {
          "output_type": "stream",
          "name": "stdout",
          "text": [
            "5\n",
            "7\n"
          ]
        }
      ]
    }
  ]
}