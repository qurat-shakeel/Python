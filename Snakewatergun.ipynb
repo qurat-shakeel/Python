{
  "nbformat": 4,
  "nbformat_minor": 0,
  "metadata": {
    "colab": {
      "provenance": []
    },
    "kernelspec": {
      "name": "python3",
      "display_name": "Python 3"
    },
    "language_info": {
      "name": "python"
    }
  },
  "cells": [
    {
      "cell_type": "code",
      "execution_count": null,
      "metadata": {
        "id": "MSeqz-HaLP5T"
      },
      "outputs": [],
      "source": [
        "import random\n",
        "def check(computer, user):\n",
        "\n",
        "  if(computer == user):\n",
        "    return 0\n",
        "  if(computer == 0 and user == 1):\n",
        "    return -1\n",
        "  if(computer == 1 and user == 2):\n",
        "    return -1\n",
        "  if(computer == 2 and user == 0):\n",
        "    return -1\n",
        "\n",
        "  return 1\n",
        "\n",
        "computer = random.randint(0,2)\n",
        "user = int(input(\"Enter 0 for Snake, 1 for Water, 2 for Gun:\\n\"))\n",
        "score = check(computer, user)\n",
        "\n",
        "print(\"You:\",user)\n",
        "print(\"Computer: \",computer)\n",
        "\n",
        "if (score == 0):\n",
        "  print(\"Its a draw\")\n",
        "elif(score == -1):\n",
        "  print(\"You lose\")\n",
        "else:\n",
        "  print(\"You won\")\n",
        "\n"
      ]
    }
  ]
}