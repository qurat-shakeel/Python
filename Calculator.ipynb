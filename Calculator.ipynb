{
  "nbformat": 4,
  "nbformat_minor": 0,
  "metadata": {
    "colab": {
      "provenance": []
    },
    "kernelspec": {
      "name": "python3",
      "display_name": "Python 3"
    },
    "language_info": {
      "name": "python"
    }
  },
  "cells": [
    {
      "cell_type": "code",
      "execution_count": null,
      "metadata": {
        "id": "vfzOtclnkkOS",
        "colab": {
          "base_uri": "https://localhost:8080/"
        },
        "outputId": "a9e69224-998b-446c-d566-9bb4b28f8666"
      },
      "outputs": [
        {
          "output_type": "stream",
          "name": "stdout",
          "text": [
            "Enter first number: 67\n",
            "Enter second number: 7\n",
            "sum of  67 and 7 = 74\n",
            "Difference of  67 and 7 = 60\n",
            "quotient of  67 and 7 = 9.571428571428571\n",
            "product of  67 and 7 = 469\n"
          ]
        }
      ],
      "source": [
        "a = int(input(\"Enter first number: \"))\n",
        "b = int(input(\"Enter second number: \"))\n",
        "add = a+b\n",
        "print(\"sum of \",a ,\"and\", b ,\"=\", add )\n",
        "difference = a-b\n",
        "print(\"Difference of \",a ,\"and\", b ,\"=\", difference )\n",
        "div = a/b\n",
        "print(\"quotient of \",a ,\"and\", b ,\"=\", div )\n",
        "mul = a*b\n",
        "print(\"product of \",a ,\"and\", b ,\"=\", mul )"
      ]
    }
  ]
}