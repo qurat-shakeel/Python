{
  "nbformat": 4,
  "nbformat_minor": 0,
  "metadata": {
    "colab": {
      "provenance": []
    },
    "kernelspec": {
      "name": "python3",
      "display_name": "Python 3"
    },
    "language_info": {
      "name": "python"
    }
  },
  "cells": [
    {
      "cell_type": "code",
      "execution_count": 9,
      "metadata": {
        "colab": {
          "base_uri": "https://localhost:8080/"
        },
        "id": "DPTwyaLsEOv9",
        "outputId": "15b6b3d2-aaa0-43b6-eedc-c1c23ed8a720"
      },
      "outputs": [
        {
          "output_type": "stream",
          "name": "stdout",
          "text": [
            "Apple Banana\n"
          ]
        }
      ],
      "source": [
        "string1 = \"Apple\"\n",
        "string2 = \"Banana\"\n",
        "\n",
        "result = string1 +\" \"+ string2\n",
        "print(result)\n"
      ]
    },
    {
      "cell_type": "code",
      "source": [
        "string1 = \"Apple\"\n",
        "string2 = \"Banana\"\n",
        "string3 = \"Cherry\"\n",
        "string4 = \"Mango\"\n",
        "\n",
        "result = string1 +\" \"+ string2 +\" \"+ string3 +\" \"+ string4\n",
        "print(result)"
      ],
      "metadata": {
        "colab": {
          "base_uri": "https://localhost:8080/"
        },
        "id": "VCnBv3MqFwFv",
        "outputId": "fb821e3a-3d72-46e0-847d-442aaaa61448"
      },
      "execution_count": 11,
      "outputs": [
        {
          "output_type": "stream",
          "name": "stdout",
          "text": [
            "Apple Banana Cherry Mango\n"
          ]
        }
      ]
    },
    {
      "cell_type": "code",
      "source": [
        "#sort list in ascending order\n",
        "my_list = ['cherry', 'mango', 'apple', 'orange', 'banana']\n",
        "my_list.sort()\n",
        "print(my_list)"
      ],
      "metadata": {
        "colab": {
          "base_uri": "https://localhost:8080/"
        },
        "id": "7Fm0eDo9HJUg",
        "outputId": "2376bae2-110a-4bb0-afe2-1e78a40ef19d"
      },
      "execution_count": 18,
      "outputs": [
        {
          "output_type": "stream",
          "name": "stdout",
          "text": [
            "['apple', 'banana', 'cherry', 'mango', 'orange']\n"
          ]
        }
      ]
    },
    {
      "cell_type": "code",
      "source": [
        "# copy and sort\n",
        "my_list = ['cherry', 'mango', 'apple', 'orange', 'banana']\n",
        "my_list.copy()\n",
        "sorted_list=my_list.copy()\n",
        "sorted_list.sort()\n",
        "print(my_list)\n",
        "print(sorted_list)"
      ],
      "metadata": {
        "colab": {
          "base_uri": "https://localhost:8080/"
        },
        "id": "KGDi985JHv8U",
        "outputId": "2a7e0cab-0d10-4b5a-cb21-5e09407feb7a"
      },
      "execution_count": 19,
      "outputs": [
        {
          "output_type": "stream",
          "name": "stdout",
          "text": [
            "['cherry', 'mango', 'apple', 'orange', 'banana']\n",
            "['apple', 'banana', 'cherry', 'mango', 'orange']\n"
          ]
        }
      ]
    },
    {
      "cell_type": "code",
      "source": [
        "# sort in descending order\n",
        "my_list = ['cherry', 'mango', 'apple', 'orange', 'banana']\n",
        "my_list.sort(reverse=True)\n",
        "print(my_list)"
      ],
      "metadata": {
        "colab": {
          "base_uri": "https://localhost:8080/"
        },
        "id": "jvxVvcuaIVSq",
        "outputId": "e73abc22-8e41-4d8f-9187-34a4d85f3829"
      },
      "execution_count": 20,
      "outputs": [
        {
          "output_type": "stream",
          "name": "stdout",
          "text": [
            "['orange', 'mango', 'cherry', 'banana', 'apple']\n"
          ]
        }
      ]
    },
    {
      "cell_type": "code",
      "source": [
        "#convert str to lower case\n",
        "mystring = 'Hello World'\n",
        "print('Original String :',mystring)\n",
        "\n",
        "lowerstring = mystring.lower()\n",
        "print('Lowercase String :',lowerstring)"
      ],
      "metadata": {
        "colab": {
          "base_uri": "https://localhost:8080/"
        },
        "id": "8hk5qDfJIhrv",
        "outputId": "cdb9979f-a283-40da-9f76-5662b47d5842"
      },
      "execution_count": 21,
      "outputs": [
        {
          "output_type": "stream",
          "name": "stdout",
          "text": [
            "Original String : Hello World\n",
            "Lowercase String : hello world\n"
          ]
        }
      ]
    },
    {
      "cell_type": "code",
      "source": [
        "# trim white spaces from edges\n",
        "mystring = '   Hello world        '\n",
        "\n",
        "cleanstring = mystring.strip()\n",
        "\n",
        "# Before strip\n",
        "print(mystring)\n",
        "print(len(mystring))\n",
        "\n",
        "# After string\n",
        "print(cleanstring)\n",
        "print(len(cleanstring))\n",
        "\n"
      ],
      "metadata": {
        "colab": {
          "base_uri": "https://localhost:8080/"
        },
        "id": "hFsdSQ8sJdJt",
        "outputId": "eedc04e9-4871-42b9-f62c-64e4c7f4bc8e"
      },
      "execution_count": 22,
      "outputs": [
        {
          "output_type": "stream",
          "name": "stdout",
          "text": [
            "   Hello world        \n",
            "22\n",
            "Hello world\n",
            "11\n"
          ]
        }
      ]
    },
    {
      "cell_type": "code",
      "source": [
        "# convert string to integer\n",
        "# Take a string\n",
        "a = '125'\n",
        "print('Input', a, type(a))\n",
        "\n",
        "# Convert string to int\n",
        "output = int(a)\n",
        "print('Output', output, type(output))"
      ],
      "metadata": {
        "colab": {
          "base_uri": "https://localhost:8080/"
        },
        "id": "rMdmhwFUKzDO",
        "outputId": "b877807a-6bcd-4729-d045-9d7941b53e70"
      },
      "execution_count": 27,
      "outputs": [
        {
          "output_type": "stream",
          "name": "stdout",
          "text": [
            "Input 125 <class 'str'>\n",
            "Output 125 <class 'int'>\n"
          ]
        }
      ]
    },
    {
      "cell_type": "code",
      "source": [
        "# Convert binary str to integer\n",
        "# Take a binary string\n",
        "a = '10111010'\n",
        "print('Input', a, type(a))\n",
        "\n",
        "# Convert binary string to int\n",
        "output = int(a, base=2)\n",
        "print('Output', output, type(output))"
      ],
      "metadata": {
        "colab": {
          "base_uri": "https://localhost:8080/"
        },
        "id": "g9UNPlJRLu_w",
        "outputId": "0f9d7a0d-9ff5-492a-97c8-85fa4c1b2b3d"
      },
      "execution_count": 28,
      "outputs": [
        {
          "output_type": "stream",
          "name": "stdout",
          "text": [
            "Input 10111010 <class 'str'>\n",
            "Output 186 <class 'int'>\n"
          ]
        }
      ]
    },
    {
      "cell_type": "code",
      "source": [
        "# Convert Hex str to int\n",
        "# Take a hex string\n",
        "a = 'AB96210F'\n",
        "print('Input', a, type(a))\n",
        "\n",
        "# Convert hex string to int\n",
        "output = int(a, base=16)\n",
        "print('Output', output, type(output))"
      ],
      "metadata": {
        "colab": {
          "base_uri": "https://localhost:8080/"
        },
        "id": "VSeRjmw_MRZ7",
        "outputId": "3bb21735-1cd0-4a73-e3f8-e5bb2b9ad742"
      },
      "execution_count": 29,
      "outputs": [
        {
          "output_type": "stream",
          "name": "stdout",
          "text": [
            "Input AB96210F <class 'str'>\n",
            "Output 2878742799 <class 'int'>\n"
          ]
        }
      ]
    }
  ]
}