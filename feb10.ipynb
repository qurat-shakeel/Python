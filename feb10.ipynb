{
  "nbformat": 4,
  "nbformat_minor": 0,
  "metadata": {
    "colab": {
      "provenance": []
    },
    "kernelspec": {
      "name": "python3",
      "display_name": "Python 3"
    },
    "language_info": {
      "name": "python"
    }
  },
  "cells": [
    {
      "cell_type": "code",
      "execution_count": 1,
      "metadata": {
        "colab": {
          "base_uri": "https://localhost:8080/"
        },
        "id": "BO2TBNM5rtGm",
        "outputId": "77c97d96-c86e-49b6-f8db-1aec21ffa89d"
      },
      "outputs": [
        {
          "output_type": "stream",
          "name": "stdout",
          "text": [
            "Absolute value of -40 is: 20\n",
            "Absolute value of -40.83 is: 20.83\n"
          ]
        }
      ],
      "source": [
        "\n",
        "# abs function\n",
        "#  integer number\n",
        "integer = -56\n",
        "print('Absolute value of -56 is:', abs(integer))\n",
        "\n",
        "#  floating number\n",
        "floating = -40.83\n",
        "print('Absolute value of -40.83 is:', abs(floating))"
      ]
    },
    {
      "cell_type": "code",
      "source": [
        "# all values true\n",
        "k = [1, 3, 4, 6]\n",
        "print(all(k))\n",
        "\n",
        "# all values false\n",
        "k = [0, False]\n",
        "print(all(k))\n",
        "\n",
        "# one false value\n",
        "k = [1, 3, 7, 0]\n",
        "print(all(k))\n",
        "\n",
        "# one true value\n",
        "k = [0, False, 5]\n",
        "print(all(k))\n",
        "\n",
        "# empty iterable\n",
        "k = []\n",
        "print(all(k))"
      ],
      "metadata": {
        "colab": {
          "base_uri": "https://localhost:8080/"
        },
        "id": "sHmElSV-sWgP",
        "outputId": "d21b281c-e6d6-46a4-dc82-8ff092e0f192"
      },
      "execution_count": 2,
      "outputs": [
        {
          "output_type": "stream",
          "name": "stdout",
          "text": [
            "True\n",
            "False\n",
            "False\n",
            "False\n",
            "True\n"
          ]
        }
      ]
    },
    {
      "cell_type": "code",
      "source": [
        "# bin function\n",
        "x =  10\n",
        "y =  bin(x)\n",
        "print (y)"
      ],
      "metadata": {
        "colab": {
          "base_uri": "https://localhost:8080/"
        },
        "id": "M4PA3qoCsuRc",
        "outputId": "50cbc9f1-383b-4a8f-a253-d8d31584f388"
      },
      "execution_count": 3,
      "outputs": [
        {
          "output_type": "stream",
          "name": "stdout",
          "text": [
            "0b1010\n"
          ]
        }
      ]
    },
    {
      "cell_type": "code",
      "source": [
        "# python bool\n",
        "test1 = []\n",
        "print(test1,'is',bool(test1))\n",
        "test1 = [0]\n",
        "print(test1,'is',bool(test1))\n",
        "test1 = 0.0\n",
        "print(test1,'is',bool(test1))\n",
        "test1 = None\n",
        "print(test1,'is',bool(test1))\n",
        "test1 = True\n",
        "print(test1,'is',bool(test1))\n",
        "test1 = 'Easy string'\n",
        "print(test1,'is',bool(test1))"
      ],
      "metadata": {
        "colab": {
          "base_uri": "https://localhost:8080/"
        },
        "id": "buwTq_r_s99m",
        "outputId": "dfc16eb5-a0ca-4ce5-cb24-ca4c5addec83"
      },
      "execution_count": 4,
      "outputs": [
        {
          "output_type": "stream",
          "name": "stdout",
          "text": [
            "[] is False\n",
            "[0] is True\n",
            "0.0 is False\n",
            "None is False\n",
            "True is True\n",
            "Easy string is True\n"
          ]
        }
      ]
    },
    {
      "cell_type": "code",
      "source": [
        "# python bytes\n",
        "string = \"Hello World.\"\n",
        "array = bytes(string, 'utf-8')\n",
        "print(array)"
      ],
      "metadata": {
        "colab": {
          "base_uri": "https://localhost:8080/"
        },
        "id": "ECXqKBUktNEr",
        "outputId": "9d3c1f5a-0ae8-4928-9c78-a121e5d7a6b0"
      },
      "execution_count": 5,
      "outputs": [
        {
          "output_type": "stream",
          "name": "stdout",
          "text": [
            "b'Hello World.'\n"
          ]
        }
      ]
    },
    {
      "cell_type": "code",
      "source": [
        "# pyhon callable\n",
        "x = 8\n",
        "print(callable(x))"
      ],
      "metadata": {
        "colab": {
          "base_uri": "https://localhost:8080/"
        },
        "id": "djYV9H9XtaB-",
        "outputId": "f8d5bc49-3347-4e97-b0bf-7c6d415276eb"
      },
      "execution_count": 6,
      "outputs": [
        {
          "output_type": "stream",
          "name": "stdout",
          "text": [
            "False\n"
          ]
        }
      ]
    },
    {
      "cell_type": "code",
      "source": [
        "# exec funstion\n",
        "x = 8\n",
        "exec('print(x==8)')\n",
        "exec('print(x+4)')"
      ],
      "metadata": {
        "colab": {
          "base_uri": "https://localhost:8080/"
        },
        "id": "9Tl2uRBCtddq",
        "outputId": "4c929807-4403-491c-c681-7c5c4f3afe43"
      },
      "execution_count": 8,
      "outputs": [
        {
          "output_type": "stream",
          "name": "stdout",
          "text": [
            "True\n",
            "12\n"
          ]
        }
      ]
    },
    {
      "cell_type": "code",
      "source": [
        "s = sum([1, 2,4 ])\n",
        "print(s)\n",
        "\n",
        "s = sum([1, 2, 4], 10)\n",
        "print(s)"
      ],
      "metadata": {
        "colab": {
          "base_uri": "https://localhost:8080/"
        },
        "id": "qDiadHx9t0lx",
        "outputId": "e39d342c-1d3b-444a-dfb5-caa8a9ed43a0"
      },
      "execution_count": 9,
      "outputs": [
        {
          "output_type": "stream",
          "name": "stdout",
          "text": [
            "7\n",
            "17\n"
          ]
        }
      ]
    },
    {
      "cell_type": "code",
      "source": [
        "# any function\n",
        "l = [4, 3, 2, 0]\n",
        "print(any(l))\n",
        "\n",
        "l = [0, False]\n",
        "print(any(l))\n",
        "\n",
        "l = [0, False, 5]\n",
        "print(any(l))\n",
        "\n",
        "l = []\n",
        "print(any(l))\n"
      ],
      "metadata": {
        "colab": {
          "base_uri": "https://localhost:8080/"
        },
        "id": "sx5lFXn1t40Q",
        "outputId": "d3928340-7a43-4998-9c9d-072d2482e9f7"
      },
      "execution_count": 10,
      "outputs": [
        {
          "output_type": "stream",
          "name": "stdout",
          "text": [
            "True\n",
            "False\n",
            "True\n",
            "False\n"
          ]
        }
      ]
    },
    {
      "cell_type": "code",
      "source": [
        "# ascii function\n",
        "normalText = 'Python is interesting'\n",
        "print(ascii(normalText))\n",
        "\n",
        "otherText = 'Pythön is interesting'\n",
        "print(ascii(otherText))\n",
        "\n",
        "print('Pyth\\xf6n is interesting')"
      ],
      "metadata": {
        "colab": {
          "base_uri": "https://localhost:8080/"
        },
        "id": "dRJvC5xWt-8b",
        "outputId": "a7fa8c25-b5c2-470a-df29-7defbd570699"
      },
      "execution_count": 11,
      "outputs": [
        {
          "output_type": "stream",
          "name": "stdout",
          "text": [
            "'Python is interesting'\n",
            "'Pyth\\xf6n is interesting'\n",
            "Pythön is interesting\n"
          ]
        }
      ]
    },
    {
      "cell_type": "code",
      "source": [],
      "metadata": {
        "id": "T8RiH9ABuRbH"
      },
      "execution_count": null,
      "outputs": []
    }
  ]
}