{
  "nbformat": 4,
  "nbformat_minor": 0,
  "metadata": {
    "colab": {
      "provenance": []
    },
    "kernelspec": {
      "name": "python3",
      "display_name": "Python 3"
    },
    "language_info": {
      "name": "python"
    }
  },
  "cells": [
    {
      "cell_type": "code",
      "execution_count": null,
      "metadata": {
        "colab": {
          "base_uri": "https://localhost:8080/"
        },
        "id": "TaRAjsP_NJjx",
        "outputId": "133a058c-ea49-4298-e2fa-fb6a7c4cef77"
      },
      "outputs": [
        {
          "output_type": "stream",
          "name": "stdout",
          "text": [
            "Enter an integer: ;lkjhg\n",
            "Number entered is not an integer.\n"
          ]
        }
      ],
      "source": [
        "try:\n",
        "    num = int(input(\"Enter an integer: \"))\n",
        "except ValueError:\n",
        "    print(\"Number entered is not an integer.\")"
      ]
    },
    {
      "cell_type": "code",
      "source": [
        "# else block is executed when there is no error in try block.\n",
        "\n",
        "\n",
        "try:\n",
        "    num = int(input(\"Enter an integer: \"))\n",
        "except ValueError:\n",
        "    print(\"Number entered is not an integer.\")\n",
        "else:\n",
        "    print(\"Integer Accepted.\")"
      ],
      "metadata": {
        "colab": {
          "base_uri": "https://localhost:8080/"
        },
        "id": "co57ZWltN1uw",
        "outputId": "2d3c5d2a-38e9-488a-8e40-8cc65b764f52"
      },
      "execution_count": null,
      "outputs": [
        {
          "output_type": "stream",
          "name": "stdout",
          "text": [
            "Enter an integer: 56\n",
            "Integer Accepted.\n"
          ]
        }
      ]
    },
    {
      "cell_type": "code",
      "source": [
        "# finally block is execute whatever is the outcome of try……except…..else blocks.\n",
        "try:\n",
        "    num = int(input(\"Enter an integer: \"))\n",
        "except ValueError:\n",
        "    print(\"Number entered is not an integer.\")\n",
        "else:\n",
        "    print(\"Integer Accepted.\")\n",
        "finally:\n",
        "    print(\"This block is always executed.\")"
      ],
      "metadata": {
        "colab": {
          "base_uri": "https://localhost:8080/"
        },
        "id": "MD66Lfi3OD8z",
        "outputId": "df2a86ca-6927-45b0-b29c-274e22743563"
      },
      "execution_count": null,
      "outputs": [
        {
          "output_type": "stream",
          "name": "stdout",
          "text": [
            "Enter an integer: gv\n",
            "Number entered is not an integer.\n",
            "This block is always executed.\n"
          ]
        }
      ]
    },
    {
      "cell_type": "code",
      "source": [],
      "metadata": {
        "id": "f8VIgPQBPCeH"
      },
      "execution_count": null,
      "outputs": []
    }
  ]
}