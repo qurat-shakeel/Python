{
  "nbformat": 4,
  "nbformat_minor": 0,
  "metadata": {
    "colab": {
      "provenance": []
    },
    "kernelspec": {
      "name": "python3",
      "display_name": "Python 3"
    },
    "language_info": {
      "name": "python"
    }
  },
  "cells": [
    {
      "cell_type": "code",
      "execution_count": 1,
      "metadata": {
        "colab": {
          "base_uri": "https://localhost:8080/"
        },
        "id": "MimSDQPa1z0O",
        "outputId": "a7d09f21-7c38-4f10-c87c-cdf899950ff4"
      },
      "outputs": [
        {
          "output_type": "stream",
          "name": "stdout",
          "text": [
            "The square of the given number is:  36\n"
          ]
        }
      ],
      "source": [
        "# Example Python Code for User-Defined function\n",
        "def square( num ):\n",
        "    \"\"\"\n",
        "    This function computes the square of the number.\n",
        "    \"\"\"\n",
        "    return num**2\n",
        "object_ = square(6)\n",
        "print( \"The square of the given number is: \", object_ )"
      ]
    },
    {
      "cell_type": "code",
      "source": [
        "# Example Python Code for calling a function\n",
        "# Defining a function\n",
        "def a_function( string ):\n",
        "    \"This prints the value of length of string\"\n",
        "    return len(string)\n",
        "\n",
        "# Calling the function we defined\n",
        "print( \"Length of the string Functions is: \", a_function( \"Functions\" ) )\n",
        "print( \"Length of the string Python is: \", a_function( \"Python\" ) )"
      ],
      "metadata": {
        "colab": {
          "base_uri": "https://localhost:8080/"
        },
        "id": "407zxM2Q3fQx",
        "outputId": "5e694ea6-f260-4014-bbd8-b147f04acfef"
      },
      "execution_count": 2,
      "outputs": [
        {
          "output_type": "stream",
          "name": "stdout",
          "text": [
            "Length of the string Functions is:  9\n",
            "Length of the string Python is:  6\n"
          ]
        }
      ]
    },
    {
      "cell_type": "code",
      "source": [
        "# Example Python Code for Pass by Reference vs. Value\n",
        "# defining the function\n",
        "def square( item_list ):\n",
        "    '''''''This function will find the square of items in the list'''\n",
        "    squares = [ ]\n",
        "    for l in item_list:\n",
        "        squares.append( l**2 )\n",
        "    return squares\n",
        "\n",
        "\n",
        "    # calling the defined function\n",
        "my_list = [17, 52, 8];\n",
        "my_result = square( my_list )\n",
        "print( \"Squares of the list are: \", my_result )"
      ],
      "metadata": {
        "colab": {
          "base_uri": "https://localhost:8080/"
        },
        "id": "nk22aDcI3yue",
        "outputId": "605ced95-46a6-474e-9076-b48e8254fa9a"
      },
      "execution_count": 3,
      "outputs": [
        {
          "output_type": "stream",
          "name": "stdout",
          "text": [
            "Squares of the list are:  [289, 2704, 64]\n"
          ]
        }
      ]
    },
    {
      "cell_type": "code",
      "source": [
        "# Python code to demonstrate the use of default arguments\n",
        "# defining a function\n",
        "def function( n1, n2 = 20 ):\n",
        "    print(\"number 1 is: \", n1)\n",
        "    print(\"number 2 is: \", n2)\n",
        "\n",
        "\n",
        "# Calling the function and passing only one argument\n",
        "print( \"Passing only one argument\" )\n",
        "function(30)\n",
        "\n",
        "# Now giving two arguments to the function\n",
        "print( \"Passing two arguments\" )\n",
        "function(50,30)"
      ],
      "metadata": {
        "colab": {
          "base_uri": "https://localhost:8080/"
        },
        "id": "Uvr4oxKD4D-c",
        "outputId": "4db62a1a-bab5-474d-90e9-19afd5401836"
      },
      "execution_count": 4,
      "outputs": [
        {
          "output_type": "stream",
          "name": "stdout",
          "text": [
            "Passing only one argument\n",
            "number 1 is:  30\n",
            "number 2 is:  20\n",
            "Passing two arguments\n",
            "number 1 is:  50\n",
            "number 2 is:  30\n"
          ]
        }
      ]
    },
    {
      "cell_type": "code",
      "source": [
        "# Python code to demonstrate the use of keyword arguments\n",
        "  # Defining a function\n",
        "def function( n1, n2 ):\n",
        "    print(\"number 1 is: \", n1)\n",
        "    print(\"number 2 is: \", n2)\n",
        "\n",
        "# Calling function and passing arguments without using keyword\n",
        "print( \"Without using keyword\" )\n",
        "function( 50, 30)\n",
        "\n",
        "# Calling function and passing arguments using keyword\n",
        "print( \"With using keyword\" )\n",
        "function( n2 = 50, n1 = 30)"
      ],
      "metadata": {
        "colab": {
          "base_uri": "https://localhost:8080/"
        },
        "id": "vwbfB1GP4I5N",
        "outputId": "ea2d7db1-a49b-46d9-f935-dfde5376e654"
      },
      "execution_count": 5,
      "outputs": [
        {
          "output_type": "stream",
          "name": "stdout",
          "text": [
            "Without using keyword\n",
            "number 1 is:  50\n",
            "number 2 is:  30\n",
            "With using keyword\n",
            "number 1 is:  30\n",
            "number 2 is:  50\n"
          ]
        }
      ]
    },
    {
      "cell_type": "code",
      "source": [
        "# Python code to demonstrate the use of default arguments\n",
        "# Defining a function\n",
        "def function( n1, n2 ):\n",
        "    print(\"number 1 is: \", n1)\n",
        "    print(\"number 2 is: \", n2)\n",
        "\n",
        "# Calling function and passing two arguments out of order, we need num1 to be 20 and num2 to be 30\n",
        "print( \"Passing out of order arguments\" )\n",
        "function( 30, 20 )\n",
        "\n",
        "# Calling function and passing only one argument\n",
        "print( \"Passing only one argument\" )\n",
        "try:\n",
        "    function( 30 )\n",
        "except:\n",
        "    print( \"Function needs two positional arguments\" )"
      ],
      "metadata": {
        "colab": {
          "base_uri": "https://localhost:8080/"
        },
        "id": "9ait6KRo4TEt",
        "outputId": "ae799eab-7ed5-449e-a9dd-5b75cbc45520"
      },
      "execution_count": 6,
      "outputs": [
        {
          "output_type": "stream",
          "name": "stdout",
          "text": [
            "Passing out of order arguments\n",
            "number 1 is:  30\n",
            "number 2 is:  20\n",
            "Passing only one argument\n",
            "Function needs two positional arguments\n"
          ]
        }
      ]
    },
    {
      "cell_type": "code",
      "source": [
        "# Python code to demonstrate the use of variable-length arguments\n",
        "# Defining a function\n",
        "def function( *args_list ):\n",
        "    ans = []\n",
        "    for l in args_list:\n",
        "        ans.append( l.upper() )\n",
        "    return ans\n",
        "# Passing args arguments\n",
        "object = function('Python', 'Functions', 'tutorial')\n",
        "print( object )\n",
        "\n",
        "# defining a function\n",
        "def function( **kargs_list ):\n",
        "    ans = []\n",
        "    for key, value in kargs_list.items():\n",
        "        ans.append([key, value])\n",
        "    return ans\n",
        "# Paasing kwargs arguments\n",
        "object = function(First = \"Python\", Second = \"Functions\", Third = \"Tutorial\")\n",
        "print(object)\n"
      ],
      "metadata": {
        "colab": {
          "base_uri": "https://localhost:8080/"
        },
        "id": "ijYJOzrj4aSQ",
        "outputId": "a1b26126-9401-4f24-b2c4-bb1ee73e59c2"
      },
      "execution_count": 7,
      "outputs": [
        {
          "output_type": "stream",
          "name": "stdout",
          "text": [
            "['PYTHON', 'FUNCTIONS', 'TUTORIAL']\n",
            "[['First', 'Python'], ['Second', 'Functions'], ['Third', 'Tutorial']]\n"
          ]
        }
      ]
    },
    {
      "cell_type": "code",
      "source": [
        "# Python code to demonstrate the use of return statements\n",
        "# Defining a function with return statement\n",
        "def square( num ):\n",
        "    return num**2\n",
        "\n",
        "# Calling function and passing arguments.\n",
        "print( \"With return statement\" )\n",
        "print( square( 52 ) )\n",
        "\n",
        "# Defining a function without return statement\n",
        "def square( num ):\n",
        "     num**2\n",
        "\n",
        "# Calling function and passing arguments.\n",
        "print( \"Without return statement\" )\n",
        "print( square( 52 ) )"
      ],
      "metadata": {
        "colab": {
          "base_uri": "https://localhost:8080/"
        },
        "id": "jLHBGoOj4sLb",
        "outputId": "c72f19f8-2bd9-404d-df06-d9cc1abe0ffd"
      },
      "execution_count": 8,
      "outputs": [
        {
          "output_type": "stream",
          "name": "stdout",
          "text": [
            "With return statement\n",
            "2704\n",
            "Without return statement\n",
            "None\n"
          ]
        }
      ]
    },
    {
      "cell_type": "code",
      "source": [],
      "metadata": {
        "id": "CjfZ5PAk4vPz"
      },
      "execution_count": null,
      "outputs": []
    }
  ]
}