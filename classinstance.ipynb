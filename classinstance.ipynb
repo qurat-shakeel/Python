{
  "nbformat": 4,
  "nbformat_minor": 0,
  "metadata": {
    "colab": {
      "provenance": []
    },
    "kernelspec": {
      "name": "python3",
      "display_name": "Python 3"
    },
    "language_info": {
      "name": "python"
    }
  },
  "cells": [
    {
      "cell_type": "code",
      "execution_count": null,
      "metadata": {
        "id": "u-ty2mh-Mp2-"
      },
      "outputs": [],
      "source": [
        "class employee:\n",
        "  companyname = \"Apple\"\n",
        "  noofemp = 0\n",
        "  def __init__(self, name):\n",
        "    self.name = name\n",
        "    self.raise_amount = 2\n",
        "    employee.noofemp +=1\n",
        "  def showdetails(self):\n",
        "    print(f\"the name of the employee is {self.name} and the raise amount in {self.noofemp} sized {self.companyname}  is {self.raise_amount}\")\n",
        "#employee.showdetails(emp1)\n",
        "emp1 = employee(\"Harry\")\n",
        "emp1.raise_amount = 0.03\n",
        "emp1.companyname = \"apple India\"\n",
        "emp1.showdetails()\n",
        "employee.companyname = \"google\"\n",
        "print(employee.companyname)\n",
        "# emp2.companyname = \"nestle\"\n",
        "#emp2 = employee(\"Rohan\")\n",
        "# emp2.showdetails()"
      ]
    }
  ]
}