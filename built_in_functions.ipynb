{
  "nbformat": 4,
  "nbformat_minor": 0,
  "metadata": {
    "colab": {
      "provenance": []
    },
    "kernelspec": {
      "name": "python3",
      "display_name": "Python 3"
    },
    "language_info": {
      "name": "python"
    }
  },
  "cells": [
    {
      "cell_type": "code",
      "execution_count": 1,
      "metadata": {
        "colab": {
          "base_uri": "https://localhost:8080/"
        },
        "id": "9QpjShxJgbPf",
        "outputId": "9f96bd1b-d039-4afd-ffd7-8647988639a5"
      },
      "outputs": [
        {
          "output_type": "stream",
          "name": "stdout",
          "text": [
            "['__add__', '__class__', '__class_getitem__', '__contains__', '__delattr__', '__delitem__', '__dir__', '__doc__', '__eq__', '__format__', '__ge__', '__getattribute__', '__getitem__', '__gt__', '__hash__', '__iadd__', '__imul__', '__init__', '__init_subclass__', '__iter__', '__le__', '__len__', '__lt__', '__mul__', '__ne__', '__new__', '__reduce__', '__reduce_ex__', '__repr__', '__reversed__', '__rmul__', '__setattr__', '__setitem__', '__sizeof__', '__str__', '__subclasshook__', 'append', 'clear', 'copy', 'count', 'extend', 'index', 'insert', 'pop', 'remove', 'reverse', 'sort']\n"
          ]
        }
      ],
      "source": [
        "x =[1,2,3]    # list\n",
        "print(dir(x))   # prints all methods and attributes"
      ]
    },
    {
      "cell_type": "code",
      "source": [
        "print(x.__add__)"
      ],
      "metadata": {
        "colab": {
          "base_uri": "https://localhost:8080/"
        },
        "id": "NDVqAZEogyeh",
        "outputId": "7152348a-3fbd-48e7-c6d4-ecfc447b57f6"
      },
      "execution_count": 4,
      "outputs": [
        {
          "output_type": "stream",
          "name": "stdout",
          "text": [
            "<method-wrapper '__add__' of list object at 0x7a37a741e0c0>\n"
          ]
        }
      ]
    },
    {
      "cell_type": "code",
      "source": [
        "print(dir(x.__add__))"
      ],
      "metadata": {
        "colab": {
          "base_uri": "https://localhost:8080/"
        },
        "id": "ZF0c3CDbhVgh",
        "outputId": "2cbd83a7-930a-4823-f1bc-38c405ad9d77"
      },
      "execution_count": 5,
      "outputs": [
        {
          "output_type": "stream",
          "name": "stdout",
          "text": [
            "['__call__', '__class__', '__delattr__', '__dir__', '__doc__', '__eq__', '__format__', '__ge__', '__getattribute__', '__gt__', '__hash__', '__init__', '__init_subclass__', '__le__', '__lt__', '__name__', '__ne__', '__new__', '__objclass__', '__qualname__', '__reduce__', '__reduce_ex__', '__repr__', '__self__', '__setattr__', '__sizeof__', '__str__', '__subclasshook__', '__text_signature__']\n"
          ]
        }
      ]
    },
    {
      "cell_type": "code",
      "source": [],
      "metadata": {
        "id": "PnacX2LgiBy9"
      },
      "execution_count": null,
      "outputs": []
    },
    {
      "cell_type": "code",
      "source": [
        "x = (1,2,3)  # tuple\n",
        "print(dir(x))\n",
        "print(x.__class__)\n",
        "print(x.__add__)\n",
        "print(x.__doc__)\n",
        "print(x.__eq__)\n",
        "print(x.__ge__)\n",
        "print(x.__lt__)"
      ],
      "metadata": {
        "colab": {
          "base_uri": "https://localhost:8080/"
        },
        "id": "u8GTJOTCheTo",
        "outputId": "44a8f581-54dc-45df-800b-6b08a6e165dc"
      },
      "execution_count": 12,
      "outputs": [
        {
          "output_type": "stream",
          "name": "stdout",
          "text": [
            "['__add__', '__class__', '__class_getitem__', '__contains__', '__delattr__', '__dir__', '__doc__', '__eq__', '__format__', '__ge__', '__getattribute__', '__getitem__', '__getnewargs__', '__gt__', '__hash__', '__init__', '__init_subclass__', '__iter__', '__le__', '__len__', '__lt__', '__mul__', '__ne__', '__new__', '__reduce__', '__reduce_ex__', '__repr__', '__rmul__', '__setattr__', '__sizeof__', '__str__', '__subclasshook__', 'count', 'index']\n",
            "<class 'tuple'>\n",
            "<method-wrapper '__add__' of tuple object at 0x7a3782c06a00>\n",
            "Built-in immutable sequence.\n",
            "\n",
            "If no argument is given, the constructor returns an empty tuple.\n",
            "If iterable is specified the tuple is initialized from iterable's items.\n",
            "\n",
            "If the argument is a tuple, the return value is the same object.\n",
            "<method-wrapper '__eq__' of tuple object at 0x7a3782c06a00>\n",
            "<method-wrapper '__ge__' of tuple object at 0x7a3782c06a00>\n",
            "<method-wrapper '__lt__' of tuple object at 0x7a3782c06a00>\n"
          ]
        }
      ]
    },
    {
      "cell_type": "code",
      "source": [
        "class person:\n",
        "  def __init__(self,name,age):\n",
        "    self.name = name\n",
        "    self.age = age\n",
        "\n",
        "p = person(\"aisha\",17)\n",
        "p.__dict__"
      ],
      "metadata": {
        "colab": {
          "base_uri": "https://localhost:8080/"
        },
        "id": "6e3-Ca3Fi0Lj",
        "outputId": "db9d4ca3-3064-42b9-d399-c03809ec26ff"
      },
      "execution_count": 15,
      "outputs": [
        {
          "output_type": "execute_result",
          "data": {
            "text/plain": [
              "{'name': 'aisha', 'age': 17, 'version': 1}"
            ]
          },
          "metadata": {},
          "execution_count": 15
        }
      ]
    },
    {
      "cell_type": "code",
      "source": [
        "class person:\n",
        "  def __init__(self,name,age):\n",
        "    self.name = name\n",
        "    self.age = age\n",
        "    self.version = 1\n",
        "p = person(\"aisha\",17)\n",
        "print(p.__dict__)"
      ],
      "metadata": {
        "colab": {
          "base_uri": "https://localhost:8080/"
        },
        "id": "Ar8MCOpVjjKa",
        "outputId": "a77b3bf1-ed53-466b-c015-c517c6702b9b"
      },
      "execution_count": 16,
      "outputs": [
        {
          "output_type": "stream",
          "name": "stdout",
          "text": [
            "{'name': 'aisha', 'age': 17, 'version': 1}\n"
          ]
        }
      ]
    },
    {
      "cell_type": "code",
      "source": [
        "# help method() --- used to get help documentation from the object including the decription of attributes and its methods\n",
        "print(help(person))"
      ],
      "metadata": {
        "colab": {
          "base_uri": "https://localhost:8080/"
        },
        "id": "Jv-7Hnnnj8tJ",
        "outputId": "619fe8eb-9bf6-40ae-f7f1-6e838a00197e"
      },
      "execution_count": 17,
      "outputs": [
        {
          "output_type": "stream",
          "name": "stdout",
          "text": [
            "Help on class person in module __main__:\n",
            "\n",
            "class person(builtins.object)\n",
            " |  person(name, age)\n",
            " |  \n",
            " |  Methods defined here:\n",
            " |  \n",
            " |  __init__(self, name, age)\n",
            " |      Initialize self.  See help(type(self)) for accurate signature.\n",
            " |  \n",
            " |  ----------------------------------------------------------------------\n",
            " |  Data descriptors defined here:\n",
            " |  \n",
            " |  __dict__\n",
            " |      dictionary for instance variables (if defined)\n",
            " |  \n",
            " |  __weakref__\n",
            " |      list of weak references to the object (if defined)\n",
            "\n",
            "None\n"
          ]
        }
      ]
    }
  ]
}