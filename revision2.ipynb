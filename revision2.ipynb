{
  "nbformat": 4,
  "nbformat_minor": 0,
  "metadata": {
    "colab": {
      "provenance": []
    },
    "kernelspec": {
      "name": "python3",
      "display_name": "Python 3"
    },
    "language_info": {
      "name": "python"
    }
  },
  "cells": [
    {
      "cell_type": "code",
      "execution_count": 4,
      "metadata": {
        "colab": {
          "base_uri": "https://localhost:8080/"
        },
        "id": "9tqjbx1l0Kjq",
        "outputId": "65766ea4-828a-4933-8618-206325402dac"
      },
      "outputs": [
        {
          "output_type": "stream",
          "name": "stdout",
          "text": [
            "cat\n"
          ]
        }
      ],
      "source": [
        "'''multi line comments\n",
        "line2\n",
        "line3\n",
        "'''\n",
        "print(\"cat\")"
      ]
    },
    {
      "cell_type": "code",
      "source": [
        "cat = \"a\"\n",
        "Cat = \"z\"\n",
        "print(cat)\n",
        "print(Cat)"
      ],
      "metadata": {
        "colab": {
          "base_uri": "https://localhost:8080/"
        },
        "id": "Q89s262SRSQo",
        "outputId": "fe8f6b64-f538-4f88-a223-024cd2b6cb9f"
      },
      "execution_count": 10,
      "outputs": [
        {
          "output_type": "stream",
          "name": "stdout",
          "text": [
            "a\n",
            "z\n"
          ]
        }
      ]
    },
    {
      "cell_type": "code",
      "source": [
        "'''datatypes\n",
        "integer type: -10....10\n",
        "float type: 10.3,2.7, -3.8\n",
        "string type: \"cat\", \"dog\"...\n",
        "boolean type: true,false\n",
        "'''\n",
        "x = 1\n",
        "a= 2.3\n",
        "y = 'qalb'\n",
        "z = False\n",
        "print(type(x))\n",
        "print(type(a))\n",
        "print(type(y))\n",
        "print(type(z))"
      ],
      "metadata": {
        "colab": {
          "base_uri": "https://localhost:8080/"
        },
        "id": "FpnX78r5SAtV",
        "outputId": "9c4a2379-ed26-4975-c21e-1d0d492b9e68"
      },
      "execution_count": 25,
      "outputs": [
        {
          "output_type": "stream",
          "name": "stdout",
          "text": [
            "<class 'int'>\n",
            "<class 'float'>\n",
            "<class 'str'>\n",
            "<class 'bool'>\n"
          ]
        }
      ]
    },
    {
      "cell_type": "code",
      "source": [
        "'''typecasting: way of converting one datatype to other datatype\n",
        "'''\n",
        "x = 6.8\n",
        "print(type(x))"
      ],
      "metadata": {
        "colab": {
          "base_uri": "https://localhost:8080/"
        },
        "id": "kw5Id7yaYF1m",
        "outputId": "d74c551d-aae0-43fb-8cc5-8a9d91bb8d99"
      },
      "execution_count": 26,
      "outputs": [
        {
          "output_type": "stream",
          "name": "stdout",
          "text": [
            "<class 'float'>\n"
          ]
        }
      ]
    },
    {
      "cell_type": "code",
      "source": [
        " x = int(x)\n",
        " print(type(x))"
      ],
      "metadata": {
        "colab": {
          "base_uri": "https://localhost:8080/"
        },
        "id": "SJu6RDkvYHgU",
        "outputId": "46175aa2-5349-4c89-c7ba-f3338cab6ec7"
      },
      "execution_count": 27,
      "outputs": [
        {
          "output_type": "stream",
          "name": "stdout",
          "text": [
            "<class 'int'>\n"
          ]
        }
      ]
    }
  ]
}