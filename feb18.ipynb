{
  "nbformat": 4,
  "nbformat_minor": 0,
  "metadata": {
    "colab": {
      "provenance": []
    },
    "kernelspec": {
      "name": "python3",
      "display_name": "Python 3"
    },
    "language_info": {
      "name": "python"
    }
  },
  "cells": [
    {
      "cell_type": "code",
      "execution_count": 2,
      "metadata": {
        "colab": {
          "base_uri": "https://localhost:8080/"
        },
        "id": "j3eEFzTcNcKx",
        "outputId": "36d592b0-ffbe-497b-f01c-76ca8165460c"
      },
      "outputs": [
        {
          "output_type": "stream",
          "name": "stdout",
          "text": [
            "Sin(0) = 0.0\n",
            "Sin(30) = 0.49999999999999994\n",
            "Sin(45) = 0.7071067811865475\n",
            "Sin(60) = 0.8660254037844386\n",
            "Sin(90) = 1.0\n"
          ]
        }
      ],
      "source": [
        "import math\n",
        "\n",
        "print(\"Sin(0) =\", math.sin(0))\n",
        "print(\"Sin(30) =\", math.sin(math.pi/6))\n",
        "print(\"Sin(45) =\", math.sin(math.pi/4))\n",
        "print(\"Sin(60) =\", math.sin(math.pi/3))\n",
        "print(\"Sin(90) =\", math.sin(math.pi/2))"
      ]
    },
    {
      "cell_type": "code",
      "source": [
        "def add(a, b):\n",
        "    return (a+b)\n",
        "\n",
        "def sub(a, b):\n",
        "    return (a-b)\n",
        "\n",
        "def mul(a, b):\n",
        "    return (a*b)\n",
        "\n",
        "def div(a, b):\n",
        "    return (a/b)"
      ],
      "metadata": {
        "id": "2KaTfk-aN7dv"
      },
      "execution_count": 3,
      "outputs": []
    },
    {
      "cell_type": "code",
      "source": [
        "import math as m\n",
        "\n",
        "print(\"Square Root of 36 :\", m.sqrt(36))\n",
        "print(\"3 to the power of 4 :\", m.pow(3,4))"
      ],
      "metadata": {
        "colab": {
          "base_uri": "https://localhost:8080/"
        },
        "id": "mGQq9pjWOJ3-",
        "outputId": "918638ac-2cdc-4a3a-80bc-1405a9332463"
      },
      "execution_count": 6,
      "outputs": [
        {
          "output_type": "stream",
          "name": "stdout",
          "text": [
            "Square Root of 36 : 6.0\n",
            "3 to the power of 4 : 81.0\n"
          ]
        }
      ]
    },
    {
      "cell_type": "code",
      "source": [
        "from operator import mod\n",
        "import math\n",
        "\n",
        "lst1 = dir(math)\n",
        "print(lst1)"
      ],
      "metadata": {
        "colab": {
          "base_uri": "https://localhost:8080/"
        },
        "id": "VDhl5c1pPO8C",
        "outputId": "360c24ad-e56a-44f4-9a75-3d872248355a"
      },
      "execution_count": 8,
      "outputs": [
        {
          "output_type": "stream",
          "name": "stdout",
          "text": [
            "['__doc__', '__loader__', '__name__', '__package__', '__spec__', 'acos', 'acosh', 'asin', 'asinh', 'atan', 'atan2', 'atanh', 'ceil', 'comb', 'copysign', 'cos', 'cosh', 'degrees', 'dist', 'e', 'erf', 'erfc', 'exp', 'expm1', 'fabs', 'factorial', 'floor', 'fmod', 'frexp', 'fsum', 'gamma', 'gcd', 'hypot', 'inf', 'isclose', 'isfinite', 'isinf', 'isnan', 'isqrt', 'lcm', 'ldexp', 'lgamma', 'log', 'log10', 'log1p', 'log2', 'modf', 'nan', 'nextafter', 'perm', 'pi', 'pow', 'prod', 'radians', 'remainder', 'sin', 'sinh', 'sqrt', 'tan', 'tanh', 'tau', 'trunc', 'ulp']\n"
          ]
        }
      ]
    }
  ]
}