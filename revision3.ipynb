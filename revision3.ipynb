{
  "nbformat": 4,
  "nbformat_minor": 0,
  "metadata": {
    "colab": {
      "provenance": []
    },
    "kernelspec": {
      "name": "python3",
      "display_name": "Python 3"
    },
    "language_info": {
      "name": "python"
    }
  },
  "cells": [
    {
      "cell_type": "code",
      "execution_count": 2,
      "metadata": {
        "colab": {
          "base_uri": "https://localhost:8080/"
        },
        "id": "q3mjYVhNv5C_",
        "outputId": "4f82b4fc-5984-4863-e947-a7d958a126cb"
      },
      "outputs": [
        {
          "output_type": "stream",
          "name": "stdout",
          "text": [
            "50\n"
          ]
        }
      ],
      "source": [
        "## printing the value of a specific index\n",
        "classlist = [10,20,30,40,50,60,70]\n",
        "print(classlist[4])"
      ]
    },
    {
      "cell_type": "code",
      "source": [
        "len(classlist)"
      ],
      "metadata": {
        "colab": {
          "base_uri": "https://localhost:8080/"
        },
        "id": "4E87ZjEexMZD",
        "outputId": "5cc8e50a-7281-4b36-ee91-8b93eaebfb01"
      },
      "execution_count": 3,
      "outputs": [
        {
          "output_type": "execute_result",
          "data": {
            "text/plain": [
              "7"
            ]
          },
          "metadata": {},
          "execution_count": 3
        }
      ]
    },
    {
      "cell_type": "code",
      "source": [
        "classlist[5] =0"
      ],
      "metadata": {
        "id": "eCxWByVExXo8"
      },
      "execution_count": 4,
      "outputs": []
    },
    {
      "cell_type": "code",
      "source": [
        "# changing the elements of a list\n",
        "print(classlist)"
      ],
      "metadata": {
        "colab": {
          "base_uri": "https://localhost:8080/"
        },
        "id": "UheZb_dZxtQf",
        "outputId": "c73693c9-24b4-4e65-9cad-a0a0f7fa177c"
      },
      "execution_count": 6,
      "outputs": [
        {
          "output_type": "stream",
          "name": "stdout",
          "text": [
            "[10, 20, 30, 40, 50, 0, 70]\n"
          ]
        }
      ]
    },
    {
      "cell_type": "code",
      "source": [
        "'''range of values\n",
        "day 3 to day 6\n",
        "'''\n",
        "print(classlist[2:6])"
      ],
      "metadata": {
        "colab": {
          "base_uri": "https://localhost:8080/"
        },
        "id": "8jxD7pCwx5qO",
        "outputId": "bc6bc4b5-de54-463e-c794-6ec09dae7d6a"
      },
      "execution_count": 8,
      "outputs": [
        {
          "output_type": "stream",
          "name": "stdout",
          "text": [
            "[30, 40, 50, 0]\n"
          ]
        }
      ]
    },
    {
      "cell_type": "code",
      "source": [
        "# appending the elements to a list\n",
        "classlist.append(80)\n",
        "print(classlist)"
      ],
      "metadata": {
        "colab": {
          "base_uri": "https://localhost:8080/"
        },
        "id": "1kqh6E8Gy5hc",
        "outputId": "6c29684f-2c83-44a7-dba5-077f43f20ee8"
      },
      "execution_count": 12,
      "outputs": [
        {
          "output_type": "stream",
          "name": "stdout",
          "text": [
            "[10, 20, 30, 40, 50, 0, 70, 80, 80, 80]\n"
          ]
        }
      ]
    },
    {
      "cell_type": "code",
      "source": [
        "len(classlist)"
      ],
      "metadata": {
        "colab": {
          "base_uri": "https://localhost:8080/"
        },
        "id": "wcqaqWiJzTE0",
        "outputId": "b650872a-69f6-4d76-9d44-4330edcbbf86"
      },
      "execution_count": 13,
      "outputs": [
        {
          "output_type": "execute_result",
          "data": {
            "text/plain": [
              "10"
            ]
          },
          "metadata": {},
          "execution_count": 13
        }
      ]
    },
    {
      "cell_type": "code",
      "source": [
        "classlist.insert(3,0)\n",
        "print(classlist)"
      ],
      "metadata": {
        "colab": {
          "base_uri": "https://localhost:8080/"
        },
        "id": "r6Jh7012zfx6",
        "outputId": "a635199e-65e2-422f-ace6-ab4f233f34b9"
      },
      "execution_count": 14,
      "outputs": [
        {
          "output_type": "stream",
          "name": "stdout",
          "text": [
            "[10, 20, 30, 0, 40, 50, 0, 70, 80, 80, 80]\n"
          ]
        }
      ]
    },
    {
      "cell_type": "code",
      "source": [
        "classlist.remove(80)\n",
        "print(classlist)"
      ],
      "metadata": {
        "colab": {
          "base_uri": "https://localhost:8080/"
        },
        "id": "zqV6xhUg0Do_",
        "outputId": "8b326442-24ea-4273-e716-43d709a9c449"
      },
      "execution_count": 15,
      "outputs": [
        {
          "output_type": "stream",
          "name": "stdout",
          "text": [
            "[10, 20, 30, 0, 40, 50, 0, 70, 80, 80]\n"
          ]
        }
      ]
    },
    {
      "cell_type": "code",
      "source": [
        "classlist.pop(3)\n",
        "print(classlist)"
      ],
      "metadata": {
        "colab": {
          "base_uri": "https://localhost:8080/"
        },
        "id": "V7fnJqYB1Jrq",
        "outputId": "26094068-9835-46da-e823-6b3f4c403db4"
      },
      "execution_count": 16,
      "outputs": [
        {
          "output_type": "stream",
          "name": "stdout",
          "text": [
            "[10, 20, 30, 40, 50, 0, 70, 80, 80]\n"
          ]
        }
      ]
    },
    {
      "cell_type": "code",
      "source": [
        "classlist.pop()\n",
        "print(classlist)"
      ],
      "metadata": {
        "colab": {
          "base_uri": "https://localhost:8080/"
        },
        "id": "8BsJqHFa1RGy",
        "outputId": "2f985b32-7cd3-4bf1-f703-3f58078f4b35"
      },
      "execution_count": 18,
      "outputs": [
        {
          "output_type": "stream",
          "name": "stdout",
          "text": [
            "[10, 20, 30, 40, 50, 0, 70, 80]\n"
          ]
        }
      ]
    },
    {
      "cell_type": "code",
      "source": [
        "classlist.sort()\n",
        "print(classlist)"
      ],
      "metadata": {
        "colab": {
          "base_uri": "https://localhost:8080/"
        },
        "id": "GCjwzU0l1o3f",
        "outputId": "b3388e35-2ff9-4325-d8e2-fd792c9d171b"
      },
      "execution_count": 19,
      "outputs": [
        {
          "output_type": "stream",
          "name": "stdout",
          "text": [
            "[0, 10, 20, 30, 40, 50, 70, 80]\n"
          ]
        }
      ]
    },
    {
      "cell_type": "code",
      "source": [
        "classlist.sort(reverse = True)\n",
        "print(classlist)"
      ],
      "metadata": {
        "colab": {
          "base_uri": "https://localhost:8080/"
        },
        "id": "9xzWog4T1waY",
        "outputId": "baa029e3-d9b7-4edb-c721-be06123bb408"
      },
      "execution_count": 20,
      "outputs": [
        {
          "output_type": "stream",
          "name": "stdout",
          "text": [
            "[80, 70, 50, 40, 30, 20, 10, 0]\n"
          ]
        }
      ]
    }
  ]
}