{
  "nbformat": 4,
  "nbformat_minor": 0,
  "metadata": {
    "colab": {
      "provenance": []
    },
    "kernelspec": {
      "name": "python3",
      "display_name": "Python 3"
    },
    "language_info": {
      "name": "python"
    }
  },
  "cells": [
    {
      "cell_type": "code",
      "execution_count": 2,
      "metadata": {
        "colab": {
          "base_uri": "https://localhost:8080/"
        },
        "id": "N1JaghseTAV8",
        "outputId": "9020cb4d-f6cf-44f9-ed2e-2c4f540177d5"
      },
      "outputs": [
        {
          "output_type": "stream",
          "name": "stdout",
          "text": [
            "Hello, Qurat Shakeel\n"
          ]
        }
      ],
      "source": [
        "def name(fname, lna:\n",
        "    print(\"Hello,\", fname, lname)\n",
        "\n",
        "name(\"Qurat\", \"Shakeel\")"
      ]
    },
    {
      "cell_type": "code",
      "source": [
        "def name(fname, mname = \"Qurat\", lname = \"Shakeel\"):\n",
        "    print(\"Hello,\", fname, mname, lname)\n",
        "\n",
        "name(\"I am\")"
      ],
      "metadata": {
        "colab": {
          "base_uri": "https://localhost:8080/"
        },
        "id": "t_QlZhMGTx5F",
        "outputId": "e04ba5b1-ac8c-4a2c-ba2f-4f3fb3555e4f"
      },
      "execution_count": 5,
      "outputs": [
        {
          "output_type": "stream",
          "name": "stdout",
          "text": [
            "Hello, I am Qurat Shakeel\n"
          ]
        }
      ]
    },
    {
      "cell_type": "code",
      "source": [
        "def name(one, two, three):\n",
        "    print(\"Hello,\", one, two, three)\n",
        "\n",
        "name(two = \"Insha\", three = \"Aisha\", one = \"Qurat\")"
      ],
      "metadata": {
        "colab": {
          "base_uri": "https://localhost:8080/"
        },
        "id": "z1-tdP77UM7L",
        "outputId": "8e06c618-34b1-42b9-c031-35464ee9688d"
      },
      "execution_count": 7,
      "outputs": [
        {
          "output_type": "stream",
          "name": "stdout",
          "text": [
            "Hello, Qurat Insha Aisha\n"
          ]
        }
      ]
    },
    {
      "cell_type": "code",
      "source": [
        "def name(one, two, three):\n",
        "    print(\"Hello,\", one, two, three)\n",
        "\n",
        "name(\"Qurat\", \"Insha\", \"Aisha\")"
      ],
      "metadata": {
        "colab": {
          "base_uri": "https://localhost:8080/"
        },
        "id": "vkztKY-IU-PQ",
        "outputId": "d3141568-43e0-42fa-e46e-b8f479ede3f4"
      },
      "execution_count": 10,
      "outputs": [
        {
          "output_type": "stream",
          "name": "stdout",
          "text": [
            "Hello, Qurat Insha Aisha\n"
          ]
        }
      ]
    },
    {
      "cell_type": "code",
      "source": [
        "def name(*name):\n",
        "    print(\"Hello,\", name[0], name[1], name[2])\n",
        "\n",
        "name(\"Qurat\", \"Insha\", \"Aisha\")"
      ],
      "metadata": {
        "colab": {
          "base_uri": "https://localhost:8080/"
        },
        "id": "nvxQ5_LvVWtT",
        "outputId": "bfa2d79b-e7ec-4c7e-b63d-c58057085763"
      },
      "execution_count": 11,
      "outputs": [
        {
          "output_type": "stream",
          "name": "stdout",
          "text": [
            "Hello, Qurat Insha Aisha\n"
          ]
        }
      ]
    },
    {
      "cell_type": "code",
      "source": [
        "def name(**name):\n",
        "    print(\"Hello,\", name[\"one\"], name[\"two\"], name[\"three\"])\n",
        "\n",
        "name(two = \"Insha\", three = \"Aisha\", one = \"Qurat\")"
      ],
      "metadata": {
        "colab": {
          "base_uri": "https://localhost:8080/"
        },
        "id": "ywU0_vJSVi2P",
        "outputId": "da5b38df-2dbf-4165-a575-e36fb412ab87"
      },
      "execution_count": 13,
      "outputs": [
        {
          "output_type": "stream",
          "name": "stdout",
          "text": [
            "Hello, Qurat Insha Aisha\n"
          ]
        }
      ]
    },
    {
      "cell_type": "code",
      "source": [
        "def name(fname, mname, lname):\n",
        "    return \"Hello, \" + fname + \" \" + mname + \" \" + lname\n",
        "\n",
        "print(name(\"Qurat\", \"Insha\", \"Aisha\"))"
      ],
      "metadata": {
        "colab": {
          "base_uri": "https://localhost:8080/"
        },
        "id": "RWkifwOHWN4B",
        "outputId": "f9625135-4eb6-4697-f210-fc97cc9e383a"
      },
      "execution_count": 16,
      "outputs": [
        {
          "output_type": "stream",
          "name": "stdout",
          "text": [
            "Hello, Qurat Insha Aisha\n"
          ]
        }
      ]
    },
    {
      "cell_type": "code",
      "source": [
        "def factorial(num):\n",
        "    if (num == 1 or num == 0):\n",
        "        return 1\n",
        "    else:\n",
        "        return (num * factorial(num - 1))\n",
        "\n",
        "# Driver Code\n",
        "num = 10;\n",
        "print(\"number: \",num)\n",
        "print(\"Factorial: \",factorial(num))"
      ],
      "metadata": {
        "colab": {
          "base_uri": "https://localhost:8080/"
        },
        "id": "XeLnd2ZeWaqv",
        "outputId": "ddabcfc3-dd9d-487c-8f36-ee859e53c8cf"
      },
      "execution_count": 18,
      "outputs": [
        {
          "output_type": "stream",
          "name": "stdout",
          "text": [
            "number:  10\n",
            "Factorial:  3628800\n"
          ]
        }
      ]
    }
  ]
}