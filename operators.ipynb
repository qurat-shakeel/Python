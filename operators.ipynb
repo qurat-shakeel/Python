{
  "nbformat": 4,
  "nbformat_minor": 0,
  "metadata": {
    "colab": {
      "provenance": []
    },
    "kernelspec": {
      "name": "python3",
      "display_name": "Python 3"
    },
    "language_info": {
      "name": "python"
    }
  },
  "cells": [
    {
      "cell_type": "code",
      "execution_count": 7,
      "metadata": {
        "colab": {
          "base_uri": "https://localhost:8080/"
        },
        "id": "BwaLVv-Vz5l9",
        "outputId": "aa4f67c6-c236-4a36-870c-4b7786726df2"
      },
      "outputs": [
        {
          "output_type": "stream",
          "name": "stdout",
          "text": [
            "5\n",
            "-1\n"
          ]
        }
      ],
      "source": [
        "#addition and subtraction\n",
        "a = 2\n",
        "b = 3\n",
        "print (a+b)\n",
        "print(a-b)\n"
      ]
    },
    {
      "cell_type": "code",
      "source": [
        "\n",
        "# multiplication and division\n",
        "a=17\n",
        "b=8\n",
        "c=a*b\n",
        "print(c)\n",
        "print(type(c))\n",
        "d=a/b\n",
        "print(d)\n",
        "print(type(d))\n",
        "e=a%b   #prints remainder\n",
        "print(e)\n",
        "print(type(e))"
      ],
      "metadata": {
        "colab": {
          "base_uri": "https://localhost:8080/"
        },
        "id": "5UNGsVAT0870",
        "outputId": "bebe0613-158f-4a95-ebd3-94d914232ba3"
      },
      "execution_count": 13,
      "outputs": [
        {
          "output_type": "stream",
          "name": "stdout",
          "text": [
            "136\n",
            "<class 'int'>\n",
            "2.125\n",
            "<class 'float'>\n",
            "1\n",
            "<class 'int'>\n"
          ]
        }
      ]
    },
    {
      "cell_type": "code",
      "source": [
        "# exponentiation and floor division\n",
        "x = 4\n",
        "y = 2\n",
        "z = x**y\n",
        "print (z)\n",
        "print(type(z))\n",
        "\n",
        "x = 15.5\n",
        "y = 2.5\n",
        "z = x//y  # floor division rounds the result down to the nearest whole number\n",
        "print(z)\n",
        "print(type(z))"
      ],
      "metadata": {
        "colab": {
          "base_uri": "https://localhost:8080/"
        },
        "id": "G2vmvUIJ1_4K",
        "outputId": "d92dfc8f-1d81-4209-c1fb-15bd43e6bd10"
      },
      "execution_count": 23,
      "outputs": [
        {
          "output_type": "stream",
          "name": "stdout",
          "text": [
            "16\n",
            "<class 'int'>\n",
            "6.0\n",
            "<class 'float'>\n"
          ]
        }
      ]
    },
    {
      "cell_type": "code",
      "source": [
        "# assignment operators\n",
        "x = 10\n",
        "print(x)\n",
        "y = x+3\n",
        "print(y)\n",
        "z = x-2\n",
        "print(z)\n",
        "a = x*2      #multiplication\n",
        "print(a)\n",
        "b = x%3     #modulus gives remainder\n",
        "print(b)\n",
        "c = x//2     # floor division\n",
        "print(c)\n",
        "d = x**2      #exponentiation\n",
        "print(d)"
      ],
      "metadata": {
        "colab": {
          "base_uri": "https://localhost:8080/"
        },
        "id": "onZ_a2r33gIk",
        "outputId": "a95ea310-3029-4af3-8320-2d8f6728d5e6"
      },
      "execution_count": 34,
      "outputs": [
        {
          "output_type": "stream",
          "name": "stdout",
          "text": [
            "10\n",
            "13\n",
            "8\n",
            "20\n",
            "1\n",
            "5\n",
            "100\n"
          ]
        }
      ]
    },
    {
      "cell_type": "code",
      "source": [
        "# if  statement\n",
        "i = 10\n",
        "if (i>2):\n",
        " print(\"this is if block\")               # indentation is very important here"
      ],
      "metadata": {
        "colab": {
          "base_uri": "https://localhost:8080/"
        },
        "id": "LG7_YMrs3YkS",
        "outputId": "3fa79f61-c6f4-44f4-e0c3-202123abf894"
      },
      "execution_count": 40,
      "outputs": [
        {
          "output_type": "stream",
          "name": "stdout",
          "text": [
            "this is if block\n"
          ]
        }
      ]
    },
    {
      "cell_type": "code",
      "source": [],
      "metadata": {
        "id": "CCHUX0B-7gll"
      },
      "execution_count": null,
      "outputs": []
    },
    {
      "cell_type": "code",
      "source": [
        "# if else statment\n",
        "i = 40\n",
        "if(i%2==0):\n",
        " print(\"i is even number\")\n",
        "else:\n",
        "  print(\"i is odd number\")\n",
        ""
      ],
      "metadata": {
        "colab": {
          "base_uri": "https://localhost:8080/"
        },
        "id": "uCtAFQX_6-fa",
        "outputId": "29431243-10db-4f2e-8f0d-8098410f1027"
      },
      "execution_count": 41,
      "outputs": [
        {
          "output_type": "stream",
          "name": "stdout",
          "text": [
            "i is even number\n"
          ]
        }
      ]
    },
    {
      "cell_type": "code",
      "source": [
        "#elif\n",
        "i = 66\n",
        "if(i>=80) and (i<100):\n",
        " print(\"grade\" ,\"A\")\n",
        "elif(i>=70) and (i<80):\n",
        " print(\"Grade\",\"B\")\n",
        "elif(i>=60) and (i<70):\n",
        " print(\"Grade\",\"C\")\n",
        "else:\n",
        "  print(\"Fail\")"
      ],
      "metadata": {
        "colab": {
          "base_uri": "https://localhost:8080/"
        },
        "id": "ZcCYHNnw7pUl",
        "outputId": "196a4b44-d9fc-4acb-876e-759c4a732a75"
      },
      "execution_count": 53,
      "outputs": [
        {
          "output_type": "stream",
          "name": "stdout",
          "text": [
            "Grade C\n"
          ]
        }
      ]
    },
    {
      "cell_type": "code",
      "source": [
        "#membership operator   ---- allows to check the presence or absence of substring within a given string\n",
        "fruits = [\"apple\",\"banana\",\"orange\",\"cherry\"]\n",
        "if \"cherry\" in fruits:\n",
        "  print(\"Yes,Cherry is a fruit\")\n",
        "else:\n",
        "  print(\"No, Cherry is not a fruit\")"
      ],
      "metadata": {
        "colab": {
          "base_uri": "https://localhost:8080/"
        },
        "id": "x-IkjQBE721e",
        "outputId": "d1474d19-8c96-47a6-f53f-34477b9a8945"
      },
      "execution_count": 55,
      "outputs": [
        {
          "output_type": "stream",
          "name": "stdout",
          "text": [
            "Yes,Cherry is a fruit\n"
          ]
        }
      ]
    },
    {
      "cell_type": "code",
      "source": [
        "#identity operator   --- allows to check if two variables refrences  the same object in memory\n",
        "x = [\"apple\",\"banana\",\"orange\",\"cherry\"]\n",
        "y = [\"peas\",\"potato\",\"spinach\",\"raddish\"]\n",
        "z = x\n",
        "print(z is x)\n",
        "print(z is y)\n",
        ""
      ],
      "metadata": {
        "colab": {
          "base_uri": "https://localhost:8080/"
        },
        "id": "QkGg475aBrK5",
        "outputId": "48583f02-d42c-4ded-8626-7d54c354313f"
      },
      "execution_count": 61,
      "outputs": [
        {
          "output_type": "stream",
          "name": "stdout",
          "text": [
            "True\n",
            "False\n"
          ]
        }
      ]
    }
  ]
}