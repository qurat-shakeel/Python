{
  "nbformat": 4,
  "nbformat_minor": 0,
  "metadata": {
    "colab": {
      "provenance": []
    },
    "kernelspec": {
      "name": "python3",
      "display_name": "Python 3"
    },
    "language_info": {
      "name": "python"
    }
  },
  "cells": [
    {
      "cell_type": "code",
      "execution_count": 3,
      "metadata": {
        "colab": {
          "base_uri": "https://localhost:8080/"
        },
        "id": "CLitxo1BmOxF",
        "outputId": "5decc3f3-cd6b-4348-c483-076c2d89a67a"
      },
      "outputs": [
        {
          "output_type": "stream",
          "name": "stdout",
          "text": [
            "False\n",
            "False\n"
          ]
        }
      ],
      "source": [
        "a = 4\n",
        "b = \"4\"\n",
        "print(a is b) #exact location of obj in memory\n",
        "print(a == b)"
      ]
    },
    {
      "cell_type": "code",
      "source": [
        "a = [2,3,4]\n",
        "b = [2,3,4]\n",
        "print(a is b) #exact location of obj in memory\n",
        "print(a == b)"
      ],
      "metadata": {
        "colab": {
          "base_uri": "https://localhost:8080/"
        },
        "id": "TVpwWF3ommhq",
        "outputId": "ceadade5-033f-462d-89be-66686c4bfe84"
      },
      "execution_count": 4,
      "outputs": [
        {
          "output_type": "stream",
          "name": "stdout",
          "text": [
            "False\n",
            "True\n"
          ]
        }
      ]
    },
    {
      "cell_type": "code",
      "source": [
        "a = (1,2)\n",
        "b = (1,2)\n",
        "print(a is b) #exact location of obj in memory\n",
        "print(a == b)"
      ],
      "metadata": {
        "colab": {
          "base_uri": "https://localhost:8080/"
        },
        "id": "7zEu72HSnWM2",
        "outputId": "2d3dc8eb-4127-474b-f295-ddcab5882d7e"
      },
      "execution_count": 5,
      "outputs": [
        {
          "output_type": "stream",
          "name": "stdout",
          "text": [
            "False\n",
            "True\n"
          ]
        }
      ]
    },
    {
      "cell_type": "code",
      "source": [
        "a = \"harry\"\n",
        "b = \"harry\"\n",
        "print(a is b) #exact location of obj in memory\n",
        "print(a == b)"
      ],
      "metadata": {
        "colab": {
          "base_uri": "https://localhost:8080/"
        },
        "id": "Lc-wucFknofK",
        "outputId": "ecb03a88-86b2-4168-f0db-ef1681e3d18d"
      },
      "execution_count": 6,
      "outputs": [
        {
          "output_type": "stream",
          "name": "stdout",
          "text": [
            "True\n",
            "True\n"
          ]
        }
      ]
    },
    {
      "cell_type": "code",
      "source": [
        "a = None\n",
        "b = None\n",
        "print(a is b) #exact location of obj in memory\n",
        "print(a == b)"
      ],
      "metadata": {
        "colab": {
          "base_uri": "https://localhost:8080/"
        },
        "id": "CAmfcg3enttM",
        "outputId": "91293e41-2687-41a9-b743-35787d476c23"
      },
      "execution_count": 7,
      "outputs": [
        {
          "output_type": "stream",
          "name": "stdout",
          "text": [
            "True\n",
            "True\n"
          ]
        }
      ]
    },
    {
      "cell_type": "code",
      "source": [
        "a =\n",
        "b =\n",
        "print(a is b) #exact location of obj in memory\n",
        "print(a == b)"
      ],
      "metadata": {
        "id": "u1rdv_4gnW4x"
      },
      "execution_count": null,
      "outputs": []
    }
  ]
}