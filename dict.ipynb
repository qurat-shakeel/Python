{
  "nbformat": 4,
  "nbformat_minor": 0,
  "metadata": {
    "colab": {
      "provenance": []
    },
    "kernelspec": {
      "name": "python3",
      "display_name": "Python 3"
    },
    "language_info": {
      "name": "python"
    }
  },
  "cells": [
    {
      "cell_type": "code",
      "execution_count": null,
      "metadata": {
        "colab": {
          "base_uri": "https://localhost:8080/"
        },
        "id": "mQxxyE0vKqHO",
        "outputId": "6536a0be-ffa5-4921-dd8d-304c610f2e60"
      },
      "outputs": [
        {
          "output_type": "stream",
          "name": "stdout",
          "text": [
            "{'name': 'Karan', 'age': 19, 'eligible': True}\n"
          ]
        }
      ],
      "source": [
        "info = {'name':'Karan', 'age':19, 'eligible':True}\n",
        "print(info)"
      ]
    },
    {
      "cell_type": "code",
      "source": [
        "info = {'name':'Karan', 'age':19, 'eligible':True}\n",
        "print(info['name'])\n",
        "print(info.get('eligible'))"
      ],
      "metadata": {
        "colab": {
          "base_uri": "https://localhost:8080/"
        },
        "id": "bFn8D-PULELR",
        "outputId": "c30180b8-bed3-42db-cd88-e495452e7e9e"
      },
      "execution_count": null,
      "outputs": [
        {
          "output_type": "stream",
          "name": "stdout",
          "text": [
            "Karan\n",
            "True\n"
          ]
        }
      ]
    },
    {
      "cell_type": "code",
      "source": [
        "# print all the values using values mmethod\n",
        "info = {'name':'Karan', 'age':19, 'eligible':True}\n",
        "print(info.values())"
      ],
      "metadata": {
        "colab": {
          "base_uri": "https://localhost:8080/"
        },
        "id": "MP1ODjXwLOsU",
        "outputId": "2a558b2d-b66c-4e82-b4f2-4c98bce9dada"
      },
      "execution_count": null,
      "outputs": [
        {
          "output_type": "stream",
          "name": "stdout",
          "text": [
            "dict_values(['Karan', 19, True])\n"
          ]
        }
      ]
    },
    {
      "cell_type": "code",
      "source": [
        "# print all the key-value pairs in the dictionary using items() method.\n",
        "info = {'name':'Karan', 'age':19, 'eligible':True}\n",
        "print(info.items())"
      ],
      "metadata": {
        "colab": {
          "base_uri": "https://localhost:8080/"
        },
        "id": "5aJw4fgKLhYb",
        "outputId": "ce9cb106-87b3-4d3f-bf85-cdca9c372129"
      },
      "execution_count": null,
      "outputs": [
        {
          "output_type": "stream",
          "name": "stdout",
          "text": [
            "dict_items([('name', 'Karan'), ('age', 19), ('eligible', True)])\n"
          ]
        }
      ]
    },
    {
      "cell_type": "code",
      "source": [
        "#  to add items to a dictionary.\n",
        "info = {'name':'Karan', 'age':19, 'eligible':True}\n",
        "print(info)\n",
        "info['DOB'] = 2001\n",
        "print(info)"
      ],
      "metadata": {
        "colab": {
          "base_uri": "https://localhost:8080/"
        },
        "id": "qQiahnuALteA",
        "outputId": "6e36824f-48d9-42b2-de82-78de296314df"
      },
      "execution_count": null,
      "outputs": [
        {
          "output_type": "stream",
          "name": "stdout",
          "text": [
            "{'name': 'Karan', 'age': 19, 'eligible': True}\n",
            "{'name': 'Karan', 'age': 19, 'eligible': True, 'DOB': 2001}\n"
          ]
        }
      ]
    },
    {
      "cell_type": "code",
      "source": [
        "#  update() method updates the value of the key provided to it if the item already exists in the dictionary, else it creates a new key-value pair.\n",
        "info = {'name':'Karan', 'age':19, 'eligible':True}\n",
        "print(info)\n",
        "info.update({'age':20})\n",
        "info.update({'DOB':2001})\n",
        "print(info)"
      ],
      "metadata": {
        "colab": {
          "base_uri": "https://localhost:8080/"
        },
        "id": "-IV7kwRmL8q5",
        "outputId": "a344ce21-9635-4bd7-f877-03e3567e55f9"
      },
      "execution_count": null,
      "outputs": [
        {
          "output_type": "stream",
          "name": "stdout",
          "text": [
            "{'name': 'Karan', 'age': 19, 'eligible': True}\n",
            "{'name': 'Karan', 'age': 20, 'eligible': True, 'DOB': 2001}\n"
          ]
        }
      ]
    },
    {
      "cell_type": "code",
      "source": [
        "# to remove items from dictionary.\n",
        "\n",
        "\n",
        "info = {'name':'Karan', 'age':19, 'eligible':True}\n",
        "info.clear()\n",
        "print(info)"
      ],
      "metadata": {
        "colab": {
          "base_uri": "https://localhost:8080/"
        },
        "id": "h7-qYaL4MPx_",
        "outputId": "8ea29708-1e9b-483c-ead7-517f8fb0fde6"
      },
      "execution_count": null,
      "outputs": [
        {
          "output_type": "stream",
          "name": "stdout",
          "text": [
            "{}\n"
          ]
        }
      ]
    },
    {
      "cell_type": "code",
      "source": [
        "info = {'name':'Karan', 'age':19, 'eligible':True}\n",
        "info.pop('eligible')\n",
        "print(info)"
      ],
      "metadata": {
        "colab": {
          "base_uri": "https://localhost:8080/"
        },
        "id": "pvHKzhhCMZH2",
        "outputId": "725ef8ee-84ae-4204-c83f-f6b7cdae19cc"
      },
      "execution_count": null,
      "outputs": [
        {
          "output_type": "stream",
          "name": "stdout",
          "text": [
            "{'name': 'Karan', 'age': 19}\n"
          ]
        }
      ]
    },
    {
      "cell_type": "code",
      "source": [
        "info = {'name':'Karan', 'age':19, 'eligible':True, 'DOB':2003}\n",
        "info.popitem()\n",
        "print(info)"
      ],
      "metadata": {
        "colab": {
          "base_uri": "https://localhost:8080/"
        },
        "id": "WXjv623rMes3",
        "outputId": "f663e369-fed7-4aab-d457-51ef6f05fb0c"
      },
      "execution_count": null,
      "outputs": [
        {
          "output_type": "stream",
          "name": "stdout",
          "text": [
            "{'name': 'Karan', 'age': 19, 'eligible': True}\n"
          ]
        }
      ]
    },
    {
      "cell_type": "code",
      "source": [
        "info = {'name':'Karan', 'age':19, 'eligible':True, 'DOB':2003}\n",
        "del info['age']\n",
        "print(info)"
      ],
      "metadata": {
        "colab": {
          "base_uri": "https://localhost:8080/"
        },
        "id": "DrjGkhA1MkpV",
        "outputId": "c698abe8-8b50-4d5d-e216-8380e0fd5490"
      },
      "execution_count": null,
      "outputs": [
        {
          "output_type": "stream",
          "name": "stdout",
          "text": [
            "{'name': 'Karan', 'eligible': True, 'DOB': 2003}\n"
          ]
        }
      ]
    },
    {
      "cell_type": "code",
      "source": [
        "info = {'name':'Karan', 'age':19, 'eligible':True, 'DOB':2003}\n",
        "del info\n",
        "print(info)"
      ],
      "metadata": {
        "colab": {
          "base_uri": "https://localhost:8080/",
          "height": 181
        },
        "id": "92qTBF_0Mo0i",
        "outputId": "f73fae0a-8819-47c3-bef9-eaa76d778832"
      },
      "execution_count": null,
      "outputs": [
        {
          "output_type": "error",
          "ename": "NameError",
          "evalue": "name 'info' is not defined",
          "traceback": [
            "\u001b[0;31m---------------------------------------------------------------------------\u001b[0m",
            "\u001b[0;31mNameError\u001b[0m                                 Traceback (most recent call last)",
            "\u001b[0;32m<ipython-input-12-641b72a08c1c>\u001b[0m in \u001b[0;36m<cell line: 3>\u001b[0;34m()\u001b[0m\n\u001b[1;32m      1\u001b[0m \u001b[0minfo\u001b[0m \u001b[0;34m=\u001b[0m \u001b[0;34m{\u001b[0m\u001b[0;34m'name'\u001b[0m\u001b[0;34m:\u001b[0m\u001b[0;34m'Karan'\u001b[0m\u001b[0;34m,\u001b[0m \u001b[0;34m'age'\u001b[0m\u001b[0;34m:\u001b[0m\u001b[0;36m19\u001b[0m\u001b[0;34m,\u001b[0m \u001b[0;34m'eligible'\u001b[0m\u001b[0;34m:\u001b[0m\u001b[0;32mTrue\u001b[0m\u001b[0;34m,\u001b[0m \u001b[0;34m'DOB'\u001b[0m\u001b[0;34m:\u001b[0m\u001b[0;36m2003\u001b[0m\u001b[0;34m}\u001b[0m\u001b[0;34m\u001b[0m\u001b[0;34m\u001b[0m\u001b[0m\n\u001b[1;32m      2\u001b[0m \u001b[0;32mdel\u001b[0m \u001b[0minfo\u001b[0m\u001b[0;34m\u001b[0m\u001b[0;34m\u001b[0m\u001b[0m\n\u001b[0;32m----> 3\u001b[0;31m \u001b[0mprint\u001b[0m\u001b[0;34m(\u001b[0m\u001b[0minfo\u001b[0m\u001b[0;34m)\u001b[0m\u001b[0;34m\u001b[0m\u001b[0;34m\u001b[0m\u001b[0m\n\u001b[0m",
            "\u001b[0;31mNameError\u001b[0m: name 'info' is not defined"
          ]
        }
      ]
    },
    {
      "cell_type": "code",
      "source": [
        "info = {'name':'Karan', 'age':19, 'eligible':True, 'DOB':2003}\n",
        "newDictionary = info.copy()\n",
        "print(newDictionary)"
      ],
      "metadata": {
        "colab": {
          "base_uri": "https://localhost:8080/"
        },
        "id": "hcEu8uwSMxTV",
        "outputId": "fb901dba-6d8c-499d-e533-d011de406e98"
      },
      "execution_count": null,
      "outputs": [
        {
          "output_type": "stream",
          "name": "stdout",
          "text": [
            "{'name': 'Karan', 'age': 19, 'eligible': True, 'DOB': 2003}\n"
          ]
        }
      ]
    },
    {
      "cell_type": "code",
      "source": [
        "info = {'name':'Karan', 'age':19, 'eligible':True, 'DOB':2003}\n",
        "newDictionary = dict(info)\n",
        "print(newDictionary)"
      ],
      "metadata": {
        "colab": {
          "base_uri": "https://localhost:8080/"
        },
        "id": "PT6rNzpiM3Y_",
        "outputId": "8ffa74af-f02d-455e-c61c-1f6f3752d4a4"
      },
      "execution_count": null,
      "outputs": [
        {
          "output_type": "stream",
          "name": "stdout",
          "text": [
            "{'name': 'Karan', 'age': 19, 'eligible': True, 'DOB': 2003}\n"
          ]
        }
      ]
    }
  ]
}