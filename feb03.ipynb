{
  "nbformat": 4,
  "nbformat_minor": 0,
  "metadata": {
    "colab": {
      "provenance": []
    },
    "kernelspec": {
      "name": "python3",
      "display_name": "Python 3"
    },
    "language_info": {
      "name": "python"
    }
  },
  "cells": [
    {
      "cell_type": "code",
      "execution_count": 2,
      "metadata": {
        "colab": {
          "base_uri": "https://localhost:8080/"
        },
        "id": "YAV7z81N3VV1",
        "outputId": "cf8bb37c-8603-49af-a518-84ad437f0795"
      },
      "outputs": [
        {
          "output_type": "stream",
          "name": "stdout",
          "text": [
            "a is not 5 or 2 is not greater than zero.\n"
          ]
        }
      ],
      "source": [
        "a=3\n",
        "b=2\n",
        "if a==5 and b>0:\n",
        "  print('a is 5 and',b,'is greater than zero.')\n",
        "else:\n",
        "  print('a is not 5 or',b,'is not greater than zero.')"
      ]
    },
    {
      "cell_type": "code",
      "source": [
        "#tuple\n",
        "x = tuple()\n",
        "if not x:\n",
        "  print(\"tuple is empty\")\n",
        "else:\n",
        "  print(x)"
      ],
      "metadata": {
        "colab": {
          "base_uri": "https://localhost:8080/"
        },
        "id": "Cb3QPbPL4JIX",
        "outputId": "ae460426-692c-439d-a7df-60bc495c32f7"
      },
      "execution_count": 4,
      "outputs": [
        {
          "output_type": "stream",
          "name": "stdout",
          "text": [
            "tuple is empty\n"
          ]
        }
      ]
    },
    {
      "cell_type": "code",
      "source": [
        "#ternary operator\n",
        "a,b=2,5\n",
        "#get maximum of a,b\n",
        "max = a if a>b else b\n",
        "print('Maximum :', max)"
      ],
      "metadata": {
        "colab": {
          "base_uri": "https://localhost:8080/"
        },
        "id": "SLbUWaSB5LIM",
        "outputId": "68da7481-3bd5-491a-b022-953c11bdd506"
      },
      "execution_count": 5,
      "outputs": [
        {
          "output_type": "stream",
          "name": "stdout",
          "text": [
            "Maximum : 5\n"
          ]
        }
      ]
    },
    {
      "cell_type": "code",
      "source": [
        "a,b=5,2\n",
        "print('Python') if a > b else print('Examples')"
      ],
      "metadata": {
        "colab": {
          "base_uri": "https://localhost:8080/"
        },
        "id": "iaHV6H8Z5pk-",
        "outputId": "2cddebeb-1283-488d-d11f-4e35ad93b9f1"
      },
      "execution_count": 7,
      "outputs": [
        {
          "output_type": "stream",
          "name": "stdout",
          "text": [
            "Python\n"
          ]
        }
      ]
    },
    {
      "cell_type": "code",
      "source": [
        "a, b, c = 15, 93, 22\n",
        "\n",
        "# Nested ternary operator\n",
        "max = a if a > b and a>c else b if b>c else c\n",
        "\n",
        "print(max)"
      ],
      "metadata": {
        "colab": {
          "base_uri": "https://localhost:8080/"
        },
        "id": "6ER5Vt-j5-io",
        "outputId": "b9af5907-4972-4b16-f52f-95713fceb35f"
      },
      "execution_count": 8,
      "outputs": [
        {
          "output_type": "stream",
          "name": "stdout",
          "text": [
            "93\n"
          ]
        }
      ]
    },
    {
      "cell_type": "code",
      "source": [],
      "metadata": {
        "id": "2UujvFfH6YV9"
      },
      "execution_count": null,
      "outputs": []
    }
  ]
}