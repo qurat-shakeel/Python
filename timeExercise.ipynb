{
  "nbformat": 4,
  "nbformat_minor": 0,
  "metadata": {
    "colab": {
      "provenance": []
    },
    "kernelspec": {
      "name": "python3",
      "display_name": "Python 3"
    },
    "language_info": {
      "name": "python"
    }
  },
  "cells": [
    {
      "cell_type": "code",
      "execution_count": 17,
      "metadata": {
        "colab": {
          "base_uri": "https://localhost:8080/"
        },
        "id": "7G1l-7-70jhk",
        "outputId": "630d1ce4-ff43-4ef0-bdcf-728046f6f10c"
      },
      "outputs": [
        {
          "output_type": "stream",
          "name": "stdout",
          "text": [
            "Enter hour: 13\n",
            "Good Afternoon\n"
          ]
        }
      ],
      "source": [
        "import time\n",
        "t = time.strftime('%H:%M:%S')\n",
        "\n",
        "hour = int(time.strftime('%H'))\n",
        "#hour = int(input(\"Enter hour: \"))\n",
        "\n",
        "if(hour>0 and hour<12):\n",
        "  print(\"Good Morning\")\n",
        "elif(hour>=12 and hour<17):\n",
        "  print(\"Good Afternoon\")\n",
        "elif(hour>=17 and hour<0):\n",
        "  print(\"Good Night\")\n"
      ]
    }
  ]
}