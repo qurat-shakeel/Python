{
  "nbformat": 4,
  "nbformat_minor": 0,
  "metadata": {
    "colab": {
      "provenance": []
    },
    "kernelspec": {
      "name": "python3",
      "display_name": "Python 3"
    },
    "language_info": {
      "name": "python"
    }
  },
  "cells": [
    {
      "cell_type": "code",
      "execution_count": null,
      "metadata": {
        "colab": {
          "base_uri": "https://localhost:8080/"
        },
        "id": "DyKelg4mPT6W",
        "outputId": "5062f1ea-1be2-4642-bccc-1584b737b484"
      },
      "outputs": [
        {
          "output_type": "stream",
          "name": "stdout",
          "text": [
            "4.235294117647059\n",
            "first number is greater\n"
          ]
        }
      ],
      "source": [
        "def gmean (a,b):\n",
        "  mean = (a*b)/(a+b)\n",
        "  print(mean)\n",
        "\n",
        "a=9\n",
        "b=8\n",
        "gmean(a,b)\n",
        "\n",
        "if (a>b):\n",
        "  print(\"first number is greater\")\n",
        "else:\n",
        "  print(\"Second number is greater\")\n",
        "\n",
        "\n",
        "\n"
      ]
    },
    {
      "cell_type": "code",
      "source": [
        "def isgreater(a,b):\n",
        "  if(a>b):\n",
        "    print(\"first number is greater\")\n",
        "  else:\n",
        "    print(\"second number is greater or equal\")\n",
        "\n",
        "\n",
        "\n",
        "def islesser(a,b):\n",
        "  pass\n",
        "\n",
        "isgreater(a,b)\n",
        "gmean(a,b)"
      ],
      "metadata": {
        "colab": {
          "base_uri": "https://localhost:8080/"
        },
        "id": "qkyktJQFUiYR",
        "outputId": "2bb2c02e-2218-4321-a6e5-02dfe165e352"
      },
      "execution_count": null,
      "outputs": [
        {
          "output_type": "stream",
          "name": "stdout",
          "text": [
            "first number is greater\n",
            "4.235294117647059\n"
          ]
        }
      ]
    },
    {
      "cell_type": "code",
      "source": [
        "def average(a=9, b=1):\n",
        "  print(\"the average is \", (a+b)/2)\n",
        "\n",
        "average(a=2, b=2)"
      ],
      "metadata": {
        "colab": {
          "base_uri": "https://localhost:8080/"
        },
        "id": "lDG1AEijV3Eo",
        "outputId": "f550b2b9-9015-4607-fe5e-65fabab8dea1"
      },
      "execution_count": null,
      "outputs": [
        {
          "output_type": "stream",
          "name": "stdout",
          "text": [
            "the average is  2.0\n"
          ]
        }
      ]
    },
    {
      "cell_type": "code",
      "source": [
        "average(b=9, a=21)\n"
      ],
      "metadata": {
        "colab": {
          "base_uri": "https://localhost:8080/"
        },
        "id": "bNxGosp2Vc_9",
        "outputId": "22827b8e-9038-4cf3-93bf-ec83ebb812f4"
      },
      "execution_count": null,
      "outputs": [
        {
          "output_type": "stream",
          "name": "stdout",
          "text": [
            "the average is  15.0\n"
          ]
        }
      ]
    },
    {
      "cell_type": "code",
      "source": [
        "def average(a, b=1, c=1 ):\n",
        "  print(\"the average is \", (a+b)/2)\n",
        "\n",
        "average(a=2, b=2)"
      ],
      "metadata": {
        "colab": {
          "base_uri": "https://localhost:8080/"
        },
        "id": "ktnD0harX-Zj",
        "outputId": "ea5a36f0-57f0-40f5-ed72-586a0fd671fc"
      },
      "execution_count": null,
      "outputs": [
        {
          "output_type": "stream",
          "name": "stdout",
          "text": [
            "the average is  2.0\n"
          ]
        }
      ]
    },
    {
      "cell_type": "code",
      "source": [
        "def name(fname, mname =\"xyz\",lname = \"abc\" ):\n",
        "  print(\"hello,\", fname, mname, lname)\n",
        "\n",
        "name(\"qurat\", \"insha\", \"aisha\")"
      ],
      "metadata": {
        "colab": {
          "base_uri": "https://localhost:8080/"
        },
        "id": "Rvm5Wvt_GjPa",
        "outputId": "6fab0cc6-cd00-43ff-ae9f-3af858f736a0"
      },
      "execution_count": 2,
      "outputs": [
        {
          "output_type": "stream",
          "name": "stdout",
          "text": [
            "hello, qurat insha aisha\n"
          ]
        }
      ]
    },
    {
      "cell_type": "code",
      "source": [
        "# required arguments\n",
        "def average(a,b,c):\n",
        "  print(\"the average is \", (a+c)/2)\n",
        "\n",
        "average(b=2,a=6, c=0)  # order doesn't matter in arguments\n",
        "\n"
      ],
      "metadata": {
        "colab": {
          "base_uri": "https://localhost:8080/"
        },
        "id": "uXXeYVxDK3IQ",
        "outputId": "0981c5cf-55a5-4c10-9831-394dc3dbb604"
      },
      "execution_count": 17,
      "outputs": [
        {
          "output_type": "stream",
          "name": "stdout",
          "text": [
            "the average is  3.0\n"
          ]
        }
      ]
    },
    {
      "cell_type": "code",
      "source": [
        "def average(*numbers):\n",
        "  # print(tuple)\n",
        "  sum = 0\n",
        "  for i in numbers:\n",
        "    sum = sum + i\n",
        "  print(\"average is:\", sum/len(numbers))\n",
        "  return 7\n",
        "\n",
        "  #return sum/len(numbers)\n",
        "\n",
        "c = average(5,6,7,8,3,1)\n",
        "print(\"value of c is\",c)      \"\"\" DOUBT \"\"\""
      ],
      "metadata": {
        "colab": {
          "base_uri": "https://localhost:8080/"
        },
        "id": "gu9T96QzMSx4",
        "outputId": "1743beec-e6d3-4b3e-fd9d-1fd64e5ace71"
      },
      "execution_count": 32,
      "outputs": [
        {
          "output_type": "stream",
          "name": "stdout",
          "text": [
            "average is: 5.0\n",
            "value of c is 7\n"
          ]
        }
      ]
    },
    {
      "cell_type": "code",
      "source": [],
      "metadata": {
        "id": "5gAiOSt6N3zz"
      },
      "execution_count": null,
      "outputs": []
    }
  ]
}