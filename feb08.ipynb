{
  "nbformat": 4,
  "nbformat_minor": 0,
  "metadata": {
    "colab": {
      "provenance": []
    },
    "kernelspec": {
      "name": "python3",
      "display_name": "Python 3"
    },
    "language_info": {
      "name": "python"
    }
  },
  "cells": [
    {
      "cell_type": "code",
      "execution_count": 1,
      "metadata": {
        "colab": {
          "base_uri": "https://localhost:8080/"
        },
        "id": "KziZ4LGzttxa",
        "outputId": "b01b3886-fdef-4aa9-dafc-ae1ad9f65a66"
      },
      "outputs": [
        {
          "output_type": "stream",
          "name": "stdout",
          "text": [
            "Value: 124.23\n",
            "Data Type: <class 'float'>\n"
          ]
        }
      ],
      "source": [
        "# implicit conversion --- Automatic type conversion\n",
        "# Converting integer to float\n",
        "integer_number = 123\n",
        "float_number = 1.23\n",
        "\n",
        "new_number = integer_number + float_number\n",
        "\n",
        "# display new value and resulting data type\n",
        "print(\"Value:\",new_number)\n",
        "print(\"Data Type:\",type(new_number))\n",
        "\n"
      ]
    },
    {
      "cell_type": "code",
      "source": [
        "# Explicit conversion  --- Manual type conversion\n",
        "\n",
        "# Addition of string and integer Using Explicit Conversion\n",
        "\n",
        "num_string = '12'\n",
        "num_integer = 23\n",
        "\n",
        "print(\"Data type of num_string before Type Casting:\",type(num_string))\n",
        "\n",
        "# explicit type conversion\n",
        "num_string = int(num_string)\n",
        "\n",
        "print(\"Data type of num_string after Type Casting:\",type(num_string))\n",
        "\n",
        "num_sum = num_integer + num_string\n",
        "\n",
        "print(\"Sum:\",num_sum)\n",
        "print(\"Data type of num_sum:\",type(num_sum))"
      ],
      "metadata": {
        "colab": {
          "base_uri": "https://localhost:8080/"
        },
        "id": "bLUqavczy8Af",
        "outputId": "db041621-15c8-4a42-f819-553d34d68bcb"
      },
      "execution_count": 2,
      "outputs": [
        {
          "output_type": "stream",
          "name": "stdout",
          "text": [
            "Data type of num_string before Type Casting: <class 'str'>\n",
            "Data type of num_string after Type Casting: <class 'int'>\n",
            "Sum: 35\n",
            "Data type of num_sum: <class 'int'>\n"
          ]
        }
      ]
    },
    {
      "cell_type": "code",
      "source": [],
      "metadata": {
        "id": "tKWAU-2h1F08"
      },
      "execution_count": null,
      "outputs": []
    }
  ]
}