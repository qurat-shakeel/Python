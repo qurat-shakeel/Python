{
  "nbformat": 4,
  "nbformat_minor": 0,
  "metadata": {
    "colab": {
      "provenance": []
    },
    "kernelspec": {
      "name": "python3",
      "display_name": "Python 3"
    },
    "language_info": {
      "name": "python"
    }
  },
  "cells": [
    {
      "cell_type": "code",
      "execution_count": null,
      "metadata": {
        "id": "gIR3htftOA9A",
        "colab": {
          "base_uri": "https://localhost:8080/"
        },
        "outputId": "2107635a-1e13-4954-8de0-5448623906aa"
      },
      "outputs": [
        {
          "output_type": "stream",
          "name": "stdout",
          "text": [
            "abc\n"
          ]
        }
      ],
      "source": [
        "##python indentation\n",
        "print(\"abc\")\n"
      ]
    },
    {
      "cell_type": "code",
      "source": [],
      "metadata": {
        "id": "V5glWYz2TtO5"
      },
      "execution_count": null,
      "outputs": []
    },
    {
      "cell_type": "code",
      "source": [],
      "metadata": {
        "id": "a5PA1EeSUC6F"
      },
      "execution_count": null,
      "outputs": []
    },
    {
      "cell_type": "code",
      "source": [
        "print(\"xyz\")\n",
        "print(\"abc\")"
      ],
      "metadata": {
        "colab": {
          "base_uri": "https://localhost:8080/"
        },
        "id": "tQL7hngBUDjW",
        "outputId": "01f99410-6665-496d-d19c-ae49d293b60e"
      },
      "execution_count": 1,
      "outputs": [
        {
          "output_type": "stream",
          "name": "stdout",
          "text": [
            "xyz\n",
            "abc\n"
          ]
        }
      ]
    },
    {
      "cell_type": "code",
      "source": [
        "##conditions in python\n",
        "num = 10\n",
        "if num > 5 :\n",
        "  print(\" if stmt executed\")\n",
        "  print(\" second cmd inside if stmt\")\n",
        "  print(num*10)"
      ],
      "metadata": {
        "colab": {
          "base_uri": "https://localhost:8080/"
        },
        "id": "_rQkpxcvUSEN",
        "outputId": "85c5e079-d933-4741-d72f-551a00a3b325"
      },
      "execution_count": null,
      "outputs": [
        {
          "output_type": "stream",
          "name": "stdout",
          "text": [
            " if stmt executed\n",
            " second cmd inside if stmt\n",
            "100\n"
          ]
        }
      ]
    },
    {
      "cell_type": "code",
      "source": [
        "## comparison operation\n",
        "a = 12\n",
        "#### equal to comparison happens using \"==\"\n",
        "if a == 10:\n",
        " print(\"A is equal to 10\")"
      ],
      "metadata": {
        "id": "xM930jX5V6nE"
      },
      "execution_count": null,
      "outputs": []
    },
    {
      "cell_type": "code",
      "source": [
        "if a!=12:\n",
        " print(\" A is not equal to 10\")"
      ],
      "metadata": {
        "id": "V6ILKjFjV7UX"
      },
      "execution_count": null,
      "outputs": []
    },
    {
      "cell_type": "code",
      "source": [
        "## assignment operaators\n",
        "x = 12\n",
        "print(x)"
      ],
      "metadata": {
        "colab": {
          "base_uri": "https://localhost:8080/"
        },
        "id": "-CIGhjzkV4yy",
        "outputId": "a5ca8d6d-6c71-4a78-fbb3-769e28a46fc6"
      },
      "execution_count": null,
      "outputs": [
        {
          "output_type": "stream",
          "name": "stdout",
          "text": [
            "12\n"
          ]
        }
      ]
    },
    {
      "cell_type": "code",
      "source": [
        "x += 1\n",
        "print(\"x\")"
      ],
      "metadata": {
        "colab": {
          "base_uri": "https://localhost:8080/"
        },
        "id": "baGmABuIW-Yg",
        "outputId": "eb49513f-5335-4570-da01-fbed6b5ca47f"
      },
      "execution_count": null,
      "outputs": [
        {
          "output_type": "stream",
          "name": "stdout",
          "text": [
            "x\n"
          ]
        }
      ]
    },
    {
      "cell_type": "code",
      "source": [
        "x-= 1\n",
        "print (\"x\")"
      ],
      "metadata": {
        "colab": {
          "base_uri": "https://localhost:8080/"
        },
        "id": "fzAcgqthXhVV",
        "outputId": "df886062-5fd8-4306-b757-7f764b2fcbb5"
      },
      "execution_count": null,
      "outputs": [
        {
          "output_type": "stream",
          "name": "stdout",
          "text": [
            "x\n"
          ]
        }
      ]
    },
    {
      "cell_type": "code",
      "source": [
        " x -= 1\n",
        "print(\"x\")"
      ],
      "metadata": {
        "colab": {
          "base_uri": "https://localhost:8080/"
        },
        "id": "lsTXeaisXUbN",
        "outputId": "62f22e02-647f-4272-c236-3972c0820ca3"
      },
      "execution_count": null,
      "outputs": [
        {
          "output_type": "stream",
          "name": "stdout",
          "text": [
            "x\n"
          ]
        }
      ]
    },
    {
      "cell_type": "code",
      "source": [
        "num3 = 19\n",
        "num4 = 7\n",
        "print(num3%num4)"
      ],
      "metadata": {
        "colab": {
          "base_uri": "https://localhost:8080/"
        },
        "id": "-tmZEok9YTMT",
        "outputId": "c87aa8ce-7654-4193-c377-53d77eb0ac17"
      },
      "execution_count": null,
      "outputs": [
        {
          "output_type": "stream",
          "name": "stdout",
          "text": [
            "5\n"
          ]
        }
      ]
    },
    {
      "cell_type": "code",
      "source": [
        "nu"
      ],
      "metadata": {
        "id": "hpchDq_hYsx8"
      },
      "execution_count": null,
      "outputs": []
    },
    {
      "cell_type": "code",
      "source": [],
      "metadata": {
        "id": "LZCtlLHEYt9R"
      },
      "execution_count": null,
      "outputs": []
    },
    {
      "cell_type": "code",
      "source": [
        "x = 2\n",
        "y = 3\n",
        "z=4\n",
        "print(x*y)\n",
        "print(x**y)\n",
        "print(y**x)\n",
        "print(x*y*z)\n",
        "print(x**y)"
      ],
      "metadata": {
        "colab": {
          "base_uri": "https://localhost:8080/"
        },
        "id": "ht5IhO4AYkho",
        "outputId": "fc7217ff-c175-40a3-cd2e-2b739978cbbb"
      },
      "execution_count": null,
      "outputs": [
        {
          "output_type": "stream",
          "name": "stdout",
          "text": [
            "6\n",
            "8\n",
            "9\n",
            "24\n",
            "8\n"
          ]
        }
      ]
    },
    {
      "cell_type": "code",
      "source": [
        "q"
      ],
      "metadata": {
        "id": "4GmVsIamY7My"
      },
      "execution_count": null,
      "outputs": []
    },
    {
      "cell_type": "code",
      "source": [
        "q = 1 + 2 * 3\n",
        "print(q)"
      ],
      "metadata": {
        "colab": {
          "base_uri": "https://localhost:8080/"
        },
        "id": "nTNl3yjeY8cn",
        "outputId": "b92e71f1-e1d8-4a22-bc58-e89e2ee58f9b"
      },
      "execution_count": null,
      "outputs": [
        {
          "output_type": "stream",
          "name": "stdout",
          "text": [
            "7\n"
          ]
        }
      ]
    },
    {
      "cell_type": "code",
      "source": [
        "num10 = 15\n",
        "if num10 > 16:\n",
        " print(\"it is greater than 16\")\n",
        "else:\n",
        " print(\"less than 16\")"
      ],
      "metadata": {
        "colab": {
          "base_uri": "https://localhost:8080/"
        },
        "id": "8m4y_e9RZfEX",
        "outputId": "69753df5-8384-4e64-adf3-91220041b4e3"
      },
      "execution_count": null,
      "outputs": [
        {
          "output_type": "stream",
          "name": "stdout",
          "text": [
            "less than 16\n"
          ]
        }
      ]
    },
    {
      "cell_type": "code",
      "source": [
        "if num10 > 16:\n",
        "   print(\" greater than 16\")\n",
        "elif num10> 10:\n",
        "   print(\"greater than 10 but less than 16\")\n",
        "else:\n",
        "  print(\"less than or equal to 16\")"
      ],
      "metadata": {
        "colab": {
          "base_uri": "https://localhost:8080/"
        },
        "id": "ZR7HudziaCZR",
        "outputId": "9dd847a1-2b3a-4c0c-eb34-fe986b503ce9"
      },
      "execution_count": null,
      "outputs": [
        {
          "output_type": "stream",
          "name": "stdout",
          "text": [
            "greater than 10 but less than 16\n"
          ]
        }
      ]
    },
    {
      "cell_type": "code",
      "source": [
        "num1 = 1\n",
        "num2 = 2\n",
        "print(num1-num2)\n"
      ],
      "metadata": {
        "colab": {
          "base_uri": "https://localhost:8080/"
        },
        "id": "LIfVSg7dYBgX",
        "outputId": "336b3441-ef8b-44b6-bbb4-f3c3be52a002"
      },
      "execution_count": null,
      "outputs": [
        {
          "output_type": "stream",
          "name": "stdout",
          "text": [
            "-1\n"
          ]
        }
      ]
    },
    {
      "cell_type": "code",
      "source": [
        "if 10>5 :\n",
        "  print(\"this condition is true\")\n",
        "  print(\"second line\")\n"
      ],
      "metadata": {
        "colab": {
          "base_uri": "https://localhost:8080/"
        },
        "id": "_F3c683iVqMM",
        "outputId": "ec44f765-0e29-4870-bdb9-6aeae7c688e8"
      },
      "execution_count": null,
      "outputs": [
        {
          "output_type": "stream",
          "name": "stdout",
          "text": [
            "this condition is true\n",
            "second line\n"
          ]
        }
      ]
    }
  ]
}