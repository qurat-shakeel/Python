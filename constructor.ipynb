{
  "nbformat": 4,
  "nbformat_minor": 0,
  "metadata": {
    "colab": {
      "provenance": []
    },
    "kernelspec": {
      "name": "python3",
      "display_name": "Python 3"
    },
    "language_info": {
      "name": "python"
    }
  },
  "cells": [
    {
      "cell_type": "code",
      "execution_count": 1,
      "metadata": {
        "colab": {
          "base_uri": "https://localhost:8080/"
        },
        "id": "EWEKva7fyLiv",
        "outputId": "835d4ce4-68c6-4fcc-f012-5950099a723c"
      },
      "outputs": [
        {
          "output_type": "stream",
          "name": "stdout",
          "text": [
            "qurat\n"
          ]
        }
      ],
      "source": [
        "class person:\n",
        "  name = \"qurat\"\n",
        "  occ = \"developer\"\n",
        "\n",
        "  def info(self):\n",
        "    print(f\"{self.name} is a {self.occ}\")\n",
        "a = person()\n",
        "print(a.name)"
      ]
    },
    {
      "cell_type": "code",
      "source": [
        "class person:\n",
        "  name = \"qurat\"\n",
        "  occ = \"developer\"\n",
        "\n",
        "  def info(self):\n",
        "    print(f\"{self.name} is a {self.occ}\")\n",
        "a = person()\n",
        "a.info()"
      ],
      "metadata": {
        "colab": {
          "base_uri": "https://localhost:8080/"
        },
        "id": "7EQnDQkdytQ0",
        "outputId": "882b2450-504a-48b7-9a07-80f74745edd4"
      },
      "execution_count": 2,
      "outputs": [
        {
          "output_type": "stream",
          "name": "stdout",
          "text": [
            "qurat is a developer\n"
          ]
        }
      ]
    },
    {
      "cell_type": "code",
      "source": [],
      "metadata": {
        "id": "l4x_P_l909l7"
      },
      "execution_count": null,
      "outputs": []
    },
    {
      "cell_type": "code",
      "source": [
        "class person:\n",
        "  def __init__(self,n,o):\n",
        "    print(\"hey i am a person\")\n",
        "    self.name = n\n",
        "    self.occ = o\n",
        "\n",
        "\n",
        "  def info(self):\n",
        "    print(f\"{self.name} is a {self.occ}\")\n",
        "a = person(\"qurat\",\"developer\")\n",
        "b = person(\"aisha\",\"HR\")\n",
        "\n",
        "a.info()\n",
        "b.info()"
      ],
      "metadata": {
        "colab": {
          "base_uri": "https://localhost:8080/"
        },
        "id": "TubG26OVy7d9",
        "outputId": "0b81ad3f-a4c5-4a7c-c2c9-e6be6b3d76ca"
      },
      "execution_count": 11,
      "outputs": [
        {
          "output_type": "stream",
          "name": "stdout",
          "text": [
            "hey i am a person\n",
            "hey i am a person\n",
            "qurat is a developer\n",
            "aisha is a HR\n"
          ]
        }
      ]
    }
  ]
}