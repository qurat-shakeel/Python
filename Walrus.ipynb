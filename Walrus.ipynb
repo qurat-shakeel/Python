{
  "nbformat": 4,
  "nbformat_minor": 0,
  "metadata": {
    "colab": {
      "provenance": []
    },
    "kernelspec": {
      "name": "python3",
      "display_name": "Python 3"
    },
    "language_info": {
      "name": "python"
    }
  },
  "cells": [
    {
      "cell_type": "code",
      "execution_count": 1,
      "metadata": {
        "colab": {
          "base_uri": "https://localhost:8080/"
        },
        "id": "gt53LMxGXlri",
        "outputId": "179e6177-b10e-4495-c219-02aa5303b8af"
      },
      "outputs": [
        {
          "output_type": "stream",
          "name": "stdout",
          "text": [
            "5\n",
            "4\n",
            "3\n",
            "2\n",
            "1\n"
          ]
        }
      ],
      "source": [
        "#walrus    := can be used in variety of contexts. it assigns value to variables as per of larger expression\n",
        "\n",
        "#a = True\n",
        "#print(a:=False)\n",
        "numbers = [1,2,3,4,5]\n",
        "\n",
        "while(n := len(numbers)) > 0:\n",
        "  print(numbers.pop())"
      ]
    },
    {
      "cell_type": "code",
      "source": [
        "happy = False\n",
        "print(happy)\n",
        "\n",
        "print(happy := True)\n",
        "\n",
        "foods = list()\n",
        "while True:\n",
        "  food = input(\"What food do you like?\")\n",
        "  if food == \"quit\":\n",
        "      break\n",
        "  foods.append(food)"
      ],
      "metadata": {
        "colab": {
          "base_uri": "https://localhost:8080/"
        },
        "id": "wPTUcD4zZJ2s",
        "outputId": "8d7cfe44-61ed-42cf-ec39-9384c79ed62f"
      },
      "execution_count": 6,
      "outputs": [
        {
          "name": "stdout",
          "output_type": "stream",
          "text": [
            "What food do you like?apple\n",
            "What food do you like?mango\n",
            "What food do you like?orange\n",
            "What food do you like?quit\n"
          ]
        }
      ]
    },
    {
      "cell_type": "code",
      "source": [
        "a = True\n",
        "print(a:=False)\n",
        "\n"
      ],
      "metadata": {
        "colab": {
          "base_uri": "https://localhost:8080/"
        },
        "id": "crmuRRNfYtn3",
        "outputId": "08f1bcd0-65a5-4d6e-e85a-6d2c44b0d54a"
      },
      "execution_count": 2,
      "outputs": [
        {
          "output_type": "stream",
          "name": "stdout",
          "text": [
            "False\n"
          ]
        }
      ]
    },
    {
      "cell_type": "code",
      "source": [
        "foods = list()\n",
        "while (food := input(\"What food do you like?\")) != \"quit\":\n",
        "  foods.append(food)"
      ],
      "metadata": {
        "colab": {
          "base_uri": "https://localhost:8080/"
        },
        "id": "EpnpzxBfaUDm",
        "outputId": "5ee8cd1f-11c0-4193-c322-0ab88a936d9d"
      },
      "execution_count": 8,
      "outputs": [
        {
          "name": "stdout",
          "output_type": "stream",
          "text": [
            "What food do you like?roti\n",
            "What food do you like?sabzi\n",
            "What food do you like?quit\n"
          ]
        }
      ]
    }
  ]
}