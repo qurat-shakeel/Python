{
  "nbformat": 4,
  "nbformat_minor": 0,
  "metadata": {
    "colab": {
      "provenance": []
    },
    "kernelspec": {
      "name": "python3",
      "display_name": "Python 3"
    },
    "language_info": {
      "name": "python"
    }
  },
  "cells": [
    {
      "cell_type": "code",
      "execution_count": null,
      "metadata": {
        "colab": {
          "base_uri": "https://localhost:8080/"
        },
        "id": "mcPt1wusCkB-",
        "outputId": "7dbcde58-1ebe-4b89-d27f-14be13d7a0fb"
      },
      "outputs": [
        {
          "output_type": "stream",
          "name": "stdout",
          "text": [
            "Enter the number: jhgfghj\n",
            "invalid literal for int() with base 10: 'jhgfghj'\n",
            "invalid input\n"
          ]
        }
      ],
      "source": [
        "a = input(\"Enter the number: \")\n",
        "\n",
        "try:\n",
        "  for i in range(1,11):\n",
        "    print(f\"{int(a)} X {i} = {int(a)*i}\")\n",
        "    print(\"Multiplication table of {a} is: \")\n",
        "except Exception as e:\n",
        "  print(e)\n",
        "\n",
        "  print(\"invalid input\")"
      ]
    },
    {
      "cell_type": "code",
      "source": [],
      "metadata": {
        "id": "iygonXL2Gbhj"
      },
      "execution_count": null,
      "outputs": []
    }
  ]
}